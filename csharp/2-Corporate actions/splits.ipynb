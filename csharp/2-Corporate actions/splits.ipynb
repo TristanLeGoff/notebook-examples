{
 "cells": [
  {
   "cell_type": "markdown",
   "id": "utility-selling",
   "metadata": {},
   "source": [
    "# Splits extraction using dedicated service - C#\n",
    "\n",
    "### Overview\n",
    "This sample requests **on-demand** splits by calling a dedicated data service.\n",
    "\n",
    "### Inputs/outputs\n",
    "Splits sample is designed to help you searching and requesting dividends for a given instrument.\n",
    "* It takes instrument specification parameter(s) as per input filter and returns *Dividends*\n",
    "\n",
    "### Services used\n",
    "This sample uses *gRPC requests* in order to retrieve splits data from the hosted service. The queried endpoint in this script are:\n",
    "* *SplitsService*: to directly retrieve splits data objects from the server\n",
    "\n",
    "### Packages required\n",
    "1. Systemathics packages:\n",
    "    * *Systemathics.Apis.Type.Shared.V1*\n",
    "    * *Systemathics.Apis.Services.CorporateActions.V1*\n",
    "2. Open source packages\n",
    "    * *Google.Protobuf.WellKnownTypes*\n",
    "    * *Google.Type*\n",
    "    * *Grpc.Net.Client*\n",
    "    * *Grpc.Core*\n",
    "\n",
    "***"
   ]
  },
  {
   "cell_type": "markdown",
   "id": "formed-vacuum",
   "metadata": {},
   "source": [
    "# Run splits sample"
   ]
  },
  {
   "cell_type": "markdown",
   "id": "representative-accident",
   "metadata": {},
   "source": [
    "### Step 1: Install packages"
   ]
  },
  {
   "cell_type": "code",
   "execution_count": null,
   "id": "guided-investigator",
   "metadata": {},
   "outputs": [],
   "source": [
    "#r \"nuget: Systemathics.Apis, 0.9.27\""
   ]
  },
  {
   "cell_type": "code",
   "execution_count": null,
   "id": "romantic-buying",
   "metadata": {},
   "outputs": [],
   "source": [
    "using Systemathics.Apis.Type.Shared.V1;\n",
    "using Systemathics.Apis.Services.CorporateActions.V1;\n",
    "using Google.Protobuf.WellKnownTypes;\n",
    "using Google.Type;\n",
    "using Grpc.Net.Client;\n",
    "using Grpc.Core;"
   ]
  },
  {
   "cell_type": "markdown",
   "id": "spectacular-truth",
   "metadata": {},
   "source": [
    "### Step 2: Prepare API requests\n",
    "The following code snippets retrieve authentication token and prepare the API request by: opening the *channel* and adding the *token* to the request header:"
   ]
  },
  {
   "cell_type": "code",
   "execution_count": null,
   "id": "crucial-agency",
   "metadata": {},
   "outputs": [],
   "source": [
    "// Retrieve authentication token\n",
    "var token = System.Environment.GetEnvironmentVariable(\"AUTH0_TOKEN\");\n",
    "\n",
    "// Add token to the request header\n",
    "var headers = new Metadata();\n",
    "headers.Add(\"Authorization\", $\"Bearer {token}\");\n",
    "\n",
    "// Define API entry\n",
    "var channel = GrpcChannel.ForAddress(\"https://apis.systemathics.cloud\");"
   ]
  },
  {
   "cell_type": "code",
   "execution_count": null,
   "id": "extended-buyer",
   "metadata": {},
   "outputs": [],
   "source": [
    "// Display authentication token \n",
    "display(token);"
   ]
  },
  {
   "cell_type": "markdown",
   "id": "intellectual-income",
   "metadata": {},
   "source": [
    "### Step 3: Retrieve splits"
   ]
  },
  {
   "cell_type": "markdown",
   "id": "compound-transparency",
   "metadata": {},
   "source": [
    "#### 3.1 Equity selection"
   ]
  },
  {
   "cell_type": "code",
   "execution_count": null,
   "id": "beautiful-outdoors",
   "metadata": {},
   "outputs": [],
   "source": [
    "// Set the instrument identifier \n",
    "var ticker = \"AAPL\";\n",
    "var exchange = \"XNGS\";"
   ]
  },
  {
   "cell_type": "markdown",
   "id": "geographic-subdivision",
   "metadata": {},
   "source": [
    "#### 3.2 Create and process request"
   ]
  },
  {
   "cell_type": "code",
   "execution_count": null,
   "id": "typical-effectiveness",
   "metadata": {},
   "outputs": [],
   "source": [
    "// instantiate the splits service\n",
    "var service = new SplitsService.SplitsServiceClient(channel);\n",
    "\n",
    "// Generate the splits request\n",
    "var request = new SplitsRequest \n",
    "{ \n",
    "    Identifier = new Identifier { Exchange = exchange, Ticker = ticker} \n",
    "};\n",
    "\n",
    "// Get the splits reply\n",
    "var reply = service.Splits(request, headers);"
   ]
  },
  {
   "cell_type": "markdown",
   "id": "raising-oregon",
   "metadata": {},
   "source": [
    "#### 3.3 Retrieve splits"
   ]
  },
  {
   "cell_type": "code",
   "execution_count": null,
   "id": "experienced-understanding",
   "metadata": {},
   "outputs": [],
   "source": [
    "// Visualize splits results\n",
    "display(reply.Data)"
   ]
  },
  {
   "cell_type": "markdown",
   "id": "wanted-channels",
   "metadata": {},
   "source": [
    "#### 3.4 Add dates constraints"
   ]
  },
  {
   "cell_type": "code",
   "execution_count": null,
   "id": "random-helping",
   "metadata": {},
   "outputs": [],
   "source": [
    "// Set data interval (we are using Google date time format)\n",
    "var dateIntervals = new DateInterval()\n",
    "{\n",
    "  StartDate = new Date { Year = 2020, Month = 01, Day = 01 },\n",
    "  EndDate = new Date { Year = 2021, Month = 03, Day = 31 }\n",
    "};\n",
    "\n",
    "// Generate constraints based on the previous date selection\n",
    "// Time constraints are not neeeded for the splits\n",
    "var constraints = new Constraints(); \n",
    "constraints.DateIntervals.Add(dateIntervals);"
   ]
  },
  {
   "cell_type": "code",
   "execution_count": null,
   "id": "round-beauty",
   "metadata": {},
   "outputs": [],
   "source": [
    "// Generate the splits request with dates constraints\n",
    "var request = new SplitsRequest \n",
    "{ \n",
    "    Identifier = new Identifier { Exchange = exchange, Ticker = ticker},\n",
    "    Constraints = constraints\n",
    "};\n",
    "\n",
    "// Get the splits reply with dates constraints\n",
    "var reply = service.Splits(request, headers);"
   ]
  },
  {
   "cell_type": "markdown",
   "id": "higher-connectivity",
   "metadata": {},
   "source": [
    "#### 3.5 Retrieve splits"
   ]
  },
  {
   "cell_type": "code",
   "execution_count": null,
   "id": "identical-sharp",
   "metadata": {},
   "outputs": [],
   "source": [
    "// Visualize splits results\n",
    "display(reply.Data)"
   ]
  },
  {
   "cell_type": "code",
   "execution_count": null,
   "id": "exact-astronomy",
   "metadata": {},
   "outputs": [],
   "source": []
  }
 ],
 "metadata": {
  "language_info": {
   "name": "python",
   "pygments_lexer": "ipython3"
  }
 },
 "nbformat": 4,
 "nbformat_minor": 5
}
