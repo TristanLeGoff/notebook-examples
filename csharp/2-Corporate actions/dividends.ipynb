{
 "cells": [
  {
   "cell_type": "markdown",
   "id": "outside-encyclopedia",
   "metadata": {},
   "source": [
    "# Dividends extraction using dedicated service - C#\n",
    "\n",
    "### Overview\n",
    "This sample requests **on-demand** dividends by calling a dedicated data service.\n",
    "\n",
    "### Inputs/outputs\n",
    "Dividends sample is designed to help you searching and requesting dividends for a given instrument.\n",
    "* It takes instrument specification parameter(s) as per input filter and returns *Dividends*\n",
    "\n",
    "### Services used\n",
    "This sample uses *gRPC requests* in order to retrieve dividends from the hosted service. The queried endpoint in this script are:\n",
    "* *DividendsService*: to directly retrieve dividends data objects from the server\n",
    "\n",
    "### Packages required\n",
    "1. Systemathics packages:\n",
    "    * *Systemathics.Apis.Type.Shared.V1*\n",
    "    * *Systemathics.Apis.Services.CorporateActions.V1*\n",
    "2. Open source packages\n",
    "    * *Google.Protobuf.WellKnownTypes*\n",
    "    * *Google.Type*\n",
    "    * *Grpc.Net.Client*\n",
    "    * *Grpc.Core*\n",
    "\n",
    "***"
   ]
  },
  {
   "cell_type": "markdown",
   "id": "interior-picnic",
   "metadata": {},
   "source": [
    "# Run dividends sample"
   ]
  },
  {
   "cell_type": "markdown",
   "id": "offshore-pottery",
   "metadata": {},
   "source": [
    "### Step 1: Install packages"
   ]
  },
  {
   "cell_type": "code",
   "execution_count": null,
   "id": "accompanied-return",
   "metadata": {},
   "outputs": [],
   "source": [
    "#r \"nuget: Systemathics.Apis, 0.9.27\""
   ]
  },
  {
   "cell_type": "code",
   "execution_count": null,
   "id": "nutritional-entity",
   "metadata": {},
   "outputs": [],
   "source": [
    "using Systemathics.Apis.Type.Shared.V1;\n",
    "using Systemathics.Apis.Services.CorporateActions.V1;\n",
    "using Google.Protobuf.WellKnownTypes;\n",
    "using Google.Type;\n",
    "using Grpc.Net.Client;\n",
    "using Grpc.Core;"
   ]
  },
  {
   "cell_type": "markdown",
   "id": "broken-worse",
   "metadata": {},
   "source": [
    "### Step 2: Prepare API requests\n",
    "The following code snippets retrieve authentication token and prepare the API request by: opening the *channel* and adding the *token* to the request header:"
   ]
  },
  {
   "cell_type": "code",
   "execution_count": null,
   "id": "cutting-jacksonville",
   "metadata": {},
   "outputs": [],
   "source": [
    "// Retrieve authentication token\n",
    "var token = System.Environment.GetEnvironmentVariable(\"AUTH0_TOKEN\");\n",
    "\n",
    "// Add token to the request header\n",
    "var headers = new Metadata();\n",
    "headers.Add(\"Authorization\", $\"Bearer {token}\");\n",
    "\n",
    "// Define API entry\n",
    "var channel = GrpcChannel.ForAddress(\"https://apis.systemathics.cloud\");"
   ]
  },
  {
   "cell_type": "code",
   "execution_count": null,
   "id": "plastic-invalid",
   "metadata": {},
   "outputs": [],
   "source": [
    "// Display authentication token \n",
    "display(token);"
   ]
  },
  {
   "cell_type": "markdown",
   "id": "sublime-philip",
   "metadata": {},
   "source": [
    "### Step 3: Retrieve dividends"
   ]
  },
  {
   "cell_type": "markdown",
   "id": "primary-wyoming",
   "metadata": {},
   "source": [
    "#### 3.1 Equity selection"
   ]
  },
  {
   "cell_type": "code",
   "execution_count": null,
   "id": "heard-springfield",
   "metadata": {},
   "outputs": [],
   "source": [
    "// Set the instrument identifier \n",
    "var ticker = \"AAPL\";\n",
    "var exchange = \"XNGS\";"
   ]
  },
  {
   "cell_type": "markdown",
   "id": "banner-heart",
   "metadata": {},
   "source": [
    "#### 3.2 Create and process request"
   ]
  },
  {
   "cell_type": "code",
   "execution_count": null,
   "id": "paperback-handbook",
   "metadata": {},
   "outputs": [],
   "source": [
    "// instantiate the dividends service\n",
    "var service = new DividendsService.DividendsServiceClient(channel);\n",
    "\n",
    "// Generate the dividends request\n",
    "var request = new DividendsRequest \n",
    "{ \n",
    "    Identifier = new Identifier { Exchange = exchange, Ticker = ticker} \n",
    "};\n",
    "\n",
    "// Get the dividends reply\n",
    "var reply = service.Dividends(request, headers);"
   ]
  },
  {
   "cell_type": "markdown",
   "id": "determined-summer",
   "metadata": {},
   "source": [
    "#### 3.3 Retrieve dividends"
   ]
  },
  {
   "cell_type": "code",
   "execution_count": null,
   "id": "protecting-chocolate",
   "metadata": {},
   "outputs": [],
   "source": [
    "// Visualize dividends results\n",
    "display(reply.Data)"
   ]
  },
  {
   "cell_type": "markdown",
   "id": "dried-resident",
   "metadata": {},
   "source": [
    "#### 3.4 Add dates constraints"
   ]
  },
  {
   "cell_type": "code",
   "execution_count": null,
   "id": "disciplinary-subdivision",
   "metadata": {},
   "outputs": [],
   "source": [
    "// Set data interval (we are using Google date time format)\n",
    "var dateIntervals = new DateInterval()\n",
    "{\n",
    "  StartDate = new Date { Year = 2020, Month = 01, Day = 01 },\n",
    "  EndDate = new Date { Year = 2021, Month = 03, Day = 31 }\n",
    "};\n",
    "\n",
    "// Generate constraints based on the previous date selection\n",
    "// Time constraints are not neeeded for the splits\n",
    "var constraints = new Constraints(); \n",
    "constraints.DateIntervals.Add(dateIntervals);"
   ]
  },
  {
   "cell_type": "code",
   "execution_count": null,
   "id": "noticed-liabilities",
   "metadata": {},
   "outputs": [],
   "source": [
    "// Generate the dividends request with dates constraints\n",
    "var request = new DividendsRequest \n",
    "{ \n",
    "    Identifier = new Identifier { Exchange = exchange, Ticker = ticker},\n",
    "    Constraints = constraints\n",
    "};\n",
    "\n",
    "// Get the dividends reply with dates constraints\n",
    "var reply = service.Dividends(request, headers);"
   ]
  },
  {
   "cell_type": "markdown",
   "id": "assigned-expert",
   "metadata": {},
   "source": [
    "#### 3.5 Retrieve dividends"
   ]
  },
  {
   "cell_type": "code",
   "execution_count": null,
   "id": "fewer-connectivity",
   "metadata": {},
   "outputs": [],
   "source": [
    "// Visualize dividends results\n",
    "display(reply.Data)"
   ]
  },
  {
   "cell_type": "code",
   "execution_count": null,
   "id": "minimal-taylor",
   "metadata": {},
   "outputs": [],
   "source": []
  }
 ],
 "metadata": {
  "language_info": {
   "name": "python",
   "pygments_lexer": "ipython3"
  }
 },
 "nbformat": 4,
 "nbformat_minor": 5
}
