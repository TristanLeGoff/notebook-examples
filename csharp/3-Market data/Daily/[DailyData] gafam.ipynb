{
 "cells": [
  {
   "cell_type": "markdown",
   "metadata": {},
   "source": [
    "# Generate GAFAM data using daily data service - C#\n",
    "\n",
    "### Overview\n",
    "GAFAM is an acronym for five popular U.S. tech stocks: Google (Alphabet Inc), Apple, Facebook, Amazon, and Microsoft.  \n",
    "\n",
    "This sample demonstrates how to directly request and plot simultaneously `daily data` for GAFAM instruments and index.<br>\n",
    "\n",
    "It enables to retrieve **on-demand** data by calling a dedicated daily data service. \n",
    "\n",
    "### Inputs/outputs\n",
    "GAFAM sample requires instruments' identifier as per input. It:\n",
    "* retrives close prices from open-high-low-close (OHLC) and volume data\n",
    "* computes GAFAM index\n",
    "\n",
    "This sample also shows how to plot a simple graph for basis financial analysis using an open source library.\n",
    "\n",
    "### Services used\n",
    "This sample uses *gRPC requests* in order to retrieve daily data from the dedicated hosted service. The queried endpoint in this script are:\n",
    "* *DailyBarsService*: to directly retrieve daily data objects from the server\n",
    "\n",
    "### Packages required\n",
    "1. Systemathics packages:\n",
    "    * *Systemathics.Apis.Type.Shared.V1*\n",
    "    * *Systemathics.Apis.Services.Daily.V1*\n",
    "2. Open source packages\n",
    "    * *Google.Protobuf.WellKnownTypes*\n",
    "    * *Google.Type*\n",
    "    * *Grpc.Net.Client*\n",
    "    * *Grpc.Core*\n",
    "    * *XPlot.Plotly* as per display package\n",
    "\n",
    "***"
   ]
  },
  {
   "cell_type": "markdown",
   "metadata": {},
   "source": [
    "# Run GAFAM sample"
   ]
  },
  {
   "cell_type": "markdown",
   "metadata": {},
   "source": [
    "### Step 1: Install packages"
   ]
  },
  {
   "cell_type": "code",
   "execution_count": null,
   "metadata": {},
   "outputs": [],
   "source": [
    "#r \"nuget:Systemathics.Apis\"\r\n",
    "#r \"nuget: XPlot.Plotly\"\r\n",
    "#r \"nuget: XPlot.Plotly.Interactive\""
   ]
  },
  {
   "cell_type": "code",
   "execution_count": null,
   "metadata": {},
   "outputs": [],
   "source": [
    "using Systemathics.Apis.Type.Shared.V1;\n",
    "using Systemathics.Apis.Services.Daily.V1;\n",
    "using Google.Protobuf.WellKnownTypes;\n",
    "using Google.Type;\n",
    "using Grpc.Net.Client;\n",
    "using Grpc.Core;\n",
    "using XPlot.Plotly;\n",
    "using XPlot.Plotly.Interactive;"
   ]
  },
  {
   "cell_type": "markdown",
   "metadata": {},
   "source": [
    "### Step 2: Prepare API requests\n",
    "The following code snippets retrieve authentication token and prepare the API request by: opening the *channel* and adding the *token* to the request header:"
   ]
  },
  {
   "cell_type": "code",
   "execution_count": null,
   "metadata": {},
   "outputs": [],
   "source": [
    "// Retrieve authentication token\n",
    "var token = System.Environment.GetEnvironmentVariable(\"AUTH0_TOKEN\");\n",
    "\n",
    "// Add token to the request header\n",
    "var headers = new Metadata();\n",
    "headers.Add(\"Authorization\", $\"Bearer {token}\");\n",
    "\n",
    "// Define API entry\n",
    "var channel = GrpcChannel.ForAddress(\"https://apis.systemathics.cloud\");"
   ]
  },
  {
   "cell_type": "code",
   "execution_count": null,
   "metadata": {},
   "outputs": [],
   "source": [
    "// Display authentication token \n",
    "display(token);"
   ]
  },
  {
   "cell_type": "markdown",
   "metadata": {},
   "source": [
    "### Step 3: Create and process request"
   ]
  },
  {
   "cell_type": "markdown",
   "metadata": {},
   "source": [
    "#### 3.1 Request Parameters\n",
    "The following code snippet ensure required objects are created and proceed to request instantiation.\n",
    "Here is the list of required objects:\n",
    "* Time period selection: select start and end dates\n",
    "* *DailyBarsService* in order to retrieve daily data"
   ]
  },
  {
   "cell_type": "code",
   "execution_count": null,
   "metadata": {},
   "outputs": [],
   "source": [
    "// Set time period\n",
    "// If the time interval is not specified, the service will answer with all the full history\n",
    "var today = DateTime.Today;\n",
    "var startDate =  new Date { Year = 2010, Month = 01, Day = 01 };\n",
    "var endDate = new Date { Year = today.Year, Month = today.Month, Day = today.Day };\n",
    "\n",
    "// Build the daily data request date interval (we are using Google date time format : we have to cast the dates)\n",
    "var dateIntervals = new DateInterval() { StartDate = startDate, EndDate = endDate};"
   ]
  },
  {
   "cell_type": "markdown",
   "metadata": {},
   "source": [
    "#### 3.2 Request creation"
   ]
  },
  {
   "cell_type": "code",
   "execution_count": null,
   "metadata": {},
   "outputs": [],
   "source": [
    "// Generate contraints based on previous dates selections\n",
    "var constraints = new Constraints(); \n",
    "constraints.DateIntervals.Add(dateIntervals);"
   ]
  },
  {
   "cell_type": "code",
   "execution_count": null,
   "metadata": {},
   "outputs": [],
   "source": [
    "// Instantiate the daily data service\n",
    "var service = new DailyBarsService.DailyBarsServiceClient(channel);"
   ]
  },
  {
   "cell_type": "markdown",
   "metadata": {},
   "source": [
    "#### 3.3 Retrieve components close prices\n",
    "The following code snippet defines a method that retrieves a *close prices* over time for a given instrument. This method takes *DailyData reply* as per input and returns a *dates* and *close prices* dictionary."
   ]
  },
  {
   "cell_type": "code",
   "execution_count": null,
   "metadata": {},
   "outputs": [],
   "source": [
    "// Create method to retrieve close prices time series from daily data response\n",
    "public static Dictionary<DateTime, double> GetPrices(DailyBar[] data)\n",
    "{\n",
    "    var pricesDict = new Dictionary<DateTime, double>(); \n",
    "    foreach (var reply in data)\n",
    "    {\n",
    "        var date = new DateTime(reply.Date.Year, reply.Date.Month, reply.Date.Day);\n",
    "        pricesDict[date] = reply.Close;\n",
    "    }\n",
    "    return pricesDict;\n",
    "}"
   ]
  },
  {
   "cell_type": "markdown",
   "metadata": {},
   "source": [
    "The following code snippet defines a method that generates a *daily data request* for a given instrument. This method takes *Exchange* and *Ticker* as per inputs and returns a *DailyRequest*."
   ]
  },
  {
   "cell_type": "code",
   "execution_count": null,
   "metadata": {},
   "outputs": [],
   "source": [
    "// Create method to generate daily data request for each instrument\n",
    "public static DailyBarsRequest GenerateRequest(string exchange, string ticker, Constraints constraints)\n",
    "{\n",
    "    return new DailyBarsRequest {Identifier = new Identifier { Exchange = exchange , Ticker = ticker}, Constraints = constraints};\n",
    "}"
   ]
  },
  {
   "cell_type": "markdown",
   "metadata": {},
   "source": [
    "The following code snippet retrieves *close prices* over time for GAFAM instruments by calling the previous methods and the *dailyService* in order to retrieve daily data."
   ]
  },
  {
   "cell_type": "code",
   "execution_count": null,
   "metadata": {},
   "outputs": [],
   "source": [
    "var pricesByInstrument = new Dictionary<string, Dictionary<DateTime, double>>();\n",
    "var tickers = new List<string> {\"GOOGL\", \"AAPL\", \"FB\", \"AMZN\", \"MSFT\"};\n",
    "\n",
    "foreach (var ticker in tickers)\n",
    "{\n",
    "    var request = GenerateRequest(\"XNGS\", ticker, constraints);\n",
    "    var reply = service.DailyBars(request, headers);\n",
    "    var prices = GetPrices(reply.Data.ToArray());\n",
    "    pricesByInstrument[ticker] = prices;\n",
    "}"
   ]
  },
  {
   "cell_type": "markdown",
   "metadata": {},
   "source": [
    "#### 3.4 Compute GAFAM index\n",
    "The following code snippets computes the GAFAM index:"
   ]
  },
  {
   "cell_type": "code",
   "execution_count": null,
   "metadata": {},
   "outputs": [],
   "source": [
    "// Merge dates in a single list\n",
    "// Not all the instruments are quoted at the same time\n",
    "// For example : Facebook starts trading in 2012, Google before 2010\n",
    "// We will compute our index based on available assets over the time\n",
    "var allDates = new List<DateTime>();\n",
    "foreach (var elt in pricesByInstrument.Keys) \n",
    "{\n",
    "    var tmpdict = pricesByInstrument[elt];\n",
    "    foreach (var key in tmpdict.Keys) \n",
    "    {\n",
    "        allDates.Add(key);\n",
    "    }\n",
    "}\n",
    "var dates = allDates.Distinct().OrderBy(d => d);\n",
    "//display(dates.ToArray())"
   ]
  },
  {
   "cell_type": "code",
   "execution_count": null,
   "metadata": {},
   "outputs": [],
   "source": [
    "// Compute the index : equal weight index\n",
    "var indexValues = new Dictionary<DateTime, double>();\n",
    "\n",
    "// Weight by instruments over the days\n",
    "var weightByInstrument = new Dictionary<string, Dictionary<DateTime, double>>();\n",
    "\n",
    "foreach( var instrument in pricesByInstrument.Keys)\n",
    "{\n",
    "    weightByInstrument[instrument] = new Dictionary<DateTime, double>();\n",
    "}\n",
    "\n",
    "// Build the index and the weights for all the instruments over all the days\n",
    "foreach (var date in dates) \n",
    "{\n",
    "    // Index price\n",
    "    var index = 0.0;\n",
    "    var counter = 0;\n",
    "    foreach( var instrument in pricesByInstrument.Keys)\n",
    "    {\n",
    "        var test = pricesByInstrument[instrument].TryGetValue(date, out var tmp);\n",
    "        if (test) \n",
    "        {\n",
    "            index += tmp;\n",
    "            counter++;\n",
    "        }\n",
    "    }\n",
    "\n",
    "    index =  counter > 0 ? index / counter : 0.0;\n",
    "    indexValues[date] = index;\n",
    "    \n",
    "    // Weighted price for all the instruments\n",
    "    foreach( var instrument in pricesByInstrument.Keys)\n",
    "    {\n",
    "        var test = pricesByInstrument[instrument].TryGetValue(date, out var tmp);\n",
    "        if(test)\n",
    "        {\n",
    "            weightByInstrument[instrument][date] = Math.Log(tmp / index);\n",
    "        }\n",
    "    }\n",
    "}\n",
    "\n",
    "//display(indexValues);\n",
    "//display(weightByInstrument);"
   ]
  },
  {
   "cell_type": "markdown",
   "metadata": {},
   "source": [
    "### Step 4: Visualize data"
   ]
  },
  {
   "cell_type": "markdown",
   "metadata": {},
   "source": [
    "#### 4.1 Plot GAFAM components Vs index\n",
    "*`XPlot.Plotly`* is used as per open source display package."
   ]
  },
  {
   "cell_type": "code",
   "execution_count": null,
   "metadata": {},
   "outputs": [],
   "source": [
    "// Create the graph\n",
    "// Add the index on the first yaxis\n",
    "var gafamGraph = new List<Scattergl>\n",
    "{\n",
    "    new Scattergl\n",
    "    {\n",
    "        name = \"Index\",\n",
    "        mode = \"lines\",\n",
    "        x = indexValues.Keys,\n",
    "        y = indexValues.Values,\n",
    "        yaxis = \"y2\"\n",
    "    }\n",
    "};\n",
    "\n",
    "// Add the instruments on the second yaxis\n",
    "foreach( var instrument in pricesByInstrument.Keys)\n",
    "{\n",
    "    var g = new Scattergl\n",
    "    {\n",
    "        name = instrument,\n",
    "        mode = \"lines\",\n",
    "        x = weightByInstrument[instrument].Keys,\n",
    "        y = weightByInstrument[instrument].Values\n",
    "    };\n",
    "    \n",
    "    gafamGraph.Add(g);  \n",
    "}\n",
    "\n",
    "var layout = new Layout.Layout{ \n",
    "    title = \"GAFAM\",\n",
    "    yaxis = new Yaxis {\n",
    "        title = \"Weighted prices\", \n",
    "        autorange = true,\n",
    "        side = \"left\",\n",
    "    },\n",
    "    yaxis2 = new Yaxis {\n",
    "        title = \"Index\", \n",
    "        autorange = true,\n",
    "        side = \"right\",  \n",
    "    }\n",
    "};\n",
    "\n",
    "var chart = Chart.Plot(gafamGraph, layout);\n",
    "chart.WithXTitle($\"Time\");\n",
    "chart.Width = 1500;\n",
    "chart.Height = 800;\n",
    "display(chart);"
   ]
  },
  {
   "cell_type": "code",
   "execution_count": null,
   "metadata": {},
   "outputs": [],
   "source": []
  }
 ],
 "metadata": {
  "language_info": {
   "name": "python",
   "pygments_lexer": "ipython3"
  }
 },
 "nbformat": 4,
 "nbformat_minor": 4
}
