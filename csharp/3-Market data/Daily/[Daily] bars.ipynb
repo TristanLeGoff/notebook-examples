{
 "cells": [
  {
   "cell_type": "markdown",
   "source": [
    "# Generate daily bars using daily data service - C#\n",
    "\n",
    "### Overview\n",
    "Bars are widely used to illustrate price movements for an instrument over a look back period. Commonly used in financial analysis and trading strategies as per a deicion making technical indicator.<br>\n",
    "\n",
    "This sample demonstrates how to directly request and plot *`daily bars`*.<br>\n",
    "\n",
    "It enables to retrieve **on-demand** daily bars data by calling a dedicated service on a **daily** data store. \n",
    "\n",
    "### Inputs/outputs\n",
    "Bars sample requires instrument's identifier as per input. It returns open-high-low-close (OHLC) and volume.\n",
    "This sample also shows how to plot a simple graph for basis financial analysis using an open source library.\n",
    "\n",
    "### Services used\n",
    "This sample uses *gRPC requests* in order to retrieve daily bars from the dedicated hosted service. The queried endpoint in this script are:\n",
    "* *DailyBarsService*: to directly retrieve daily bars objects from the server\n",
    "\n",
    "### Packages required\n",
    "1. Systemathics packages:\n",
    "    * *Systemathics.Apis.Type.Shared.V1*\n",
    "    * *Systemathics.Apis.Services.Daily.V1*\n",
    "2. Open source packages\n",
    "    * *Google.Protobuf.WellKnownTypes*\n",
    "    * *Google.Type*\n",
    "    * *Grpc.Net.Client*\n",
    "    * *Grpc.Core*\n",
    "    * *XPlot.Plotly* as per display package\n",
    "\n",
    "***"
   ],
   "metadata": {}
  },
  {
   "cell_type": "markdown",
   "source": [
    "# Run daily bars sample"
   ],
   "metadata": {}
  },
  {
   "cell_type": "markdown",
   "source": [
    "### Step 1: Install packages"
   ],
   "metadata": {}
  },
  {
   "cell_type": "code",
   "execution_count": null,
   "source": [
    "#i \"nuget: file:///home/jovyan/.nuget/packages/\"\n",
    "#i \"nuget: https://api.nuget.org/v3/index.json\"\n",
    "#r \"nuget: Systemathics.Apis\"\n",
    "#r \"nuget: XPlot.Plotly.Interactive\""
   ],
   "outputs": [],
   "metadata": {
    "dotnet_interactive": {
     "language": "csharp"
    }
   }
  },
  {
   "cell_type": "code",
   "execution_count": null,
   "source": [
    "using Systemathics.Apis.Type.Shared.V1;\n",
    "using Systemathics.Apis.Services.Daily.V1;\n",
    "using Google.Protobuf.WellKnownTypes;\n",
    "using Google.Type;\n",
    "using Grpc.Net.Client;\n",
    "using Grpc.Core;\n",
    "using XPlot.Plotly;\n",
    "using XPlot.Plotly.Interactive;"
   ],
   "outputs": [],
   "metadata": {
    "dotnet_interactive": {
     "language": "csharp"
    }
   }
  },
  {
   "cell_type": "markdown",
   "source": [
    "### Step 2: Prepare API requests\n",
    "The following code snippets retrieve authentication token and prepare the API request by: opening the *channel* and adding the *token* to the request header:"
   ],
   "metadata": {}
  },
  {
   "cell_type": "code",
   "execution_count": null,
   "source": [
    "// Retrieve authentication token\n",
    "var token = System.Environment.GetEnvironmentVariable(\"AUTH0_TOKEN\");\n",
    "\n",
    "// Add token to the request header\n",
    "var headers = new Metadata();\n",
    "headers.Add(\"Authorization\", $\"Bearer {token}\");\n",
    "\n",
    "// Define API entry\n",
    "var channel = GrpcChannel.ForAddress($\"https://{System.Environment.GetEnvironmentVariable(\"GRPC_APIS\")}\");"
   ],
   "outputs": [],
   "metadata": {
    "dotnet_interactive": {
     "language": "csharp"
    }
   }
  },
  {
   "cell_type": "code",
   "execution_count": null,
   "source": [
    "// Display authentication token \n",
    "display(token);"
   ],
   "outputs": [],
   "metadata": {
    "dotnet_interactive": {
     "language": "csharp"
    }
   }
  },
  {
   "cell_type": "markdown",
   "source": [
    "### Step 3: Create and process request"
   ],
   "metadata": {}
  },
  {
   "cell_type": "markdown",
   "source": [
    "#### 3.1 Request Parameters\n",
    "To request *daily bars* service, we need to specify:\n",
    "* Instrument identifier\n",
    "* Time period selection: select start and end dates\n",
    "* Service called: *DailyBarsService* in order to retrieve daily data"
   ],
   "metadata": {}
  },
  {
   "cell_type": "code",
   "execution_count": null,
   "source": [
    "// Set instrument\n",
    "var ticker = \"AAPL\";\n",
    "var exchange = \"XNGS\";"
   ],
   "outputs": [],
   "metadata": {
    "dotnet_interactive": {
     "language": "csharp"
    }
   }
  },
  {
   "cell_type": "markdown",
   "source": [
    "#### 3.2 Request creation\n",
    "The following code snippet creates *gRPC client*, process request and returns request reply."
   ],
   "metadata": {}
  },
  {
   "cell_type": "code",
   "execution_count": null,
   "source": [
    "// Instantiate the daily bars service\n",
    "var service = new DailyBarsService.DailyBarsServiceClient(channel);\n",
    "\n",
    "// Create and process daily bars request\n",
    "var request = new DailyBarsRequest \n",
    "{ \n",
    "    Identifier = new Identifier { Exchange = exchange, Ticker = ticker}\n",
    "};\n",
    "var reply = service.DailyBars(request, headers);"
   ],
   "outputs": [],
   "metadata": {
    "dotnet_interactive": {
     "language": "csharp"
    }
   }
  },
  {
   "cell_type": "markdown",
   "source": [
    "The following code snippet displays the *daily bars* data points:"
   ],
   "metadata": {}
  },
  {
   "cell_type": "code",
   "execution_count": null,
   "source": [
    "display(reply.Data)"
   ],
   "outputs": [],
   "metadata": {
    "dotnet_interactive": {
     "language": "csharp"
    }
   }
  },
  {
   "cell_type": "markdown",
   "source": [
    "### Step 4: Visualize data"
   ],
   "metadata": {}
  },
  {
   "cell_type": "markdown",
   "source": [
    "#### 4.1 Plot the closing price and volume\n",
    "The following code snippets retrive *Close prices* over the look back period from the request result and plot them with the package of your choice.<br><i>`XPlot.Plotly`</i> is used as per open source display package. Plot a simple line graph with the *close price* and *volume* to easily spot spikes in trading as follows: "
   ],
   "metadata": {}
  },
  {
   "cell_type": "code",
   "execution_count": null,
   "source": [
    "// Extract the close price and the volume\n",
    "var closePrices = reply.Data.Select(t => new Tuple<DateTime, double>(new DateTime(t.Date.Year, t.Date.Month, t.Date.Day), t.Close));\n",
    "var volumes = reply.Data.Select(t => new Tuple<DateTime, long>(new DateTime(t.Date.Year, t.Date.Month, t.Date.Day), t.Volume));"
   ],
   "outputs": [],
   "metadata": {
    "dotnet_interactive": {
     "language": "csharp"
    }
   }
  },
  {
   "cell_type": "code",
   "execution_count": null,
   "source": [
    "// Create the graph\n",
    "var closesGraph = new List<Scattergl>\n",
    "{\n",
    "    new Scattergl\n",
    "    {\n",
    "        name = \"Close Price\",\n",
    "        mode = \"lines\",\n",
    "        x = closePrices.Select(c => c.Item1),\n",
    "        y = closePrices.Select(c => c.Item2)\n",
    "    },\n",
    "    new Scattergl\n",
    "    {\n",
    "        name = \"Volume\",\n",
    "        mode = \"bar\",\n",
    "        x = volumes.Select(v => v.Item1),\n",
    "        y = volumes.Select(v => v.Item2),\n",
    "        yaxis = \"y2\"\n",
    "    } \n",
    "};\n",
    "\n",
    "\n",
    "var layout = new Layout.Layout{ \n",
    "    title = $\"Close price & Volume for {ticker}\",\n",
    "    yaxis = new Yaxis {\n",
    "        title = \"Price\", \n",
    "        autorange = true,\n",
    "        side = \"left\",\n",
    "    },\n",
    "    yaxis2 = new Yaxis {\n",
    "        title = \"Volume\", \n",
    "        autorange = true,\n",
    "        side = \"right\",  \n",
    "    },\n",
    "};\n",
    "\n",
    "var chart = Chart.Plot(closesGraph, layout);\n",
    "chart.WithXTitle($\"Time\");\n",
    "chart.Width = 1500;\n",
    "chart.Height = 800;\n",
    "display(chart);"
   ],
   "outputs": [],
   "metadata": {
    "dotnet_interactive": {
     "language": "csharp"
    }
   }
  },
  {
   "cell_type": "markdown",
   "source": [
    "#### 4.2 Plot the bars chart\n",
    "To generate the bars graph we need to pass Open, High, Low and Close prices as per parameters:"
   ],
   "metadata": {}
  },
  {
   "cell_type": "code",
   "execution_count": null,
   "source": [
    "var bars = reply.Data.Select(b => new Tuple<DateTime,double,double,double,double>(new DateTime(b.Date.Year, b.Date.Month, b.Date.Day), b.Open, b.High, b.Low, b.Close));"
   ],
   "outputs": [],
   "metadata": {
    "dotnet_interactive": {
     "language": "csharp"
    }
   }
  },
  {
   "cell_type": "code",
   "execution_count": null,
   "source": [
    "var chart = Chart.Candlestick(bars);\n",
    "chart.WithTitle($\"Bars chart for {ticker}\");\n",
    "chart.WithXTitle(\"Time\");\n",
    "chart.WithYTitle(\"OHLC\");\n",
    "chart.Width = 1500;\n",
    "chart.Height = 800;\n",
    "display(chart);"
   ],
   "outputs": [],
   "metadata": {
    "dotnet_interactive": {
     "language": "csharp"
    }
   }
  },
  {
   "cell_type": "code",
   "execution_count": null,
   "source": [],
   "outputs": [],
   "metadata": {
    "dotnet_interactive": {
     "language": "csharp"
    }
   }
  }
 ],
 "metadata": {
  "kernelspec": {
   "display_name": ".NET (C#)",
   "language": "C#",
   "name": ".net-csharp"
  },
  "language_info": {
   "file_extension": ".cs",
   "mimetype": "text/x-csharp",
   "name": "C#",
   "pygments_lexer": "csharp",
   "version": "9.0"
  }
 },
 "nbformat": 4,
 "nbformat_minor": 4
}