{
 "cells": [
  {
   "cell_type": "markdown",
   "metadata": {},
   "source": [
    "# Pair strategy - C#\n",
    "\n",
    "### Overview\n",
    "The Pair Trading Strategy is a standard mean reversion model based on the Bollinger band indicator; two stocks that normally trade in the same direction become temporally uncorrelated and eventually will revert to the mean.\n",
    "\n",
    "Assume that the strategy will trade pairs of equities of the same industrial sector: \n",
    "\n",
    "- (A, B) : the pair\n",
    "- A : the first stock of the pair\n",
    "- B : the second stock of the pair\n",
    "\n",
    "### Indicator\n",
    "This sample uses Bollinger band indicator which is computed using the Spread between the two stocks of the pair.\n",
    "$$ Spread = Log(\\frac{LastA}{Lastb}) $$*\n",
    "Where:\n",
    "- *Last A* is the Last trade price of the stock A \n",
    "- *Last B* is the Last trade price of the stock B\n",
    "\n",
    "### Services used\n",
    "This sample uses *gRPC requests* in order to retrieve bars from the dedicated hosted service. The queried endpoint in this script are:\n",
    "* Bars: to directly retrieve bars objects from the server\n",
    "\n",
    "### Packages required\n",
    "1. Systemathics:\n",
    "    * *Systemathics.Apis.Type.V1*\n",
    "    * *Systemathics.Apis.Services.V1*\n",
    "2. Open source packages:\n",
    "    * *Google.Protobuf.WellKnownTypes*\n",
    "    * *Google.Type*\n",
    "    * *Grpc.Net.Client*\n",
    "    * *Grpc.Core*\n",
    "    * *XPlot.Plotly* as per display package\n",
    "\n",
    "***"
   ]
  },
  {
   "cell_type": "markdown",
   "metadata": {},
   "source": [
    "# Run Pair strategy sample"
   ]
  },
  {
   "cell_type": "markdown",
   "metadata": {},
   "source": [
    "### Step 1: Install packages and import them"
   ]
  },
  {
   "cell_type": "markdown",
   "metadata": {},
   "source": [
    "### Step 2: Retrieve authentication token\n",
    "The following code snippet sends authentication request and print token to console output in order to process the upcomming *gRPC queries*."
   ]
  },
  {
   "cell_type": "markdown",
   "metadata": {},
   "source": [
    "### Step 3: Retrieve prices"
   ]
  },
  {
   "cell_type": "markdown",
   "metadata": {},
   "source": [
    "#### 3.1 Instrument selection\n",
    "Generate the instrument identifiers by using the [research engine](https://ganymede.systemathics.com/user-redirect/lab/tree/csharp/1-Reference%20data/symbology.ipynb) and insert the returned parameters in the following code snippet:"
   ]
  },
  {
   "cell_type": "markdown",
   "metadata": {},
   "source": [
    "#### 3.2 Request creation\n",
    "The following code snippets create *gRPC client*, process request and ensure that the reply is not empty:"
   ]
  },
  {
   "cell_type": "markdown",
   "metadata": {},
   "source": [
    "#### 3.3 Store prices and timestamps\n",
    "The following code snippet reprocess the outputs of the requests and store them in a *pandas* dataframe:"
   ]
  },
  {
   "cell_type": "markdown",
   "metadata": {},
   "source": [
    "#### 3.4 Visualize retrieved prices"
   ]
  },
  {
   "cell_type": "markdown",
   "metadata": {},
   "source": [
    "### Step 4: Generate buy/sell signals"
   ]
  },
  {
   "cell_type": "markdown",
   "metadata": {},
   "source": [
    "#### 4.1 Compute stock ratio"
   ]
  },
  {
   "cell_type": "markdown",
   "metadata": {},
   "source": [
    "#### 4.2 Compute Z-score\n",
    "The z-score is the number of standard deviation by which the value is above the mean."
   ]
  },
  {
   "cell_type": "markdown",
   "metadata": {},
   "source": [
    "#### 4.3 Define buy/sell signals based on the rolling ratio"
   ]
  },
  {
   "cell_type": "markdown",
   "metadata": {},
   "source": [
    "We now have to generate the buy sell signals. The buy and sell signals will follow the rules below: \n",
    "* if *zscore_60_5* < -1: we *buy* the ratio  \n",
    "* if *zscore_60_5* > 1: we *sell* the ratio  "
   ]
  },
  {
   "cell_type": "markdown",
   "metadata": {},
   "source": [
    "### Step 5: Plot buy / sell signals"
   ]
  },
  {
   "cell_type": "markdown",
   "metadata": {},
   "source": [
    "#### 5.1 Plot buy / sell signals on ratio"
   ]
  },
  {
   "cell_type": "markdown",
   "metadata": {},
   "source": [
    "#### 5.2 Plot buy / sell signals on respective stocks\n",
    "In order to plot signals on the stocks, we have to match buy/sell to the correct instrument.  \n",
    "Since the ratio was previously defined as log2(S1/S2), the signals will be following the rules below:\n",
    "* When buying the ratio, you buy S1 and sell S2  \n",
    "* When selling the ratio, you sell S1 and buy S2"
   ]
  },
  {
   "cell_type": "code",
   "execution_count": null,
   "metadata": {},
   "outputs": [],
   "source": []
  }
 ],
 "metadata": {
  "language_info": {
   "name": "python",
   "pygments_lexer": "ipython3"
  }
 },
 "nbformat": 4,
 "nbformat_minor": 4
}
