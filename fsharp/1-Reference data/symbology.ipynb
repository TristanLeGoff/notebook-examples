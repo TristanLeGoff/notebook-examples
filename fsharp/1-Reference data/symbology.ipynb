{
 "cells": [
  {
   "cell_type": "markdown",
   "source": [
    "# Symbology mapping using dedicated service - F#\n",
    "\n",
    "### Overview\n",
    "Reference data encompasses a wide range of specification data about:\n",
    "* financial instrument such as asset class, symbol, maturity, etc.\n",
    "* counterparties such as issuer information.\n",
    "* pricing such as Open, high low and close prices.\n",
    "\n",
    "The challenge with reference data is that it tends to be sourced from multiple sources: internal, counterparties and providers.\n",
    "\n",
    "Reference data dedicated service is a result of various data sources and fields sourcing, validation, cross-checking and normalization.<br>\n",
    "\n",
    "This sample requests **on-demand** instrument's identifiers and enables fields mapping by calling a dedicated static data service, making available clean data.\n",
    "\n",
    "### Inputs/outputs\n",
    "Symbology mapping sample is designed to help you searching and requesting instrument's specification data by using a wide range of commonly used fields.\n",
    "* It takes instrument specification parameter(s) as per input filter and returns the *entries* matching the request.\n",
    "* The returned *entries* contain `instrument identifier` data\n",
    "\n",
    "The samples below expose several ways to query the reference data service in order to retrieve instrument identifier and fields. \n",
    "Please refer to any other scenario in order to discover how instrument identifier is used.\n",
    "\n",
    "### Services used\n",
    "This sample uses *gRPC requests* in order to retrieve reference data set of fields from the hosted service. The queried endpoint in this script are:\n",
    "* *StaticDataService*: to directly retrieve reference data objects from the server\n",
    "\n",
    "### Packages required\n",
    "1. Systemathics packages:\n",
    "    * *Systemathics.Apis.Type.Shared.V1*\n",
    "    * *Systemathics.Apis.Services.StaticData.V1*\n",
    "2. Open source packages\n",
    "    * *Google.Protobuf.WellKnownTypes*\n",
    "    * *Google.Type*\n",
    "    * *Grpc.Net.Client*\n",
    "    * *Grpc.Core*\n",
    "\n",
    "***"
   ],
   "metadata": {}
  },
  {
   "cell_type": "markdown",
   "source": [
    "# Run reference data queries"
   ],
   "metadata": {}
  },
  {
   "cell_type": "markdown",
   "source": [
    "### Step 1: Install packages"
   ],
   "metadata": {}
  },
  {
   "cell_type": "code",
   "execution_count": null,
   "source": [
    "//#i \"nuget: file:///home/jovyan/.nuget/packages/\"\n",
    "#i \"nuget: https://api.nuget.org/v3/index.json\"\n",
    "#r \"nuget: Systemathics.Apis\""
   ],
   "outputs": [],
   "metadata": {
    "dotnet_interactive": {
     "language": "fsharp"
    }
   }
  },
  {
   "cell_type": "code",
   "execution_count": null,
   "source": [
    "open Systemathics.Apis.Type.Shared.V1\n",
    "open Systemathics.Apis.Services.StaticData.V1\n",
    "open Google.Protobuf.WellKnownTypes\n",
    "open Google.Type\n",
    "open Grpc.Net.Client\n",
    "open Grpc.Core"
   ],
   "outputs": [],
   "metadata": {
    "dotnet_interactive": {
     "language": "fsharp"
    }
   }
  },
  {
   "cell_type": "markdown",
   "source": [
    "### Step 2: Prepare API requests\n",
    "The following code snippets retrieve authentication token and prepare the API request by: opening the *channel* and adding the *token* to the request header:"
   ],
   "metadata": {}
  },
  {
   "cell_type": "code",
   "execution_count": null,
   "source": [
    "// Retrieve authentication token\n",
    "let token = System.Environment.GetEnvironmentVariable(\"AUTH0_TOKEN\")\n",
    "let api = System.Environment.GetEnvironmentVariable(\"GRPC_APIS\")\n",
    "\n",
    "// Add token to the request header\n",
    "let headers = new Metadata()\n",
    "headers.Add(\"Authorization\", $\"Bearer {token}\")\n",
    "\n",
    "// Define API entry\n",
    "let channel = GrpcChannel.ForAddress($\"https://{api}\")"
   ],
   "outputs": [],
   "metadata": {
    "dotnet_interactive": {
     "language": "fsharp"
    }
   }
  },
  {
   "cell_type": "code",
   "execution_count": null,
   "source": [
    "// Display authentication token \n",
    "token\n",
    "|> display"
   ],
   "outputs": [],
   "metadata": {
    "dotnet_interactive": {
     "language": "fsharp"
    }
   }
  },
  {
   "cell_type": "markdown",
   "source": [
    "### Step 3: Call reference data service"
   ],
   "metadata": {}
  },
  {
   "cell_type": "code",
   "execution_count": null,
   "source": [
    "// instantiate the service\n",
    "let service = new StaticDataService.StaticDataServiceClient(channel)"
   ],
   "outputs": [],
   "metadata": {
    "dotnet_interactive": {
     "language": "fsharp"
    }
   }
  },
  {
   "cell_type": "markdown",
   "source": [
    "### Step 4: Create and process request"
   ],
   "metadata": {}
  },
  {
   "cell_type": "markdown",
   "source": [
    "#### 4.1 Introduction\n",
    "The properties one can use as per filter field(s) in order to query the API for equities or futures are the following:\n",
    "* *Name*, *MIC*, *Ticker*, *Contract code*, *ISIN*, *Cusip*, *market data provider IDs*, etc.\n",
    "\n",
    "You can combine multiple filters in order to target more accurately your request. Combining filters act as a *AND* operator.\n",
    "\n",
    "The service returns *entries* matching the request filters.\n",
    "A reply contains two *arrays* dedicated for *futures* and *equities*. Keep in mind that these arrays might be empty depending on the query filters and the results.\n",
    "Other shared fields such as <i>`Name`</i> or <i>`Identifier`</i> are there to make it easier to identify the instrument needed (among possible other results).  \n",
    "Depending on the asset type, there might be additional fields for the aforementioned purpose.\n",
    "\n",
    "The following code snippets will expose the different ways to query for reference data, with different asset types and various parameters."
   ],
   "metadata": {}
  },
  {
   "cell_type": "markdown",
   "source": [
    "#### 4.2 Retrieve reference data - Equities\n",
    "\n",
    "To request for equities, the user must specify the AssetType as <i>`AssetType.Equity`</i> in the static data request."
   ],
   "metadata": {}
  },
  {
   "cell_type": "markdown",
   "source": [
    "##### 4.2.1 Equity - by Name"
   ],
   "metadata": {}
  },
  {
   "cell_type": "code",
   "execution_count": null,
   "source": [
    "// Generate request\n",
    "let request = new StaticDataRequest(AssetType = AssetType.Equity, Name = \"Apple\")\n",
    "\n",
    "let reply = service.StaticData(request, headers)\n",
    "display(reply.Equities)"
   ],
   "outputs": [],
   "metadata": {
    "dotnet_interactive": {
     "language": "fsharp"
    }
   }
  },
  {
   "cell_type": "markdown",
   "source": [
    "##### 4.2.2 Equity - by MIC code"
   ],
   "metadata": {}
  },
  {
   "cell_type": "code",
   "execution_count": null,
   "source": [
    "let request = \n",
    "  new StaticDataRequest(\n",
    "    AssetType = AssetType.Equity,\n",
    "    Exchange = \"XNGS\", \n",
    "    Count = 3, // Select the first elements\n",
    "    Start = 2 // Starting from element index\n",
    "  )\n",
    "\n",
    "let reply = service.StaticData(request, headers)\n",
    "display(reply.Equities)"
   ],
   "outputs": [],
   "metadata": {
    "dotnet_interactive": {
     "language": "fsharp"
    }
   }
  },
  {
   "cell_type": "markdown",
   "source": [
    "##### 4.2.3 Equity - by Ticker"
   ],
   "metadata": {}
  },
  {
   "cell_type": "code",
   "execution_count": null,
   "source": [
    "let request = \n",
    "  new StaticDataRequest(\n",
    "    AssetType = AssetType.Equity,\n",
    "    Ticker = \"AAPL\"\n",
    "  )\n",
    "\n",
    "let reply = service.StaticData(request, headers)\n",
    "display(reply.Equities)"
   ],
   "outputs": [],
   "metadata": {
    "dotnet_interactive": {
     "language": "fsharp"
    }
   }
  },
  {
   "cell_type": "markdown",
   "source": [
    "##### 4.2.4 Equity - by Codes"
   ],
   "metadata": {}
  },
  {
   "cell_type": "code",
   "execution_count": null,
   "source": [
    "let request = \n",
    "  new StaticDataRequest(\n",
    "    AssetType = AssetType.Equity,\n",
    "    Code = \"US0378331005\" // ISIN code\n",
    "  )\n",
    "let reply = service.StaticData(request, headers)\n",
    "display(reply.Equities)"
   ],
   "outputs": [],
   "metadata": {
    "dotnet_interactive": {
     "language": "fsharp"
    }
   }
  },
  {
   "cell_type": "code",
   "execution_count": null,
   "source": [
    "let request = \n",
    "  new StaticDataRequest(\n",
    "    AssetType = AssetType.Equity,\n",
    "    Code = \"BBG000B9Y6P9\" // Bloomberg Figi code\n",
    "  )\n",
    "\n",
    "let reply = service.StaticData(request, headers)\n",
    "display(reply.Equities)"
   ],
   "outputs": [],
   "metadata": {
    "dotnet_interactive": {
     "language": "fsharp"
    }
   }
  },
  {
   "cell_type": "markdown",
   "source": [
    "##### 4.2.5 Equity - by Ticker + MIC code"
   ],
   "metadata": {}
  },
  {
   "cell_type": "code",
   "execution_count": null,
   "source": [
    "// The service also enables to query with multiple filters as follows\n",
    "let request = \n",
    "  new StaticDataRequest(\n",
    "    AssetType = AssetType.Equity,\n",
    "    Ticker = \"AAPL\",\n",
    "    Exchange = \"BATS\"\n",
    "  )\n",
    "\n",
    "let reply = service.StaticData(request, headers)\n",
    "display(reply.Equities)"
   ],
   "outputs": [],
   "metadata": {
    "dotnet_interactive": {
     "language": "fsharp"
    }
   }
  },
  {
   "cell_type": "markdown",
   "source": [
    "##### 4.2.6 Equity - index components"
   ],
   "metadata": {}
  },
  {
   "cell_type": "code",
   "execution_count": null,
   "source": [
    "// Get an  index components\n",
    "let request = \n",
    "  new StaticDataRequest(\n",
    "    AssetType = AssetType.Equity,\n",
    "    Index = \"NASDAQ 100\",\n",
    "    Count = 10\n",
    "  )\n",
    "\n",
    "let reply = service.StaticData(request, headers)\n",
    "display(reply.Equities)"
   ],
   "outputs": [],
   "metadata": {
    "dotnet_interactive": {
     "language": "fsharp"
    }
   }
  },
  {
   "cell_type": "markdown",
   "source": [
    "##### 4.2.7 Equity - sectors"
   ],
   "metadata": {}
  },
  {
   "cell_type": "code",
   "execution_count": null,
   "source": [
    "// Get equities by sectors\n",
    "let request = \n",
    "  new StaticDataRequest(\n",
    "    AssetType = AssetType.Equity,\n",
    "    EquitySector = \"Electronic Computers\",\n",
    "    Count = 10\n",
    "  )\n",
    "\n",
    "let reply = service.StaticData(request, headers)\n",
    "display(reply.Equities)"
   ],
   "outputs": [],
   "metadata": {
    "dotnet_interactive": {
     "language": "fsharp"
    }
   }
  },
  {
   "cell_type": "markdown",
   "source": [
    "#### 4.3 Retrieve reference data - Futures\n",
    "\n",
    "To request for futures, the user must specify the AssetType as <i>`AssetType.Future`</i> in the static data request."
   ],
   "metadata": {}
  },
  {
   "cell_type": "markdown",
   "source": [
    "##### 4.3.1 Future - by Name"
   ],
   "metadata": {}
  },
  {
   "cell_type": "code",
   "execution_count": null,
   "source": [
    "let request = \n",
    "  new StaticDataRequest(\n",
    "    AssetType = AssetType.Future,\n",
    "    Name = \"WTI Crude Futures\"\n",
    "  )\n",
    "\n",
    "let reply = service.StaticData(request, headers)\n",
    "reply.Futures\n",
    "|> Seq.sortBy (fun f -> f.Maturity.Year * 16 + f.Maturity.Month )\n",
    "|> display"
   ],
   "outputs": [],
   "metadata": {
    "dotnet_interactive": {
     "language": "fsharp"
    }
   }
  },
  {
   "cell_type": "markdown",
   "source": [
    "##### 4.3.2 Future - by Future contract"
   ],
   "metadata": {}
  },
  {
   "cell_type": "code",
   "execution_count": null,
   "source": [
    "let request = \n",
    "  new StaticDataRequest(\n",
    "    AssetType = AssetType.Future,\n",
    "    FutureContract = \"WBS\"\n",
    "  )\n",
    "\n",
    "let reply = service.StaticData(request, headers)\n",
    "reply.Futures\n",
    "|> Seq.sortBy (fun f -> f.Maturity.Year * 16 + f.Maturity.Month)\n",
    "|> display"
   ],
   "outputs": [],
   "metadata": {
    "dotnet_interactive": {
     "language": "fsharp"
    }
   }
  },
  {
   "cell_type": "markdown",
   "source": [
    "##### 4.3.3 Future - by Ticker"
   ],
   "metadata": {}
  },
  {
   "cell_type": "code",
   "execution_count": null,
   "source": [
    "let request = \n",
    "  new StaticDataRequest(\n",
    "    AssetType = AssetType.Future,\n",
    "    Ticker = \"WBSH20\"\n",
    "  )\n",
    "\n",
    "let reply = service.StaticData(request, headers)\n",
    "reply.Futures\n",
    "|> display"
   ],
   "outputs": [],
   "metadata": {
    "dotnet_interactive": {
     "language": "fsharp"
    }
   }
  },
  {
   "cell_type": "markdown",
   "source": [
    "##### 4.3.4 Future - by Category"
   ],
   "metadata": {}
  },
  {
   "cell_type": "code",
   "execution_count": null,
   "source": [
    "let request = \n",
    "  new StaticDataRequest(\n",
    "    AssetType = AssetType.Future,\n",
    "    FutureCategory = \"Crude Oil\",\n",
    "    Count = 3\n",
    "  )\n",
    "\n",
    "let reply = service.StaticData(request, headers)\n",
    "reply.Futures\n",
    "|> display"
   ],
   "outputs": [],
   "metadata": {
    "dotnet_interactive": {
     "language": "fsharp"
    }
   }
  }
 ],
 "metadata": {
  "kernelspec": {
    "display_name": ".NET (F#)",
    "language": "F#",
    "name": ".net-fsharp"
  },
  "language_info": {
    "file_extension": ".fs",
    "mimetype": "text/x-fsharp",
    "name": "F#",
    "pygments_lexer": "fsharp",
    "version": "5.0"
  }
 },
 "nbformat": 4,
 "nbformat_minor": 5
}