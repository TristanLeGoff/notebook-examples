{
 "cells": [
  {
   "cell_type": "markdown",
   "id": "68f1c601-62ce-45fe-8d59-02342767e0aa",
   "metadata": {},
   "source": [
    "# Generate exchange data using dedicated service - F#\n",
    "\n",
    "### Overview\n",
    "Reference data encompasses a wide range of specification data about:\n",
    "* financial instrument such as asset class, symbol, maturity, etc.\n",
    "* counterparties such as issuer information.\n",
    "* pricing such as Open, high low and close prices.\n",
    "\n",
    "The challenge with reference data is that it tends to be sourced from multiple sources: internal, counterparties and providers.\n",
    "\n",
    "Reference data dedicated service is a result of various data sources and fields sourcing, validation, cross-checking and normalization.<br>\n",
    "\n",
    "This sample requests **on-demand** exchange data and enables fields mapping by calling a dedicated static data service, making available clean data.\n",
    "\n",
    "### Inputs/outputs\n",
    "Exchange data sample is designed to help you searching and requesting exchange reference data by using a wide range of commonly used fields.\n",
    "\n",
    "It takes exchange identifier as per input filter and returns the *entries* matching the *request*:\n",
    "* List of instruments' identifiers\n",
    "* Countries\n",
    "* Currencies \n",
    "* Tick size rules\n",
    "* etc. \n",
    "\n",
    "### Services used\n",
    "This sample uses *gRPC requests* in order to retrieve exchange reference data from the hosted service. The queried endpoint in this script are:\n",
    "* *StaticDataService*: to directly retrieve reference data objects from the server\n",
    "\n",
    "### Packages required\n",
    "1. Systemathics packages:\n",
    "    * *Systemathics.Apis.Type.Shared.V1*\n",
    "    * *Systemathics.Apis.Services.StaticData.V1*\n",
    "2. Open source packages\n",
    "    * *Google.Protobuf.WellKnownTypes*\n",
    "    * *Google.Type*\n",
    "    * *Grpc.Net.Client*\n",
    "    * *Grpc.Core*\n"
   ]
  },
  {
   "cell_type": "markdown",
   "id": "5c3a8ab6-a6b7-4962-99ea-1d6023144215",
   "metadata": {},
   "source": [
    "# Run Exchange data sample"
   ]
  },
  {
   "cell_type": "markdown",
   "id": "749ea29e-7173-47e5-9948-ec07711257ff",
   "metadata": {},
   "source": [
    "### Step 1: Install packages"
   ]
  },
  {
   "cell_type": "code",
   "execution_count": null,
   "id": "2e1580d4-d5dd-440f-bb4d-99447f8ceed8",
   "metadata": {},
   "outputs": [],
   "source": [
    "#i \"nuget: file:///home/jovyan/.nuget/packages/\"\n",
    "#i \"nuget: https://api.nuget.org/v3/index.json\"\n",
    "#r \"nuget: Systemathics.Apis\"\n",
    "#r \"nuget: CsvHelper\""
   ]
  },
  {
   "cell_type": "code",
   "execution_count": null,
   "id": "59d9f2a0-b4f0-482a-8763-94623dd28973",
   "metadata": {},
   "outputs": [],
   "source": [
    "open Systemathics.Apis.Type.Shared.V1\n",
    "open Systemathics.Apis.Services.StaticData.V1\n",
    "open Google.Protobuf.WellKnownTypes\n",
    "open Google.Type\n",
    "open Grpc.Net.Client\n",
    "open Grpc.Core\n",
    "// Import/export csv files\n",
    "open CsvHelper\n",
    "open System.IO\n",
    "open System.Globalization"
   ]
  },
  {
   "cell_type": "markdown",
   "id": "caad2807-98b7-45c5-924d-877adaaf8808",
   "metadata": {},
   "source": [
    "### Step 2: Prepare API requests\n",
    "The following code snippets retrieve authentication token and prepare the API request by: opening the *channel* and adding the *token* to the request header:"
   ]
  },
  {
   "cell_type": "code",
   "execution_count": null,
   "id": "b03285db-a981-4760-83f8-4d2f65bde5bf",
   "metadata": {},
   "outputs": [],
   "source": [
    "// Retrieve authentication token\n",
    "let token = System.Environment.GetEnvironmentVariable(\"AUTH0_TOKEN\")\n",
    "let api = System.Environment.GetEnvironmentVariable(\"GRPC_APIS\")\n",
    "// Add token to the request header\n",
    "let headers = new Metadata();\n",
    "headers.Add(\"Authorization\", $\"Bearer {token}\");\n",
    "\n",
    "// Define API entry\n",
    "let channel = GrpcChannel.ForAddress($\"https://{api}\");"
   ]
  },
  {
   "cell_type": "code",
   "execution_count": null,
   "id": "cab8450d-df2e-4f9e-a91c-593fc76d0416",
   "metadata": {},
   "outputs": [],
   "source": [
    "// Display authentication token \n",
    "display(token);"
   ]
  },
  {
   "cell_type": "markdown",
   "id": "173053f4-9f32-4aa6-bfbd-0474e3619eca",
   "metadata": {},
   "source": [
    "### Step 3: Request creation"
   ]
  },
  {
   "cell_type": "markdown",
   "id": "07b86e8c-73a0-49fa-8727-2ba9ada25fbe",
   "metadata": {},
   "source": [
    "The following code snippet enables to select the **exchange** by its *Market Identifier Code*:"
   ]
  },
  {
   "cell_type": "code",
   "execution_count": null,
   "id": "cfd0c6a4-dfe9-4f55-abf8-987b48ea73b5",
   "metadata": {},
   "outputs": [],
   "source": [
    "// Set exchange\n",
    "let exchange = \"XNGS\";"
   ]
  },
  {
   "cell_type": "markdown",
   "id": "1ac6eef0-0e58-41c3-8f38-bcb171853b7e",
   "metadata": {},
   "source": [
    "The following code snippets call the service, generate the request and return the reply: "
   ]
  },
  {
   "cell_type": "code",
   "execution_count": null,
   "id": "e2050e69-9773-41df-be5d-ad49bda53911",
   "metadata": {},
   "outputs": [],
   "source": [
    "// Instantiate the service\n",
    "let service = new StaticDataService.StaticDataServiceClient(channel);\n",
    "\n",
    "// Generate request\n",
    "let request = new StaticDataRequest ( AssetType = AssetType.Equity, Exchange = exchange, Count = 100 )\n",
    "\n",
    "// Call the service\n",
    "let reply = service.StaticData(request, headers);\n",
    "\n",
    "// Display the results\n",
    "//display(reply.Equities)"
   ]
  },
  {
   "cell_type": "markdown",
   "id": "405f084e-3a78-46be-86b4-ec0110a95e80",
   "metadata": {},
   "source": [
    "### Step 4: Retrieve data"
   ]
  },
  {
   "cell_type": "markdown",
   "id": "e56fb9dd-5429-4450-af56-f5638cf9a0d9",
   "metadata": {},
   "source": [
    "#### 4.1 Retrieve instruments' identifiers (mapping)"
   ]
  },
  {
   "cell_type": "code",
   "execution_count": null,
   "id": "948e37da-c5e1-4d4a-a742-d366739e9fe9",
   "metadata": {},
   "outputs": [],
   "source": [
    "type Instrument = \n",
    "    {\n",
    "        Ticker: string\n",
    "        Name : string\n",
    "        Isin : string\n",
    "        Cusip : string\n",
    "        Sedol : string\n",
    "        Bloomberg : string\n",
    "    }\n",
    "\n",
    "let instruments = reply.Equities |> Seq.map (fun e -> { Ticker = e.Identifier.Ticker; Name = e.Name; Isin = e.Isin; Cusip = e.Cusip; Sedol = e.Sedol; Bloomberg = if e.Mapping.ContainsKey(\"Bloomberg\") then e.Mapping.[\"Bloomberg\"] else String.Empty })"
   ]
  },
  {
   "cell_type": "code",
   "execution_count": null,
   "id": "eba7f5b0-3c40-41bc-b75e-47ee471bd832",
   "metadata": {},
   "outputs": [],
   "source": [
    "display(instruments)"
   ]
  },
  {
   "cell_type": "markdown",
   "id": "c235deac-0b85-4b52-af39-0d92546d208a",
   "metadata": {},
   "source": [
    "The following code snippet exports data to *csv* file:"
   ]
  },
  {
   "cell_type": "code",
   "execution_count": null,
   "id": "9e9de4d0-4130-416d-8b95-b58d82369660",
   "metadata": {},
   "outputs": [],
   "source": [
    "let writer = new StreamWriter($\"{exchange}.csv\")\n",
    "let csv = new CsvWriter(writer, CultureInfo.InvariantCulture)\n",
    "csv.WriteRecords(instruments)\n"
   ]
  },
  {
   "cell_type": "markdown",
   "id": "de0c8967-2ff9-4f17-b6df-3ba8cdc08efe",
   "metadata": {},
   "source": [
    "#### 4.2 Retrieve countries"
   ]
  },
  {
   "cell_type": "code",
   "execution_count": null,
   "id": "b1df19e9-02e7-4f58-aa6f-6989301ab191",
   "metadata": {},
   "outputs": [],
   "source": [
    "reply.Equities |> Seq.map (fun e -> e.Country) |> Seq.distinct"
   ]
  },
  {
   "cell_type": "code",
   "execution_count": null,
   "id": "8171ce4f-140c-4c30-8b39-e4757bad78a5",
   "metadata": {},
   "outputs": [],
   "source": [
    "#### 4.3 Retrieve currencies"
   ]
  },
  {
   "cell_type": "code",
   "execution_count": null,
   "id": "bba1efad-340e-4a29-8c3c-fd653c879090",
   "metadata": {},
   "outputs": [],
   "source": [
    "reply.Equities |> Seq.map (fun e -> e.Currency) |> Seq.distinct"
   ]
  },
  {
   "cell_type": "markdown",
   "id": "83285ef9-5d8a-44d0-831a-56769fb9e200",
   "metadata": {},
   "source": [
    "#### 4.4 Retrieve tick size rules"
   ]
  },
  {
   "cell_type": "code",
   "execution_count": null,
   "id": "4f3afded-1f19-4a66-8d5b-4c96b43f4dad",
   "metadata": {},
   "outputs": [],
   "source": [
    "reply.Equities |> Seq.map (fun e -> e.TickSizeRule) |> Seq.distinct"
   ]
  },
  {
   "cell_type": "code",
   "execution_count": null,
   "id": "e901073d-c91a-459a-822c-6e4c5c021fcb",
   "metadata": {},
   "outputs": [],
   "source": []
  }
 ],
 "metadata": {
  "kernelspec": {
   "display_name": ".NET (F#)",
   "language": "F#",
   "name": ".net-fsharp"
  },
  "language_info": {
   "file_extension": ".fs",
   "mimetype": "text/x-fsharp",
   "name": "F#",
   "pygments_lexer": "fsharp",
   "version": "5.0"
  }
 },
 "nbformat": 4,
 "nbformat_minor": 5
}
