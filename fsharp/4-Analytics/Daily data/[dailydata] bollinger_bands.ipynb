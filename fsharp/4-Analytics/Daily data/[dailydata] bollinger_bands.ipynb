{
 "cells": [
  {
   "cell_type": "markdown",
   "source": [
    "# Generate Bollinger bands using daily dedicated service - F#\n",
    "\n",
    "### Overview\n",
    "Bollinger bands were created by John Bollinger, they are envelopes and plotted around the moving average. The width of the bands is based on the standard deviaton of the closing prices from a moving average. \n",
    "\n",
    "The purpose of Bollinger Bands is to provide a relative definition of high and low prices of a market. By definition, prices are high at the upper band and low at the lower band.\n",
    "\n",
    "This sample demonstrates how to request and plot **on-demand** Bollinger bands from a daily data service.\n",
    "\n",
    "### Inputs/outputs\n",
    "Bollinger bands indicator requires instrument's identifier,date time intervals and number of periods as per inputs and returns data points for the following components:\n",
    "1. *Middle band* = n-period moving average\n",
    "2. *Upper band* = Middle band + (k * n-period standard deviation)\n",
    "3. *Lower band* = Middle band - (k * n-period standard deviation)\n",
    "\n",
    "Where:\n",
    "* *n: number of periods*\n",
    "* *k: factor to apply to the standard deviation value, k=2 as default value*\n",
    "\n",
    "This sample shows how to request and plot a simple Bollinger bands graph for basis technical analysis using an open source library. \n",
    "\n",
    "### Services used\n",
    "This sample uses *gRPC requests* in order to retrieve Bollinger bands daily data from the hosted service. The queried endpoint in this script are:\n",
    "* *BollingerBandsService*: to directly retrieve bollinger bands daily data reponse from the server\n",
    "\n",
    "### Packages required\n",
    "1. Systemathics packages:\n",
    "    * *Systemathics.Apis.Type.Shared.V1*\n",
    "    * *Systemathics.Apis.Services.DailyAnalytics.V1*\n",
    "2. Open source packages\n",
    "    * *Google.Protobuf.WellKnownTypes*\n",
    "    * *Google.Type*\n",
    "    * *Grpc.Net.Client*\n",
    "    * *Grpc.Core*\n",
    "    * *XPlot.Plotly* as per display package\n",
    "\n",
    "***"
   ],
   "metadata": {}
  },
  {
   "cell_type": "markdown",
   "source": [
    "# Run daily Bollinger bands sample\n",
    "### Step 1: Install packages"
   ],
   "metadata": {}
  },
  {
   "cell_type": "code",
   "execution_count": null,
   "source": [
    "#i \"nuget: file:///home/jovyan/.nuget/packages/\"\n",
    "#i \"nuget: https://api.nuget.org/v3/index.json\"\n",
    "#r \"nuget: Systemathics.Apis\"\n",
    "#r \"nuget: XPlot.Plotly.Interactive\""
   ],
   "outputs": [],
   "metadata": {
    "dotnet_interactive": {
     "language": "fsharp"
    }
   }
  },
  {
   "cell_type": "code",
   "execution_count": null,
   "source": [
    "open Systemathics.Apis.Type.Shared.V1\n",
    "open Systemathics.Apis.Services.DailyAnalytics.V1\n",
    "open Google.Protobuf.WellKnownTypes\n",
    "open Google.Type\n",
    "open Grpc.Core\n",
    "open Grpc.Net.Client\n",
    "open XPlot.Plotly\n",
    "open XPlot.Plotly.Interactive"
   ],
   "outputs": [],
   "metadata": {
    "dotnet_interactive": {
     "language": "fsharp"
    }
   }
  },
  {
   "cell_type": "markdown",
   "source": [
    "### Step 2: Prepare API requests\n",
    "The following code snippets retrieve authentication token and prepare the API request by: opening the *channel* and adding the *token* to the request header:"
   ],
   "metadata": {}
  },
  {
   "cell_type": "code",
   "execution_count": null,
   "source": [
    "// Retrieve authentication token\n",
    "let token = System.Environment.GetEnvironmentVariable(\"AUTH0_TOKEN\")\n",
    "let api = System.Environment.GetEnvironmentVariable(\"GRPC_APIS\")\n",
    "\n",
    "// Add token to the request header\n",
    "let headers = new Metadata()\n",
    "headers.Add(\"Authorization\", $\"Bearer {token}\")\n",
    "\n",
    "// Define API entry\n",
    "let channel = GrpcChannel.ForAddress($\"https://{api}\")"
   ],
   "outputs": [],
   "metadata": {
    "dotnet_interactive": {
     "language": "fsharp"
    }
   }
  },
  {
   "cell_type": "code",
   "execution_count": null,
   "source": [
    "// Display authentication token \n",
    "token\n",
    "|> display"
   ],
   "outputs": [],
   "metadata": {
    "dotnet_interactive": {
     "language": "fsharp"
    }
   }
  },
  {
   "cell_type": "markdown",
   "source": [
    "### Step 3: Retrieve data\n",
    "To request *daily Bollinger bands* service, we need to specify:\n",
    "* Instrument identifier\n",
    "* Time period selection: select start and end dates\n",
    "* The Bollinger bands parameters"
   ],
   "metadata": {}
  },
  {
   "cell_type": "markdown",
   "source": [
    "#### 3.1 Instrument selection"
   ],
   "metadata": {}
  },
  {
   "cell_type": "code",
   "execution_count": null,
   "source": [
    "// Set instrument\n",
    "let ticker = \"AAPL\"\n",
    "let exchange = \"XNGS\""
   ],
   "outputs": [],
   "metadata": {
    "dotnet_interactive": {
     "language": "fsharp"
    }
   }
  },
  {
   "cell_type": "markdown",
   "source": [
    "#### 3.2 Bollinger bands parameters"
   ],
   "metadata": {}
  },
  {
   "cell_type": "code",
   "execution_count": null,
   "source": [
    "// Set parameters\n",
    "let length = 100\n",
    "let deviation = 0.4"
   ],
   "outputs": [],
   "metadata": {
    "dotnet_interactive": {
     "language": "fsharp"
    }
   }
  },
  {
   "cell_type": "markdown",
   "source": [
    "#### 3.3 Time period selection"
   ],
   "metadata": {}
  },
  {
   "cell_type": "code",
   "execution_count": null,
   "source": [
    "// Set data interval (we are using Google date time format)\n",
    "let dateIntervals = \n",
    "  new DateInterval(\n",
    "    StartDate = new Date ( Year = 2019, Month = 01, Day = 01 ),\n",
    "    EndDate = new Date ( Year = 2020, Month = 12, Day = 31 )\n",
    "  )\n",
    "\n",
    "// Generate constraints based on the previous date selection\n",
    "// Time constraints are not neeeded for the splits\n",
    "let constraints = new Constraints() \n",
    "constraints.DateIntervals.Add(dateIntervals)"
   ],
   "outputs": [],
   "metadata": {
    "dotnet_interactive": {
     "language": "fsharp"
    }
   }
  },
  {
   "cell_type": "markdown",
   "source": [
    "#### 3.4 Request creation\n",
    "The following code snippets creates *gRPC client*, process daily Bollinger bands request and returns the request reply:"
   ],
   "metadata": {}
  },
  {
   "cell_type": "code",
   "execution_count": null,
   "source": [
    "// Instantiate the daily Bollinger bands service\n",
    "let service = new DailyBollingerService.DailyBollingerServiceClient(channel)\n",
    "\n",
    "// Create and process the daily Bollinger bands  request\n",
    "let request = \n",
    "    new DailyBollingerRequest(\n",
    "        Identifier = new Identifier ( Exchange = exchange, Ticker = ticker ),\n",
    "        Length = length, \n",
    "        Deviation = deviation,\n",
    "        Constraints = constraints\n",
    "    )\n",
    "\n",
    "let reply = service.DailyBollinger(request, headers)\n",
    "\n",
    "// Visualize requests' results\n",
    "//reply.Data\n",
    "//|> display"
   ],
   "outputs": [],
   "metadata": {
    "dotnet_interactive": {
     "language": "fsharp"
    }
   }
  },
  {
   "cell_type": "markdown",
   "source": [
    "### Step 4: Visualize data"
   ],
   "metadata": {}
  },
  {
   "cell_type": "markdown",
   "source": [
    "#### 4.1 Select data"
   ],
   "metadata": {}
  },
  {
   "cell_type": "code",
   "execution_count": null,
   "source": [
    "// Extract the price and the Bollinger bands\n",
    "let prices  = (reply.Data |> Seq.map (fun t -> (new DateTime(t.Date.Year, t.Date.Month, t.Date.Day), t.Value)))\n",
    "let uppers  = (reply.Data |> Seq.map (fun t -> (new DateTime(t.Date.Year, t.Date.Month, t.Date.Day), t.Upper)))\n",
    "let middles = (reply.Data |> Seq.map (fun t -> (new DateTime(t.Date.Year, t.Date.Month, t.Date.Day), t.Middle)))\n",
    "let lowers  = (reply.Data |> Seq.map (fun t -> (new DateTime(t.Date.Year, t.Date.Month, t.Date.Day), t.Lower)))"
   ],
   "outputs": [],
   "metadata": {
    "dotnet_interactive": {
     "language": "fsharp"
    }
   }
  },
  {
   "cell_type": "markdown",
   "source": [
    "#### 4.2 Plot Bollinger bands\n",
    "Display Bollinger bands over the look back period with the package of your choice.<br>*`XPlot.Plotly`* is used as per open source display package."
   ],
   "metadata": {}
  },
  {
   "cell_type": "code",
   "execution_count": null,
   "source": [
    "// Plot Bollinger bands\n",
    "let bollingerGraph = \n",
    "    [\n",
    "        new Scattergl(\n",
    "            name = \"Upper band\",\n",
    "            mode = \"lines\",\n",
    "            x = (uppers |>  Seq.map fst),\n",
    "            y = (uppers |>  Seq.map snd)\n",
    "        )\n",
    "        new Scattergl(\n",
    "            name = \"Middle band\",\n",
    "            mode = \"lines\",\n",
    "            x = (middles |>  Seq.map fst),\n",
    "            y = (middles |>  Seq.map snd)\n",
    "        )\n",
    "        new Scattergl(\n",
    "            name = \"Lower band\",\n",
    "            mode = \"lines\",\n",
    "            x = (lowers |>  Seq.map fst),\n",
    "            y = (lowers |>  Seq.map snd)\n",
    "        )\n",
    "        new Scattergl(\n",
    "            name = \"Price\",\n",
    "            mode = \"lines\",\n",
    "            x = (prices |>  Seq.map fst),\n",
    "            y = (prices |>  Seq.map snd),\n",
    "            yaxis = \"y2\"\n",
    "        )\n",
    "    ]\n",
    "\n",
    "let layout = \n",
    "    new Layout.Layout(\n",
    "        title = $\"Bollinger bands and daily prices for {ticker}-{exchange}\",\n",
    "        xaxis = new Xaxis( title = \"Date\"),\n",
    "        yaxis = new Yaxis (\n",
    "            title = \"Price\", \n",
    "            autorange = true,\n",
    "            side = \"left\"\n",
    "        ),\n",
    "        yaxis2 = new Yaxis (\n",
    "            title = \"Bollinger bands\", \n",
    "            autorange = true,\n",
    "            side = \"right\"\n",
    "        )\n",
    "    )\n",
    "\n",
    "Chart.Plot(bollingerGraph,layout)\n",
    "|> Chart.WithWidth 1500\n",
    "|> Chart.WithHeight 800\n",
    "|> display"
   ],
   "outputs": [],
   "metadata": {
    "dotnet_interactive": {
     "language": "fsharp"
    }
   }
  }
 ],
 "metadata": {
  "kernelspec": {
   "display_name": ".NET (F#)",
   "language": "F#",
   "name": ".net-fsharp"
  },
  "language_info": {
   "file_extension": ".fs",
   "mimetype": "text/x-fsharp",
   "name": "F#",
   "pygments_lexer": "fsharp",
   "version": "5.0"
  }
 },
 "nbformat": 4,
 "nbformat_minor": 5
}