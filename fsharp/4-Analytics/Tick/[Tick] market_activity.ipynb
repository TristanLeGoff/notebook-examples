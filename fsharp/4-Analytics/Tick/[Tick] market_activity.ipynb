{
 "cells": [
  {
   "cell_type": "markdown",
   "source": [
    "## Compute tick count using dedicated service(F#)\n",
    "\n",
    "### Overview\n",
    "Tick count can be used as an indicator to illustrate market activity by computing the technical transactions/transmissions count on a tick by tick basis.\n",
    "\n",
    "It represents a valuable technical indicator to monitor tick by tick data reception. Building a history of tick count can be useful in the following use-cases:\n",
    "* guarantee tick by tick data good reception and completion\n",
    "* compare trading periods and highlight high-level of activity periods\n",
    "* combined with other indicators, it helps to optimal future rolling \n",
    "* etc.\n",
    "\n",
    "Correlated with a set of other indicators such as traded volume and count of trades, over the same look back period, it repserents a good measurement of the market quality.\n",
    "\n",
    "This samples enables to retrieve **on-demand** tick count data points by calling a dedicated service.\n",
    "\n",
    "### Inputs/outputs\n",
    "Tick count sample requires instrument's identifier, date time intervals and time granularity as per inputs. It returns the tick count sampled using the input time granularity.\n",
    "\n",
    "This sample also shows how to plot a simple graph for basis financial analysis using an open source library.\n",
    "\n",
    "\n",
    "### Services used\n",
    "This sample uses *gRPC requests* in order to retrieve ticks from the dedicated hosted service. The queried endpoint in this script are:\n",
    "* *TopologiesService*: to directly retrieve ticks objects from the server.\n",
    "\n",
    "### Packages required\n",
    "1. Systemathics packages:\n",
    "    * *Systemathics.Apis.Type.Shared.V1*\n",
    "    * *Systemathics.Apis.Services.Topology.V1*\n",
    "2. Open source packages\n",
    "    * *Google.Protobuf.WellKnownTypes*\n",
    "    * *Google.Type*\n",
    "    * *Grpc.Net.Client*\n",
    "    * *Grpc.Core*\n",
    "    * *XPlot.Plotly* as per display package\n",
    "\n",
    "***"
   ],
   "metadata": {}
  },
  {
   "cell_type": "markdown",
   "source": [
    "# Run tick count sample"
   ],
   "metadata": {}
  },
  {
   "cell_type": "markdown",
   "source": [
    "### Step 1: Install packages"
   ],
   "metadata": {}
  },
  {
   "cell_type": "code",
   "execution_count": null,
   "source": [
    "#i \"nuget: file:///home/jovyan/.nuget/packages/\"\n",
    "#i \"nuget: https://api.nuget.org/v3/index.json\"\n",
    "#r \"nuget: Systemathics.Apis\"\n",
    "#r \"nuget: XPlot.Plotly.Interactive\"\n",
    "#r \"nuget: TaskBuilder.fs\""
   ],
   "outputs": [],
   "metadata": {
    "dotnet_interactive": {
     "language": "fsharp"
    }
   }
  },
  {
   "cell_type": "code",
   "execution_count": null,
   "source": [
    "open Systemathics.Apis.Type.Shared.V1\n",
    "open Systemathics.Apis.Services.Topology.V1\n",
    "open Google.Protobuf.WellKnownTypes\n",
    "open Google.Type\n",
    "open Grpc.Net.Client\n",
    "open Grpc.Core\n",
    "open XPlot.Plotly\n",
    "open XPlot.Plotly.Interactive"
   ],
   "outputs": [],
   "metadata": {
    "dotnet_interactive": {
     "language": "fsharp"
    }
   }
  },
  {
   "cell_type": "markdown",
   "source": [
    "### Step 2: Prepare API requests\n",
    "The following code snippets retrieve authentication token and prepare the API request by: opening the *channel* and adding the *token* to the request header:"
   ],
   "metadata": {}
  },
  {
   "cell_type": "code",
   "execution_count": null,
   "source": [
    "// Retrieve authentication token\n",
    "let token = System.Environment.GetEnvironmentVariable(\"AUTH0_TOKEN\")\n",
    "let api = System.Environment.GetEnvironmentVariable(\"GRPC_APIS\")\n",
    "\n",
    "// Add token to the request header\n",
    "let headers = new Metadata()\n",
    "headers.Add(\"Authorization\", $\"Bearer {token}\")\n",
    "\n",
    "// Define API entry\n",
    "let channel = GrpcChannel.ForAddress($\"https://{api}\")"
   ],
   "outputs": [],
   "metadata": {
    "dotnet_interactive": {
     "language": "fsharp"
    }
   }
  },
  {
   "cell_type": "code",
   "execution_count": null,
   "source": [
    "// Display authentication token \n",
    "token\n",
    "|> display"
   ],
   "outputs": [],
   "metadata": {
    "dotnet_interactive": {
     "language": "fsharp"
    }
   }
  },
  {
   "cell_type": "markdown",
   "source": [
    "### Step 3: Create and process request\n",
    "To request *TopologiesService*, we need to specify:\n",
    "* Instrument identifier\n",
    "* Time period selection: select start and end dates\n",
    "* Topology request parameters"
   ],
   "metadata": {}
  },
  {
   "cell_type": "markdown",
   "source": [
    "#### 3.1 Instrument selection"
   ],
   "metadata": {}
  },
  {
   "cell_type": "code",
   "execution_count": null,
   "source": [
    "let ticker = \"AAPL\"\n",
    "let exchange = \"BATS\""
   ],
   "outputs": [],
   "metadata": {
    "dotnet_interactive": {
     "language": "fsharp"
    }
   }
  },
  {
   "cell_type": "markdown",
   "source": [
    "#### 3.2 Topology parmeters"
   ],
   "metadata": {}
  },
  {
   "cell_type": "code",
   "execution_count": null,
   "source": [
    "let granularity = TopologyGranularity.Daily\n",
    "let level = Level.TradesAndBook"
   ],
   "outputs": [],
   "metadata": {
    "dotnet_interactive": {
     "language": "fsharp"
    }
   }
  },
  {
   "cell_type": "markdown",
   "source": [
    "#### 3.2 Request creation\n",
    "The following code snippets creates *gRPC client*, process request and returns the request reply:"
   ],
   "metadata": {}
  },
  {
   "cell_type": "code",
   "execution_count": null,
   "source": [
    "// Generate the topologies request\n",
    "let request = \n",
    "    new TopologiesRequest( \n",
    "        Identifier = new Identifier ( Exchange = exchange, Ticker = ticker), \n",
    "        Granularity = granularity ,\n",
    "        Level = level\n",
    "    )\n",
    "\n",
    "// Instantiate the topologies service\n",
    "let service = new TopologiesService.TopologiesServiceClient(channel)"
   ],
   "outputs": [],
   "metadata": {
    "dotnet_interactive": {
     "language": "fsharp"
    }
   }
  },
  {
   "cell_type": "markdown",
   "source": [
    "### Step4: Visualize data"
   ],
   "metadata": {}
  },
  {
   "cell_type": "markdown",
   "source": [
    "#### 4.1 Retrieve tick count data"
   ],
   "metadata": {}
  },
  {
   "cell_type": "code",
   "execution_count": null,
   "source": [
    "// Process the topologies request\n",
    "let reply = service.Topologies(request, headers)\n",
    "\n",
    "// Generate request response and total tick count\n",
    "let topologies = reply.Entries\n",
    "let totalTicks = reply.Entries |> Seq.sumBy (fun t -> t.TicksCount)\n",
    "\n",
    "// Retrieve daily tick count\n",
    "let topologiesSelection = topologies |> Seq.map (fun t -> (new DateTime(t.Begin.Year, t.Begin.Month, t.Begin.Day), t.TicksCount))"
   ],
   "outputs": [],
   "metadata": {
    "dotnet_interactive": {
     "language": "fsharp"
    }
   }
  },
  {
   "cell_type": "markdown",
   "source": [
    "#### 4.2 Plot tick count\n",
    "Plot daily tick count over the look back period from the request result and plot them with the package of your choice.<br>*`XPlot.Plotly`* is used as per open source display package."
   ],
   "metadata": {}
  },
  {
   "cell_type": "code",
   "execution_count": null,
   "source": [
    "topologiesSelection\n",
    "|> Chart.Column\n",
    "|> Chart.WithTitle $\"{granularity} ticks count for {ticker} - Total ticks count: {totalTicks:N0}\"\n",
    "|> Chart.WithYTitle \"#Ticks\"\n",
    "|> Chart.WithXTitle \"Time\"\n",
    "|> Chart.WithWidth 1500\n",
    "|> Chart.WithHeight 800\n",
    "|> display"
   ],
   "outputs": [],
   "metadata": {
    "dotnet_interactive": {
     "language": "fsharp"
    }
   }
  }
 ],
 "metadata": {
  "kernelspec": {
   "display_name": ".NET (F#)",
   "language": "F#",
   "name": ".net-fsharp"
  },
  "language_info": {
   "file_extension": ".fs",
   "mimetype": "text/x-fsharp",
   "name": "F#",
   "pygments_lexer": "fsharp",
   "version": "5.0"
  }
 },
 "nbformat": 4,
 "nbformat_minor": 4
}