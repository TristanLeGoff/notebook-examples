{
 "cells": [
  {
   "cell_type": "markdown",
   "source": [
    "# Generate EMA using dedicated service - F#\n",
    "\n",
    "### Overview\n",
    "Moving averages smooth the price movements by filtering out the \"noise\" caused by short-term price fluctuations.They also form the building blocks for a wide range of technical indicators.\n",
    "\n",
    "Computing moving averages over a defined number of time periods is useful to:\n",
    "* identify the trend direction\n",
    "* determine support and resistance levels\n",
    "\n",
    "This sample demonstrates how to request and plot **on-demand** *exponential moving average - EMA* from a dedicated data service.\n",
    "\n",
    "### Inputs/outputs\n",
    "Exponential moving averages' requests require instrument's identifier, date time intervals and number of points as per inputs.\n",
    "\n",
    "EMA reduces the lag by applying greater weight to recent data points.The weighting applied to the most recent price depends on the number of points in the moving average The smaller the point count is, the more weight is applied to the most recent price.\n",
    "\n",
    "N-points EMA data point is computed using the previous' *EMA* value and the wighting multiplier as follows:\n",
    "\n",
    "$$ EMA = (Price-EMAp)*k+EMAp $$\n",
    "\n",
    "Where:\n",
    "* *Price* is the trade price\n",
    "* *EMAp* is the previous points' *EMA* value, *SMA* is used as the EMAp in the first calculation\n",
    "* *N* is the count of points\n",
    "* *$ k = \\frac{2}{N+1} $* is the *Weighting Multiplier*\n",
    "\n",
    "<div class=\"alert alert-block alert-info\">\n",
    "    <b>Note:</b> <i>EMA</i> adapts quickly to price changes than the <i>SMA</i>, when a price reverses direction, the <i>EMA</i> will reverse direction quicker than the <i>SMA</i> dur to the weighting \n",
    "</div>\n",
    "\n",
    "This sample shows how to plot a simple graph for basis technical analysis using an open source library. \n",
    "\n",
    "### Services used\n",
    "This sample uses *gRPC requests* in order to retrieve EMA indicator from the hosted service. The queried endpoint in this script are:\n",
    "* *TickEmaService*: to directly retrieve EMA data from the server\n",
    "\n",
    "### Packages required\n",
    "1. Systemathics packages:\n",
    "    * *Systemathics.Apis.Type.Shared.V1*\n",
    "    * *Systemathics.Apis.Services.TickAnalytics.V1*\n",
    "2. Open source packages\n",
    "    * *Google.Protobuf.WellKnownTypes*\n",
    "    * *Google.Type*\n",
    "    * *Grpc.Net.Client*\n",
    "    * *Grpc.Core*\n",
    "    * *XPlot.Plotly* as per display package\n",
    "\n",
    "***"
   ],
   "metadata": {}
  },
  {
   "cell_type": "markdown",
   "source": [
    "# Run EMA sample"
   ],
   "metadata": {}
  },
  {
   "cell_type": "markdown",
   "source": [
    "### Step 1: Install packages"
   ],
   "metadata": {}
  },
  {
   "cell_type": "code",
   "execution_count": null,
   "source": [
    "#i \"nuget: file:///home/jovyan/.nuget/packages/\"\n",
    "#i \"nuget: https://api.nuget.org/v3/index.json\"\n",
    "#r \"nuget: Systemathics.Apis\"\n",
    "#r \"nuget: XPlot.Plotly.Interactive\"\n",
    "#r \"nuget: TaskBuilder.fs\""
   ],
   "outputs": [],
   "metadata": {
    "dotnet_interactive": {
     "language": "fsharp"
    }
   }
  },
  {
   "cell_type": "code",
   "execution_count": null,
   "source": [
    "open Systemathics.Apis.Type.Shared.V1\n",
    "open Systemathics.Apis.Services.TickAnalytics.V1\n",
    "open Google.Protobuf.WellKnownTypes\n",
    "open Google.Type\n",
    "open Grpc.Core\n",
    "open Grpc.Net.Client\n",
    "open XPlot.Plotly\n",
    "open XPlot.Plotly.Interactive"
   ],
   "outputs": [],
   "metadata": {
    "dotnet_interactive": {
     "language": "fsharp"
    }
   }
  },
  {
   "cell_type": "markdown",
   "source": [
    "### Step 2: Prepare API requests\n",
    "The following code snippets retrieve authentication token and prepare the API request by: opening the *channel* and adding the *token* to the request header:"
   ],
   "metadata": {}
  },
  {
   "cell_type": "code",
   "execution_count": null,
   "source": [
    "// Retrieve authentication token\n",
    "let token = System.Environment.GetEnvironmentVariable(\"AUTH0_TOKEN\")\n",
    "let api = System.Environment.GetEnvironmentVariable(\"GRPC_APIS\")\n",
    "\n",
    "// Add token to the request header\n",
    "let headers = new Metadata()\n",
    "headers.Add(\"Authorization\", $\"Bearer {token}\")\n",
    "\n",
    "// Define API entry\n",
    "let channel = GrpcChannel.ForAddress($\"https://{api}\")"
   ],
   "outputs": [],
   "metadata": {
    "dotnet_interactive": {
     "language": "fsharp"
    }
   }
  },
  {
   "cell_type": "code",
   "execution_count": null,
   "source": [
    "// Display authentication token \n",
    "token\n",
    "|> display"
   ],
   "outputs": [],
   "metadata": {
    "dotnet_interactive": {
     "language": "fsharp"
    }
   }
  },
  {
   "cell_type": "markdown",
   "source": [
    "### Step 3: Create and process request\n",
    "To request *EMA* service, we need to specify:\n",
    "* Instrument identifier\n",
    "* Time period selection: select start and end dates\n",
    "* Exponential moving average request parameters"
   ],
   "metadata": {}
  },
  {
   "cell_type": "markdown",
   "source": [
    "#### 3.1 Instrument selection"
   ],
   "metadata": {}
  },
  {
   "cell_type": "code",
   "execution_count": null,
   "source": [
    "let ticker = \"AAPL\"\n",
    "let exchange = \"BATS\""
   ],
   "outputs": [],
   "metadata": {
    "dotnet_interactive": {
     "language": "fsharp"
    }
   }
  },
  {
   "cell_type": "markdown",
   "source": [
    "#### 3.2 EMA parameters"
   ],
   "metadata": {}
  },
  {
   "cell_type": "code",
   "execution_count": null,
   "source": [
    "let field = EmaPrice.Trade\n",
    "let longEma = 200\n",
    "let shortEma = 50\n",
    "let sampling = new Duration ( Seconds = 60L )"
   ],
   "outputs": [],
   "metadata": {
    "dotnet_interactive": {
     "language": "fsharp"
    }
   }
  },
  {
   "cell_type": "markdown",
   "source": [
    "#### 3.2 Time period delimitation"
   ],
   "metadata": {}
  },
  {
   "cell_type": "code",
   "execution_count": null,
   "source": [
    "// Build the bars request date interval (we are using Google date time format : we have to cast the dates)\n",
    "let dateIntervals = \n",
    "  new DateInterval(\n",
    "    StartDate = new Date ( Year = 2020, Month = 02, Day = 18 ),\n",
    "    EndDate = new Date ( Year = 2020, Month = 02, Day = 18 )\n",
    "  )\n",
    "\n",
    "// Build the bars request time interval (we are using Google date time format : we have to cast the dates)\n",
    "// UTC time zone\n",
    "let timeInterval = \n",
    "  new TimeInterval(\n",
    "    StartTime = new TimeOfDay ( Hours = 08, Minutes = 00, Seconds = 00 ),\n",
    "    EndTime = new TimeOfDay ( Hours = 20, Minutes = 00, Seconds = 00 ) \n",
    "  )"
   ],
   "outputs": [],
   "metadata": {
    "dotnet_interactive": {
     "language": "fsharp"
    }
   }
  },
  {
   "cell_type": "markdown",
   "source": [
    "#### 3.3 Request creation\n",
    "The following code snippets creates *gRPC client*, process request and returns the request reply:"
   ],
   "metadata": {}
  },
  {
   "cell_type": "code",
   "execution_count": null,
   "source": [
    "// Generate constraints based on the previous space selection:\n",
    "let constraints = new Constraints()\n",
    "constraints.DateIntervals.Add(dateIntervals)\n",
    "constraints.TimeIntervals.Add(timeInterval)   "
   ],
   "outputs": [],
   "metadata": {
    "dotnet_interactive": {
     "language": "fsharp"
    }
   }
  },
  {
   "cell_type": "markdown",
   "source": [
    "The following code snippets create requests for: *Long EMA*, *Short EMA* and *Prices*:"
   ],
   "metadata": {}
  },
  {
   "cell_type": "code",
   "execution_count": null,
   "source": [
    "// Generate 200-points EMA request\n",
    "let emaLongRequest = \n",
    "    new TickEmaRequest(\n",
    "        Identifier = new Identifier ( Exchange = exchange, Ticker = ticker), \n",
    "        Constraints = constraints,  \n",
    "        Field = field,\n",
    "        Length = longEma, \n",
    "        Sampling = sampling\n",
    "    )\n",
    "\n",
    "// Generate 50-points EMA request\n",
    "let emaShortRequest = \n",
    "    new TickEmaRequest(\n",
    "        Identifier = new Identifier ( Exchange = exchange, Ticker = ticker), \n",
    "        Constraints = constraints,  \n",
    "        Field = field,\n",
    "        Length = shortEma, \n",
    "        Sampling = sampling\n",
    "    )\n",
    "\n",
    "// Instantiate the tick EMA service\n",
    "let service = new TickEmaService.TickEmaServiceClient(channel)"
   ],
   "outputs": [],
   "metadata": {
    "dotnet_interactive": {
     "language": "fsharp"
    }
   }
  },
  {
   "cell_type": "markdown",
   "source": [
    "### Step 4: Visualize data"
   ],
   "metadata": {}
  },
  {
   "cell_type": "markdown",
   "source": [
    "#### 4.1 Retrieve long EMA data"
   ],
   "metadata": {}
  },
  {
   "cell_type": "code",
   "execution_count": null,
   "source": [
    "open FSharp.Control.Tasks.V2\n",
    "open System.Collections.Generic\n",
    "\n",
    "let iterAsync (t: IAsyncEnumerable<'T>) (f : 'T -> unit) =\n",
    "    let task = \n",
    "        task {\n",
    "            let e = t.GetAsyncEnumerator()\n",
    "            let mutable go = true\n",
    "            try\n",
    "                let! step = e.MoveNextAsync()\n",
    "                go <- step\n",
    "                while go do \n",
    "                    f e.Current\n",
    "                    let! step = e.MoveNextAsync()\n",
    "                    go <- step\n",
    "            finally\n",
    "                e.DisposeAsync().AsTask().Wait()\n",
    "        }\n",
    "    task.Wait()\n",
    "\n",
    "let emalong = new List<TickEmaResponse>()\n",
    "let call = service.TickEma(emaLongRequest, headers)\n",
    "let e = call.ResponseStream.ReadAllAsync()\n",
    "\n",
    "iterAsync e emalong.Add\n",
    "\n",
    "//emalong |> display"
   ],
   "outputs": [],
   "metadata": {
    "dotnet_interactive": {
     "language": "fsharp"
    }
   }
  },
  {
   "cell_type": "markdown",
   "source": [
    "#### 4.2 Retrieve short EMA data"
   ],
   "metadata": {}
  },
  {
   "cell_type": "code",
   "execution_count": null,
   "source": [
    "open FSharp.Control.Tasks.V2\n",
    "open System.Collections.Generic\n",
    "\n",
    "let iterAsync (t: IAsyncEnumerable<'T>) (f : 'T -> unit) =\n",
    "    let task = \n",
    "        task {\n",
    "            let e = t.GetAsyncEnumerator()\n",
    "            let mutable go = true\n",
    "            try\n",
    "                let! step = e.MoveNextAsync()\n",
    "                go <- step\n",
    "                while go do \n",
    "                    f e.Current\n",
    "                    let! step = e.MoveNextAsync()\n",
    "                    go <- step\n",
    "            finally\n",
    "                e.DisposeAsync().AsTask().Wait()\n",
    "        }\n",
    "    task.Wait()\n",
    "\n",
    "let emashort = new List<TickEmaResponse>()\n",
    "let call = service.TickEma(emaShortRequest, headers)\n",
    "let e = call.ResponseStream.ReadAllAsync()\n",
    "\n",
    "iterAsync e emalong.Add\n",
    "\n",
    "//emashort |> display"
   ],
   "outputs": [],
   "metadata": {
    "dotnet_interactive": {
     "language": "fsharp"
    }
   }
  },
  {
   "cell_type": "markdown",
   "source": [
    "#### 4.1 Plot EMA and prices\n",
    "Plot the EMA and prices request' results with the package of your choice.<br>*`XPlot.Plotly`* is used as per open source display package. Plot a simple line graph with the EMA and prices data points: "
   ],
   "metadata": {}
  },
  {
   "cell_type": "code",
   "execution_count": null,
   "source": [
    "[\n",
    "    new Scattergl(\n",
    "        name = \"200-points EMA\",\n",
    "        mode = \"lines\",\n",
    "        x = (emalong |> Seq.map (fun l -> l.TimeStamp.ToDateTime())),\n",
    "        y = (emalong |> Seq.map (fun l -> l.Average))\n",
    "    )\n",
    "    new Scattergl(\n",
    "        name = \"50-points EMA\",\n",
    "        mode = \"lines\",\n",
    "        x = (emashort |> Seq.map ( fun l -> l.TimeStamp.ToDateTime())),\n",
    "        y = (emashort |> Seq.map ( fun l -> l.Average))\n",
    "    )\n",
    "    new Scattergl(\n",
    "        name = \"Prices\",\n",
    "        mode = \"lines\",\n",
    "        x = (emalong |> Seq.map (fun l -> l.TimeStamp.ToDateTime())),\n",
    "        y = (emalong |> Seq.map (fun l -> l.Value))\n",
    "    )\n",
    "]\n",
    "|> Chart.Plot\n",
    "|> Chart.WithTitle $\"EMAs and prices for {ticker}\"\n",
    "|> Chart.WithXTitle \"Time\"\n",
    "|> Chart.WithYTitle \"Price\"\n",
    "|> Chart.WithWidth 1500\n",
    "|> Chart.WithHeight 800\n",
    "|> display"
   ],
   "outputs": [],
   "metadata": {
    "dotnet_interactive": {
     "language": "fsharp"
    }
   }
  }
 ],
 "metadata": {
  "kernelspec": {
   "display_name": ".NET (F#)",
   "language": "F#",
   "name": ".net-fsharp"
  },
  "language_info": {
   "file_extension": ".fs",
   "mimetype": "text/x-fsharp",
   "name": "F#",
   "pygments_lexer": "fsharp",
   "version": "5.0"
  }
 },
 "nbformat": 4,
 "nbformat_minor": 5
}