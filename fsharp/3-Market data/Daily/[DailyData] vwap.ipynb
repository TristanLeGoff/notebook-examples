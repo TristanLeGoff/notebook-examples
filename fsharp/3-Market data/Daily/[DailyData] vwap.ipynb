{
 "cells": [
  {
   "cell_type": "markdown",
   "source": [
    "# Generate daily VWAP using dedicated service - F#\n",
    "\n",
    "### Overview\n",
    "The Volume Weighted Average price is similar to a moving average, except volume is included to weight the average price over a one trading day period.\n",
    "\n",
    "It serves as a reference point for one trading day prices. Comparing current prices with the VWAP values enables to:\n",
    "* mesure trading efficiency by comparing individual trades to VWAP\n",
    "* highlight liquidity points as vwap reflects prices levels weighted by volume\n",
    "* determine the intraday trend\n",
    "* etc.\n",
    "\n",
    "This sample demonstrates how to request and plot from a dedicated data service **on-demand** `daily` VWAP price.\n",
    "\n",
    "### Inputs/outputs\n",
    "Daily VWAP indicator requires instrument's identifier, date time intervals and time range as per inputs and returns the daily VWAP data points.\n",
    "\n",
    "VWAP is a cumulative indicator which means the number of data points progressively increases throughtout the day.\n",
    "\n",
    "This sample shows how to plot a simple daily vwap for basis technical analysis using an open source library. \n",
    "\n",
    "### Services used\n",
    "This sample uses gRPC requests in order to retrieve VWAP indicator from the hosted service. The queried endpoint in this script are:\n",
    "* *DailyVwapsService*: to directly retrieve daily VWAP objects from the server\n",
    "\n",
    "### Packages required\n",
    "1. Systemathics packages:\n",
    "    * *Systemathics.Apis.Type.Shared.V1*\n",
    "    * *Systemathics.Apis.Services.Daily.V1*\n",
    "2. Open source packages\n",
    "    * *Google.Protobuf.WellKnownTypes*\n",
    "    * *Google.Type*\n",
    "    * *Grpc.Net.Client*\n",
    "    * *Grpc.Core*\n",
    "    * *XPlot.Plotly* as per display package\n",
    "\n",
    "***"
   ],
   "metadata": {}
  },
  {
   "cell_type": "markdown",
   "source": [
    "# Run daily VWAP sample"
   ],
   "metadata": {}
  },
  {
   "cell_type": "markdown",
   "source": [
    "### Step 1: Install packages"
   ],
   "metadata": {}
  },
  {
   "cell_type": "code",
   "execution_count": null,
   "source": [
    "#i \"nuget: file:///home/jovyan/.nuget/packages/\"\n",
    "#i \"nuget: https://api.nuget.org/v3/index.json\"\n",
    "#r \"nuget: Systemathics.Apis\"\n",
    "#r \"nuget: XPlot.Plotly.Interactive\""
   ],
   "outputs": [],
   "metadata": {
    "dotnet_interactive": {
     "language": "fsharp"
    }
   }
  },
  {
   "cell_type": "code",
   "execution_count": null,
   "source": [
    "open Systemathics.Apis.Type.Shared.V1\n",
    "open Systemathics.Apis.Services.Daily.V1\n",
    "open Google.Protobuf.WellKnownTypes\n",
    "open Google.Type\n",
    "open Grpc.Net.Client\n",
    "open Grpc.Core\n",
    "open XPlot.Plotly\n",
    "open XPlot.Plotly.Interactive"
   ],
   "outputs": [],
   "metadata": {
    "dotnet_interactive": {
     "language": "fsharp"
    }
   }
  },
  {
   "cell_type": "markdown",
   "source": [
    "### Step 2: Prepare API requests\n",
    "The following code snippets retrieve authentication token and prepare the API request by: opening the *channel* and adding the *token* to the request header:"
   ],
   "metadata": {}
  },
  {
   "cell_type": "code",
   "execution_count": null,
   "source": [
    "// Retrieve authentication token\n",
    "let token = System.Environment.GetEnvironmentVariable(\"AUTH0_TOKEN\")\n",
    "let api = System.Environment.GetEnvironmentVariable(\"GRPC_APIS\")\n",
    "\n",
    "// Add token to the request header\n",
    "let headers = new Metadata()\n",
    "headers.Add(\"Authorization\", $\"Bearer {token}\")\n",
    "\n",
    "// Define API entry\n",
    "let channel = GrpcChannel.ForAddress($\"https://{api}\")"
   ],
   "outputs": [],
   "metadata": {
    "dotnet_interactive": {
     "language": "fsharp"
    }
   }
  },
  {
   "cell_type": "code",
   "execution_count": null,
   "source": [
    "// Display authentication token \n",
    "token\n",
    "|> display"
   ],
   "outputs": [],
   "metadata": {
    "dotnet_interactive": {
     "language": "fsharp"
    }
   }
  },
  {
   "cell_type": "markdown",
   "source": [
    "### Step 3: Create and process request"
   ],
   "metadata": {}
  },
  {
   "cell_type": "markdown",
   "source": [
    "#### 3.1 Request Parameters\n",
    "To request *daily vwap* service, we need to specify:\n",
    "* Instrument identifier\n",
    "* Time period selection: select start and end dates\n",
    "* Service called: *DailyVwapsService* in order to retrieve daily data"
   ],
   "metadata": {}
  },
  {
   "cell_type": "code",
   "execution_count": null,
   "source": [
    "// Set instrument\n",
    "let ticker = \"ACA\"\n",
    "let exchange = \"XPAR\""
   ],
   "outputs": [],
   "metadata": {
    "dotnet_interactive": {
     "language": "fsharp"
    }
   }
  },
  {
   "cell_type": "markdown",
   "source": [
    "#### 3.2 Request creation\n",
    "The following code snippet creates *gRPC client*, process request and returns request reply."
   ],
   "metadata": {}
  },
  {
   "cell_type": "code",
   "execution_count": null,
   "source": [
    "// Instantiate the daily vwap service\n",
    "let service = new DailyVwapsService.DailyVwapsServiceClient(channel)\n",
    "\n",
    "// Create and process daily vwap request\n",
    "let request = \n",
    "    new DailyVwapsRequest(\n",
    "        Identifier = new Identifier(Exchange = exchange, Ticker = ticker)\n",
    "    )\n",
    "\n",
    "let reply = service.DailyVwaps(request, headers)"
   ],
   "outputs": [],
   "metadata": {
    "dotnet_interactive": {
     "language": "fsharp"
    }
   }
  },
  {
   "cell_type": "markdown",
   "source": [
    "The following code snippet displays the *daily vwap* data points:"
   ],
   "metadata": {}
  },
  {
   "cell_type": "code",
   "execution_count": null,
   "source": [
    "reply.Data\n",
    "|> display"
   ],
   "outputs": [],
   "metadata": {
    "dotnet_interactive": {
     "language": "fsharp"
    }
   }
  },
  {
   "cell_type": "markdown",
   "source": [
    "### Step 4: Visualize data"
   ],
   "metadata": {}
  },
  {
   "cell_type": "markdown",
   "source": [
    "#### 4.1 Plot vwap and volume\n",
    "The following code snippets retrive *Close prices* over the look back period from the request result and plot them with the package of your choice.<br><i>`XPlot.Plotly`</i> is used as per open source display package."
   ],
   "metadata": {}
  },
  {
   "cell_type": "code",
   "execution_count": null,
   "source": [
    "// Extract the daily vwap and the volume\n",
    "let vwaps = \n",
    "    reply.Data\n",
    "    |> Seq.map (fun t -> (new DateTime(t.Date.Year, t.Date.Month, t.Date.Day), t.Price))\n",
    "let volumes = \n",
    "    reply.Data\n",
    "    |> Seq.map (fun t -> (new DateTime(t.Date.Year, t.Date.Month, t.Date.Day), t.Volume))"
   ],
   "outputs": [],
   "metadata": {
    "dotnet_interactive": {
     "language": "fsharp"
    }
   }
  },
  {
   "cell_type": "code",
   "execution_count": null,
   "source": [
    "// Create the graph\n",
    "let vwapGraph = \n",
    "    [\n",
    "        new Scattergl(\n",
    "            name = \"Vwap\",\n",
    "            mode = \"lines\",\n",
    "            x = (vwaps |> Seq.map fst),\n",
    "            y = (vwaps |> Seq.map snd)\n",
    "        )\n",
    "        new Scattergl(\n",
    "            name = \"Volume\",\n",
    "            mode = \"bar\",\n",
    "            x = (volumes |> Seq.map fst),\n",
    "            y = (volumes |> Seq.map snd),\n",
    "            yaxis = \"y2\"\n",
    "        )\n",
    "    ]\n",
    "\n",
    "\n",
    "let layout = \n",
    "    new Layout.Layout(\n",
    "        title = $\"Vwap & Volume for {ticker}\",\n",
    "        yaxis = new Yaxis (\n",
    "            title = \"Price\", \n",
    "            autorange = true,\n",
    "            side = \"left\"\n",
    "        ),\n",
    "        yaxis2 = new Yaxis (\n",
    "            title = \"Volume\", \n",
    "            autorange = true,\n",
    "            side = \"right\"\n",
    "        )\n",
    "    )\n",
    "\n",
    "Chart.Plot(vwapGraph, layout)\n",
    "|> Chart.WithXTitle \"Time\"\n",
    "|> Chart.WithWidth  1500\n",
    "|> Chart.WithHeight 800\n",
    "|> display"
   ],
   "outputs": [],
   "metadata": {
    "dotnet_interactive": {
     "language": "fsharp"
    }
   }
  }
 ],
 "metadata": {
  "kernelspec": {
   "display_name": ".NET (F#)",
   "language": "F#",
   "name": ".net-fsharp"
  },
  "language_info": {
   "file_extension": ".fs",
   "mimetype": "text/x-fsharp",
   "name": "F#"
  }
 },
 "nbformat": 4,
 "nbformat_minor": 4
}