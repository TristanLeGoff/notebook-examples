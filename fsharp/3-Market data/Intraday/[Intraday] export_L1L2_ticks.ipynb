{
 "cells": [
  {
   "cell_type": "markdown",
   "source": [
    "# Export top of the book & trades using dedicated service - F#\n",
    "\n",
    "### Overview\n",
    "Retrieving trades and top of the book data points over a look back period is a valuable indicator to highlight market activity. It can be correlated with a set of technical indicators to better analyze market movements and build a decision making parameter.\n",
    "\n",
    "This sample is designed to request simultaneously trades and top of the book and illustrate market activity over a look back period.\n",
    "\n",
    "<div class=\"alert alert-block alert-info\">\n",
    "    <b>Note:</b> To highlight individual tradres among market activity. Please refer to <i><a href=\"\">bestex-pointintime</a></i> and <i><a href=\"\">bestex-interval</a></i> notebooks.\n",
    "</div>\n",
    "\n",
    "This sample demonstrates how to request and plot from a dedicated data service **on-demand** trades over the time.\n",
    "\n",
    "### Inputs/outputs\n",
    "Trades and best Bid/Ask extraction sample requires instrument's identifier, date time intervals as per inputs and returns top fo the book the occured trades data points.\n",
    "\n",
    "### Services used\n",
    "This sample uses *gRPC requests* in order to retrieve trades and top of the book from the hosted service. The queried endpoint in this script are:\n",
    "* *TickTradesAndBookService*: to directly retrieve trades and top of the book data from the server.\n",
    "\n",
    "### Packages required\n",
    "1. Systemathics packages:\n",
    "    * *Systemathics.Apis.Type.Shared.V1*\n",
    "    * *Systemathics.Apis.Services.Tick.V1*\n",
    "2. Open source packages\n",
    "    * *Google.Protobuf.WellKnownTypes*\n",
    "    * *Google.Type*\n",
    "    * *Grpc.Net.Client*\n",
    "    * *Grpc.Core*\n",
    "    \n",
    "***"
   ],
   "metadata": {}
  },
  {
   "cell_type": "markdown",
   "source": [
    "# Run Top of the book & Trades extraction sample"
   ],
   "metadata": {}
  },
  {
   "cell_type": "markdown",
   "source": [
    "### Step 1: Install packages"
   ],
   "metadata": {}
  },
  {
   "cell_type": "code",
   "execution_count": null,
   "source": [
    "#i \"nuget: file:///home/jovyan/.nuget/packages/\"\n",
    "#i \"nuget: https://api.nuget.org/v3/index.json\"\n",
    "#r \"nuget: Systemathics.Apis\"\n",
    "#r \"nuget:CsvHelper\"\n",
    "#r \"nuget: TaskBuilder.fs\""
   ],
   "outputs": [],
   "metadata": {
    "dotnet_interactive": {
     "language": "fsharp"
    }
   }
  },
  {
   "cell_type": "code",
   "execution_count": null,
   "source": [
    "open Systemathics.Apis.Type.Shared.V1\n",
    "open Systemathics.Apis.Services.Tick.V1\n",
    "open Google.Protobuf.WellKnownTypes\n",
    "open Google.Type\n",
    "open Grpc.Net.Client\n",
    "open Grpc.Core\n",
    "// csv extraction\n",
    "open CsvHelper \n",
    "open CsvHelper.Configuration\n",
    "open System.IO\n",
    "open System.Globalization\n",
    "open FSharp.Control.Tasks.V2"
   ],
   "outputs": [],
   "metadata": {
    "dotnet_interactive": {
     "language": "fsharp"
    }
   }
  },
  {
   "cell_type": "markdown",
   "source": [
    "### Step 2: Prepare API requests\n",
    "The following code snippets retrieve authentication token and prepare the API request by: opening the *channel* and adding the *token* to the request header:"
   ],
   "metadata": {}
  },
  {
   "cell_type": "code",
   "execution_count": null,
   "source": [
    "// Retrieve authentication token\n",
    "let token = System.Environment.GetEnvironmentVariable(\"AUTH0_TOKEN\")\n",
    "let api = System.Environment.GetEnvironmentVariable(\"GRPC_APIS\")\n",
    "\n",
    "// Add token to the request header\n",
    "let headers = new Metadata()\n",
    "headers.Add(\"Authorization\", $\"Bearer {token}\")\n",
    "\n",
    "// Define API entry\n",
    "let channel = GrpcChannel.ForAddress($\"https://{api}\")"
   ],
   "outputs": [],
   "metadata": {
    "dotnet_interactive": {
     "language": "fsharp"
    }
   }
  },
  {
   "cell_type": "code",
   "execution_count": null,
   "source": [
    "// Display authentication token \n",
    "token\n",
    "|> display"
   ],
   "outputs": [],
   "metadata": {
    "dotnet_interactive": {
     "language": "fsharp"
    }
   }
  },
  {
   "cell_type": "markdown",
   "source": [
    "### Step 3: Create and process request\n",
    "To request *tick trades and book* service, we need to specify:\n",
    "* Instrument identifier\n",
    "* Time period selection: select start and end dates\n",
    "* Tick data request parameters"
   ],
   "metadata": {}
  },
  {
   "cell_type": "markdown",
   "source": [
    "#### 3.1 Instrument selection"
   ],
   "metadata": {}
  },
  {
   "cell_type": "code",
   "execution_count": null,
   "source": [
    "let ticker = \"AAPL\"\n",
    "let exchange = \"BATS\""
   ],
   "outputs": [],
   "metadata": {
    "dotnet_interactive": {
     "language": "fsharp"
    }
   }
  },
  {
   "cell_type": "markdown",
   "source": [
    "#### 3.2 Time period delimitation"
   ],
   "metadata": {}
  },
  {
   "cell_type": "code",
   "execution_count": null,
   "source": [
    "// Create time intervals\n",
    "let start = new DateTime(2021, 03, 05)\n",
    "let end' = new DateTime(2021, 03, 05)\n",
    "let dateIntervals = \n",
    "    new DateInterval(\n",
    "        StartDate = new Date ( Year = start.Year, Month = start.Month, Day = start.Day ),\n",
    "        EndDate = new Date ( Year = end'.Year, Month = end'.Month, Day = end'.Day )\n",
    "    )\n",
    "\n",
    "// Build the market data request time interval (we are using Google date time format : we have to cast the dates)\n",
    "// UTC time zone\n",
    "let timeInterval = \n",
    "    new TimeInterval(\n",
    "        StartTime = new TimeOfDay ( Hours = 14, Minutes = 00, Seconds = 00 ),\n",
    "        EndTime = new TimeOfDay ( Hours = 15, Minutes = 15, Seconds = 00)\n",
    "    )"
   ],
   "outputs": [],
   "metadata": {
    "dotnet_interactive": {
     "language": "fsharp"
    }
   }
  },
  {
   "cell_type": "markdown",
   "source": [
    "#### 3.3 Request creation\n",
    "The following code snippet creates *gRPC client*, process request and returns the request reply:"
   ],
   "metadata": {}
  },
  {
   "cell_type": "code",
   "execution_count": null,
   "source": [
    "// Generate constraints based on the previous time selection:\n",
    "let constraints = new Constraints() \n",
    "constraints.DateIntervals.Add(dateIntervals)\n",
    "constraints.TimeIntervals.Add(timeInterval)"
   ],
   "outputs": [],
   "metadata": {
    "dotnet_interactive": {
     "language": "fsharp"
    }
   }
  },
  {
   "cell_type": "markdown",
   "source": [
    "The following code snippet create the market data request and instantiate the service:"
   ],
   "metadata": {}
  },
  {
   "cell_type": "code",
   "execution_count": null,
   "source": [
    "// Generate the tick data request\n",
    "let request = new TickTradesAndBookRequest ( Constraints = constraints )\n",
    "let identifier = new Identifier ( Exchange = exchange, Ticker = ticker )\n",
    "request.Identifiers.Add( [| identifier |]) \n",
    "\n",
    "// Instantiate the tick data service\n",
    "let service = new TickTradesAndBookService.TickTradesAndBookServiceClient(channel)"
   ],
   "outputs": [],
   "metadata": {
    "dotnet_interactive": {
     "language": "fsharp"
    }
   }
  },
  {
   "cell_type": "markdown",
   "source": [
    "### Step 4: Export data"
   ],
   "metadata": {}
  },
  {
   "cell_type": "markdown",
   "source": [
    "#### 4.1 Retrieve top of the book & trades"
   ],
   "metadata": {}
  },
  {
   "cell_type": "markdown",
   "source": [
    "The following code snippet stores data points for *trades*, *best bid* and *best ask*:"
   ],
   "metadata": {}
  },
  {
   "cell_type": "code",
   "execution_count": null,
   "source": [
    "// Process tick data stream service: get price / size / timestamp\n",
    "open FSharp.Control.Tasks.V2\n",
    "let data = System.Collections.Generic.List<TickTradesAndBookResponse>()\n",
    "// from https://docs.microsoft.com/en-us/archive/msdn-magazine/2019/november/csharp-iterating-with-async-enumerables-in-csharp-8\n",
    "// there is probably a more idiomatic way\n",
    "let t = \n",
    "    task {\n",
    "        let call = service.TickTradesAndBook(request, headers)\n",
    "        let enumerator = call.ResponseStream.ReadAllAsync().GetAsyncEnumerator()\n",
    "        let mutable moveNext = false\n",
    "        try\n",
    "            let! moveNext'  = enumerator.MoveNextAsync()\n",
    "            moveNext <- moveNext'\n",
    "            while moveNext do\n",
    "                data.Add enumerator.Current\n",
    "                let! moveNext'  = enumerator.MoveNextAsync()\n",
    "                moveNext <- moveNext'\n",
    "        finally \n",
    "            if ((isNull enumerator)|>  not) then\n",
    "                //do! enumerator.DisposeAsync().AsTask()\n",
    "                let disp = task { do! enumerator.DisposeAsync() }\n",
    "                disp.Wait()\n",
    "            else\n",
    "                ()\n",
    "    }\n",
    "\n",
    "t.Wait()\n",
    "\n",
    "//data\n",
    "//|> display"
   ],
   "outputs": [],
   "metadata": {
    "dotnet_interactive": {
     "language": "fsharp"
    }
   }
  },
  {
   "cell_type": "markdown",
   "source": [
    "The following code snippet displays request results count:"
   ],
   "metadata": {}
  },
  {
   "cell_type": "code",
   "execution_count": null,
   "source": [
    "// Display trade and top the book data points\n",
    "$\"Total extracted data: {data.Count:N0} data points\"\n",
    "|> display"
   ],
   "outputs": [],
   "metadata": {
    "dotnet_interactive": {
     "language": "fsharp"
    }
   }
  },
  {
   "cell_type": "markdown",
   "source": [
    "#### 4.2 Export top of the book & trades"
   ],
   "metadata": {}
  },
  {
   "cell_type": "markdown",
   "source": [
    "The following code snippets export results to *csv file*:"
   ],
   "metadata": {}
  },
  {
   "cell_type": "code",
   "execution_count": null,
   "source": [
    "type TradeAndBookData = { TimeStamp : DateTime; TradePrice : Nullable<float>; TradeSize : Nullable<int64>;  AskPrice : Nullable<float>; AskSize : Nullable<int64>; BidPrice : Nullable<float>; BidSize : Nullable<int64> }\n",
    "\n",
    "let choose (d : TickTradesAndBookResponse) =\n",
    "    if (d.Data |> isNull) then\n",
    "        None\n",
    "    else \n",
    "        Some d.Data\n",
    "\n",
    "let convert (d: TradeAndBook) = \n",
    "    if isNull d.Trade then\n",
    "        { \n",
    "            TimeStamp = d.TimeStamp.ToDateTime()\n",
    "            TradePrice = Nullable()\n",
    "            TradeSize = Nullable()\n",
    "            AskPrice = Nullable(d.Book.Ask.Price)\n",
    "            AskSize = Nullable(d.Book.Ask.Size)\n",
    "            BidPrice = Nullable(d.Book.Bid.Price)\n",
    "            BidSize = Nullable(d.Book.Bid.Size)\n",
    "        }\n",
    "    else\n",
    "        { \n",
    "            TimeStamp = d.TimeStamp.ToDateTime()\n",
    "            TradePrice = Nullable(d.Trade.Price)\n",
    "            TradeSize = Nullable(d.Trade.Size)\n",
    "            AskPrice = Nullable()\n",
    "            AskSize = Nullable()\n",
    "            BidPrice = Nullable()\n",
    "            BidSize = Nullable()\n",
    "        }\n",
    "\n",
    "let write data =\n",
    "    let writeRecords (csv : CsvWriter) i =\n",
    "        csv.WriteRecords(i)\n",
    "    let write' (writer : StreamWriter )  i =\n",
    "        using (new CsvWriter(writer, CultureInfo.InvariantCulture)) (fun csv -> writeRecords csv i )\n",
    "    using (new StreamWriter($\"L1L2_{ticker}.csv\")) (fun writer -> write' writer data)\n",
    "\n",
    "\n",
    "data\n",
    "|> Seq.choose choose\n",
    "|> Seq.map convert\n",
    "|> write"
   ],
   "outputs": [],
   "metadata": {
    "dotnet_interactive": {
     "language": "fsharp"
    }
   }
  }
 ],
 "metadata": {
  "kernelspec": {
    "display_name": ".NET (F#)",
    "language": "F#",
    "name": ".net-fsharp"
  },
  "language_info": {
    "file_extension": ".fs",
    "mimetype": "text/x-fsharp",
    "name": "F#",
    "pygments_lexer": "fsharp",
    "version": "5.0"
  }
 },
 "nbformat": 4,
 "nbformat_minor": 4
}