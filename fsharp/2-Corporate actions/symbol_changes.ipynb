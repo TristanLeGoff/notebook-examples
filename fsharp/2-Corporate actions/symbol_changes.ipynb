{
 "cells": [
  {
   "cell_type": "markdown",
   "source": [
    "# Symbol changes extraction using dedicated service - F#\n",
    "\n",
    "### Overview\n",
    "Name and ticker changes can be seen as a corporate actions event or a static data update. In this sample we are dealing with changes automated updates as a corporate actions event.\n",
    "\n",
    "A name change or a ticker change can be handled as a corporate actions event and occurs in various use-cases such as: \n",
    "* a company decide to change its name and the issued secuities from from an old name to a current name.\n",
    "* in mergers and acquisitions, old names are combined to a new one\n",
    "\n",
    "Symbol change should be spread all along the investment, risk and data management workflow. Here are few examples of immediate consequent symbol updates: \n",
    "* data collection robots\n",
    "* watchlists and analytics dahsboards\n",
    "* strategy building and simulation bots\n",
    "* indices components if the symbol belongs to one or more indices\n",
    "* risk models\n",
    "\n",
    "### Inputs/outputs\n",
    "Changes sample is designed to help you searching and requesting symbol changes for a given instrument.\n",
    "* It takes instrument specification parameter(s) as per input filter and returns *Changes*.\n",
    "\n",
    "### Services used\n",
    "This sample uses *gRPC requests* in order to retrieve the corporate actions changesfrom the hosted service. The queried endpoint in this script are:\n",
    "* *ChangesService*: to directly retrieve changes data objects from the server\n",
    "\n",
    "### Packages required\n",
    "1. Systemathics packages:\n",
    "    * *Systemathics.Apis.Type.Shared.V1*\n",
    "    * *Systemathics.Apis.Services.CorporateActions.V1*\n",
    "2. Open source packages\n",
    "    * *Google.Protobuf.WellKnownTypes*\n",
    "    * *Google.Type*\n",
    "    * *Grpc.Net.Client*\n",
    "    * *Grpc.Core*\n",
    "\n",
    "***"
   ],
   "metadata": {}
  },
  {
   "cell_type": "markdown",
   "source": [
    "# Run symbol changes sample"
   ],
   "metadata": {}
  },
  {
   "cell_type": "markdown",
   "source": [
    "### Step 1: Install packages"
   ],
   "metadata": {}
  },
  {
   "cell_type": "code",
   "execution_count": null,
   "source": [
    "#i \"nuget: file:///home/jovyan/.nuget/packages/\"\n",
    "#i \"nuget: https://api.nuget.org/v3/index.json\"\n",
    "#r \"nuget: Systemathics.Apis\""
   ],
   "outputs": [],
   "metadata": {
    "dotnet_interactive": {
     "language": "fsharp"
    }
   }
  },
  {
   "cell_type": "code",
   "execution_count": null,
   "source": [
    "open Systemathics.Apis.Type.Shared.V1\n",
    "open Systemathics.Apis.Services.CorporateActions.V1\n",
    "open Google.Protobuf.WellKnownTypes\n",
    "open Google.Type\n",
    "open Grpc.Net.Client\n",
    "open Grpc.Core"
   ],
   "outputs": [],
   "metadata": {
    "dotnet_interactive": {
     "language": "fsharp"
    }
   }
  },
  {
   "cell_type": "markdown",
   "source": [
    "### Step 2: Prepare API requests\n",
    "The following code snippets retrieve authentication token and prepare the API request by: opening the *channel* and adding the *token* to the request header:"
   ],
   "metadata": {}
  },
  {
   "cell_type": "code",
   "execution_count": null,
   "source": [
    "// Retrieve authentication token\n",
    "let token = System.Environment.GetEnvironmentVariable(\"AUTH0_TOKEN\")\n",
    "let api = System.Environment.GetEnvironmentVariable(\"GRPC_APIS\")\n",
    "\n",
    "// Add token to the request header\n",
    "let headers = new Metadata()\n",
    "headers.Add(\"Authorization\", $\"Bearer {token}\")\n",
    "\n",
    "// Define API entry\n",
    "let channel = GrpcChannel.ForAddress($\"https://{api}\")"
   ],
   "outputs": [],
   "metadata": {
    "dotnet_interactive": {
     "language": "fsharp"
    }
   }
  },
  {
   "cell_type": "code",
   "execution_count": null,
   "source": [
    "// Display authentication token \n",
    "token\n",
    "|> display"
   ],
   "outputs": [],
   "metadata": {
    "dotnet_interactive": {
     "language": "fsharp"
    }
   }
  },
  {
   "cell_type": "markdown",
   "source": [
    "### Step 3: Retrieve changes"
   ],
   "metadata": {}
  },
  {
   "cell_type": "markdown",
   "source": [
    "#### 3.1 Equity selection"
   ],
   "metadata": {}
  },
  {
   "cell_type": "code",
   "execution_count": null,
   "source": [
    "// Set the instrument identifier \n",
    "let ticker = \"ISCB\"\n",
    "let exchange = \"XNYS\""
   ],
   "outputs": [],
   "metadata": {
    "dotnet_interactive": {
     "language": "fsharp"
    }
   }
  },
  {
   "cell_type": "markdown",
   "source": [
    "#### 3.2 Create and process request"
   ],
   "metadata": {}
  },
  {
   "cell_type": "code",
   "execution_count": null,
   "source": [
    "// instantiate the changes service\n",
    "let service = new ChangesService.ChangesServiceClient(channel)\n",
    "\n",
    "// Generate the changes request\n",
    "let request = \n",
    "    new ChangesRequest(\n",
    "        Identifier = new Identifier(Exchange = exchange, Ticker = ticker)\n",
    "    )\n",
    "\n",
    "// Get the changes reply\n",
    "let reply = service.Changes(request, headers)"
   ],
   "outputs": [],
   "metadata": {
    "dotnet_interactive": {
     "language": "fsharp"
    }
   }
  },
  {
   "cell_type": "markdown",
   "source": [
    "#### 3.3 Retrieve changes"
   ],
   "metadata": {}
  },
  {
   "cell_type": "code",
   "execution_count": null,
   "source": [
    "// Visualize changes results\n",
    "reply.Data\n",
    "|> display"
   ],
   "outputs": [],
   "metadata": {
    "dotnet_interactive": {
     "language": "html"
    }
   }
  }
 ],
 "metadata": {
  "kernelspec": {
   "display_name": ".NET (C#)",
   "language": "C#",
   "name": ".net-csharp"
  },
  "language_info": {
   "file_extension": ".cs",
   "mimetype": "text/x-csharp",
   "name": "C#",
   "pygments_lexer": "csharp",
   "version": "9.0"
  }
 },
 "nbformat": 4,
 "nbformat_minor": 5
}