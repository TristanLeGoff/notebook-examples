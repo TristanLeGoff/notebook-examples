{
 "cells": [
  {
   "cell_type": "markdown",
   "metadata": {},
   "source": [
    "# Generate RSI using daily data service - Python\n",
    "\n",
    "### Overview\n",
    "*The Relative Strength Index*, developed by J. Welles Wilder measures the speed and change of price movements. *RSI* oscillates between zero and 100. Traditionally the RSI is considered:\n",
    "* overbought when above 70\n",
    "* oversold when below 30\n",
    "\n",
    "This sample demonstrates how to request and plot **on-demand** *Relative Strength Index - RSI* from a `daily data service`.\n",
    "\n",
    "### Inputs/outputs\n",
    "RSI's request require instrument's identifier, date time intervals and number of periods as per inputs.\n",
    "\n",
    "$$ RSI = 100 - \\frac{100}{1 + RS} $$\n",
    "Where:\n",
    "* $RS = \\frac{AvgU}{AvgD}$ is the *relative strength*\n",
    "* *AvgU* average of last N *close prices* up moves\n",
    "* *AvgD* average of last N *close prices* down moves\n",
    "* *N* is the period of the RSI\n",
    "\n",
    "This sample shows how to plot a simple graph for basis technical analysis using an open source library. \n",
    "\n",
    "### Services used\n",
    "This sample uses *gRPC requests* in order to retrieve daily data from the hosted service. The queried endpoint in this script are:\n",
    "* *DailyRsiService*: to directly retrieve daily data from the server\n",
    "\n",
    "### Modules required\n",
    "1. Systemathics:\n",
    "    * *systemathics.apis.services.daily_analytics.v1*\n",
    "    * *systemathics.apis.type.shared.v1*\n",
    "    * *google.type*\n",
    "2. Open source:\n",
    "    * *googleapis-common-protos*\n",
    "    * *protobuf*\n",
    "    * *grpcio*\n",
    "    * *pandas*\n",
    "    * *plotly* as per display package\n",
    "\n",
    "***"
   ]
  },
  {
   "cell_type": "markdown",
   "metadata": {},
   "source": [
    "# Run daily RSI sample"
   ]
  },
  {
   "cell_type": "markdown",
   "metadata": {},
   "source": [
    "### Step 1: Install packages and import them"
   ]
  },
  {
   "cell_type": "code",
   "execution_count": null,
   "metadata": {},
   "outputs": [],
   "source": [
    "pip install googleapis-common-protos protobuf grpcio pandas plotly"
   ]
  },
  {
   "cell_type": "code",
   "execution_count": null,
   "metadata": {},
   "outputs": [],
   "source": [
    "pip install -i https://test.pypi.org/simple/ systemathics.apis==0.9.27"
   ]
  },
  {
   "cell_type": "code",
   "execution_count": null,
   "metadata": {},
   "outputs": [],
   "source": [
    "import os\n",
    "import grpc\n",
    "import pandas as pd\n",
    "from datetime import datetime\n",
    "import google.type.date_pb2 as date\n",
    "import systemathics.apis.type.shared.v1.identifier_pb2 as identifier\n",
    "import systemathics.apis.type.shared.v1.constraints_pb2 as constraints\n",
    "import systemathics.apis.type.shared.v1.date_interval_pb2 as dateinterval\n",
    "import systemathics.apis.services.daily_analytics.v1.daily_rsi_pb2 as daily_rsi\n",
    "import systemathics.apis.services.daily_analytics.v1.daily_rsi_pb2_grpc as daily_rsi_service"
   ]
  },
  {
   "cell_type": "markdown",
   "metadata": {},
   "source": [
    "### Step 2: Retrieve authentication token\n",
    "The following code snippet sends authentication request and print token to console output in order to process the upcomming *gRPC queries*."
   ]
  },
  {
   "cell_type": "code",
   "execution_count": null,
   "metadata": {},
   "outputs": [],
   "source": [
    "token = f\"Bearer {os.environ['AUTH0_TOKEN']}\"\n",
    "display(token)"
   ]
  },
  {
   "cell_type": "markdown",
   "metadata": {},
   "source": [
    "### Step 3: Retrieve data\n",
    "To request *daily rsi* service, we need to specify:\n",
    "* Instrument identifier\n",
    "* Time period selection: select start and end dates\n",
    "* The RSI parameters"
   ]
  },
  {
   "cell_type": "markdown",
   "metadata": {},
   "source": [
    "#### 3.1 Instrument selection"
   ]
  },
  {
   "cell_type": "code",
   "execution_count": null,
   "metadata": {},
   "outputs": [],
   "source": [
    "# set instrument identifier: exchange + ticker\n",
    "ticker = \"AAPL\"\n",
    "exchange = \"XNGS\""
   ]
  },
  {
   "cell_type": "markdown",
   "metadata": {},
   "source": [
    "#### 3.2 RSI parameters"
   ]
  },
  {
   "cell_type": "code",
   "execution_count": null,
   "metadata": {},
   "outputs": [],
   "source": [
    "# set the RSI window length\n",
    "window = 14;"
   ]
  },
  {
   "cell_type": "markdown",
   "metadata": {},
   "source": [
    "#### 3.3 Time period selection"
   ]
  },
  {
   "cell_type": "code",
   "execution_count": null,
   "metadata": {},
   "outputs": [],
   "source": [
    "# set data interval (we are using Google date time format) \n",
    "date_interval = dateinterval.DateInterval(\n",
    "    start_date = date.Date(year = 2019, month = 1, day = 1),\n",
    "    end_date = date.Date(year = 2020, month = 12, day = 31)\n",
    ")\n",
    "\n",
    "# generate constraints based on the previous date selection\n",
    "# time constraints are not neeeded for the dividends\n",
    "constraints = constraints.Constraints(\n",
    "    date_intervals = [date_interval]\n",
    ")"
   ]
  },
  {
   "cell_type": "markdown",
   "metadata": {},
   "source": [
    "#### 3.4 RSI request creation\n",
    "The following code snippet creates *gRPC client*, process daily RSI requests and returns the reply."
   ]
  },
  {
   "cell_type": "code",
   "execution_count": null,
   "metadata": {},
   "outputs": [],
   "source": [
    "# generate daily rsi request\n",
    "request = daily_rsi.DailyRsiRequest(\n",
    "    identifier = identifier.Identifier(exchange = exchange, ticker = ticker), \n",
    "    length = window,\n",
    "    constraints = constraints\n",
    ")"
   ]
  },
  {
   "cell_type": "code",
   "execution_count": null,
   "metadata": {},
   "outputs": [],
   "source": [
    "# open a gRPC channel\n",
    "credentials = grpc.ssl_channel_credentials()\n",
    "with grpc.secure_channel(\"apis.systemathics.cloud:443\", credentials) as channel:\n",
    "    \n",
    "    # instantiate the daily rsi service\n",
    "    service = daily_rsi_service.DailyRsiServiceStub(channel)\n",
    "    \n",
    "    # Process the daily long rsi request\n",
    "    response = service.DailyRsi(\n",
    "        request = request, \n",
    "        metadata = [('authorization', token)]\n",
    "    )"
   ]
  },
  {
   "cell_type": "markdown",
   "metadata": {},
   "source": [
    "### Step 4: Visualize data"
   ]
  },
  {
   "cell_type": "markdown",
   "metadata": {},
   "source": [
    "#### 4.1 Retrieve RSI data\n",
    "In the following code snippets, the daily RSI reply is reprocessed in a dataframe in order to visualize the results:"
   ]
  },
  {
   "cell_type": "code",
   "execution_count": null,
   "metadata": {},
   "outputs": [],
   "source": [
    "# prepare the RSI dataframe\n",
    "dates=[datetime(r.date.year, r.date.month, r.date.day) for r in response.data]\n",
    "rsi_data = [r.rsi for r in response.data]\n",
    "prices = [r.value for r in response.data]"
   ]
  },
  {
   "cell_type": "code",
   "execution_count": null,
   "metadata": {},
   "outputs": [],
   "source": [
    "# create a pandas dataframe with dates, prices and rsis\n",
    "d = {'Date': dates, 'Rsi': rsi_data, 'Price': prices}\n",
    "df = pd.DataFrame(data=d)\n",
    "df"
   ]
  },
  {
   "cell_type": "markdown",
   "metadata": {},
   "source": [
    "#### 4.2 Plot RSI and daily prices\n",
    "Plot RSI and daily prices request results with the package of your choice.<br>*`plotly`* is used as per open source display package."
   ]
  },
  {
   "cell_type": "code",
   "execution_count": null,
   "metadata": {},
   "outputs": [],
   "source": [
    "import plotly.graph_objects as go\n",
    "from plotly.subplots import make_subplots\n",
    "\n",
    "# create figure with secondary y-axis\n",
    "fig = make_subplots(specs=[[{\"secondary_y\": True}]])\n",
    "\n",
    "# add traces for daily rsi and prices\n",
    "fig.add_trace(go.Scatter(x=df['Date'], y=df['Rsi'], name='{0}-days Rsi'.format(window)), secondary_y=False,)\n",
    "fig.add_trace(go.Scatter(x=df['Date'], y=df['Price'], name='Price'), secondary_y=True,)\n",
    "\n",
    "# Add figure title\n",
    "fig.update_layout(title = 'RSI and daily prices for {0}-{1}'.format(ticker,exchange))\n",
    "fig.update_xaxes(title_text = 'Date')\n",
    "fig.update_yaxes(title_text = 'Rsi', secondary_y=False)\n",
    "fig.update_yaxes(title_text = 'Price', secondary_y=True)\n",
    "\n",
    "# add overbought and oversold lines\n",
    "fig.add_hline(y=70, line=dict(color=\"Green\"))\n",
    "fig.add_hline(y=30, line=dict(color=\"Red\"))\n",
    "\n",
    "fig.show()"
   ]
  },
  {
   "cell_type": "code",
   "execution_count": null,
   "metadata": {},
   "outputs": [],
   "source": []
  }
 ],
 "metadata": {
  "language_info": {
   "name": "python",
   "pygments_lexer": "ipython3"
  }
 },
 "nbformat": 4,
 "nbformat_minor": 4
}
