{
 "cells": [
  {
   "cell_type": "markdown",
   "metadata": {},
   "source": [
    "# Generate daily prices using daily data service - Python\n",
    "\n",
    "### Overview\n",
    "Daily prices is designed to illustrate price movements for an instrument over a look back period.\n",
    "\n",
    "This sample demonstrates how to directly request and plot daily prices.<br>\n",
    "\n",
    "It enables to retrieve **on-demand** daily prices data by calling a dedicated service on a `daily data store`. \n",
    "\n",
    "### Inputs/outputs\n",
    "Daily prices sample requires instrument's identifier as per input. It returns daily prices and volumes.\n",
    "This sample also shows how to plot a simple graph for basis financial analysis using an open source library.\n",
    "\n",
    "### Services used\n",
    "This sample uses *gRPC requests* in order to retrieve daily bars from the dedicated hosted service. The queried endpoint in this script are:\n",
    "* *DailyPricesService*: to directly retrieve daily price objects from the server\n",
    "\n",
    "### Modules required\n",
    "1. Systemathics:\n",
    "    * *systemathics.apis.type.shared.v1*\n",
    "    * *systemathics.apis.services.daily.v1*\n",
    "2. Open source:\n",
    "    * *googleapis-common-protos*\n",
    "    * *protobuf*\n",
    "    * *grpcio*\n",
    "    * *pandas*\n",
    "    * *plotly* as per display package\n",
    "\n",
    "***"
   ]
  },
  {
   "cell_type": "markdown",
   "metadata": {},
   "source": [
    "# Run daily prices sample"
   ]
  },
  {
   "cell_type": "markdown",
   "metadata": {},
   "source": [
    "### Step 1: Install packages and import them"
   ]
  },
  {
   "cell_type": "code",
   "execution_count": null,
   "metadata": {},
   "outputs": [],
   "source": [
    "pip install googleapis-common-protos protobuf grpcio pandas plotly"
   ]
  },
  {
   "cell_type": "code",
   "execution_count": null,
   "metadata": {},
   "outputs": [],
   "source": [
    "pip install -i https://test.pypi.org/simple/ systemathics.apis==0.9.27"
   ]
  },
  {
   "cell_type": "code",
   "execution_count": null,
   "metadata": {},
   "outputs": [],
   "source": [
    "import os\n",
    "import grpc\n",
    "import pandas as pd\n",
    "from datetime import datetime\n",
    "import systemathics.apis.type.shared.v1.identifier_pb2 as identifier\n",
    "import systemathics.apis.services.daily.v1.daily_prices_pb2 as daily_prices\n",
    "import systemathics.apis.services.daily.v1.daily_prices_pb2_grpc as daily_prices_service"
   ]
  },
  {
   "cell_type": "markdown",
   "metadata": {},
   "source": [
    "### Step 2: Retrieve authentication token\n",
    "The following code snippet sends authentication request and print token to console output in order to process the upcomming *gRPC queries*."
   ]
  },
  {
   "cell_type": "code",
   "execution_count": null,
   "metadata": {},
   "outputs": [],
   "source": [
    "token = f\"Bearer {os.environ['AUTH0_TOKEN']}\"\n",
    "display(token)"
   ]
  },
  {
   "cell_type": "markdown",
   "metadata": {},
   "source": [
    "### Step 3: Create and process request"
   ]
  },
  {
   "cell_type": "markdown",
   "metadata": {},
   "source": [
    "#### 3.1 Request Parameters\n",
    "To request *daily prices* service, we need to specify:\n",
    "* Instrument identifier\n",
    "* Time period selection: select start and end dates\n",
    "* Service called: *DailyPricesService* in order to retrieve daily data"
   ]
  },
  {
   "cell_type": "code",
   "execution_count": null,
   "metadata": {},
   "outputs": [],
   "source": [
    "# set the instrument\n",
    "ticker = 'AAPL'\n",
    "exchange = 'XNGS'"
   ]
  },
  {
   "cell_type": "markdown",
   "metadata": {},
   "source": [
    "#### 3.2 Request creation\n",
    "The following code snippet creates *gRPC client*, process request and returns request reply."
   ]
  },
  {
   "cell_type": "code",
   "execution_count": null,
   "metadata": {},
   "outputs": [],
   "source": [
    "# create the daily prices request\n",
    "request = daily_prices.DailyPricesRequest(\n",
    "    identifier = identifier.Identifier(exchange = exchange, ticker = ticker)\n",
    ")"
   ]
  },
  {
   "cell_type": "code",
   "execution_count": null,
   "metadata": {},
   "outputs": [],
   "source": [
    "# open a gRPC channel\n",
    "credentials = grpc.ssl_channel_credentials()\n",
    "with grpc.secure_channel(\"apis.systemathics.cloud:443\", credentials) as channel:\n",
    "    \n",
    "    # instantiate the daily prices service\n",
    "    service = daily_prices_service.DailyPricesServiceStub(channel)\n",
    "    \n",
    "    # process the daily prices request\n",
    "    response = service.DailyPrices(\n",
    "        request = request, \n",
    "        metadata = [('authorization', token)]\n",
    "    )\n",
    "    \n",
    "print(\"Total daily prices retrieved: \",len(response.data))"
   ]
  },
  {
   "cell_type": "markdown",
   "metadata": {},
   "source": [
    "### Step 4: Visualize data"
   ]
  },
  {
   "cell_type": "markdown",
   "metadata": {},
   "source": [
    "#### 4.1 Retrieve daily prices\n",
    "In the following code snippets, the reply is reprocessed in a dataframe in order to visualize the results:"
   ]
  },
  {
   "cell_type": "code",
   "execution_count": null,
   "metadata": {},
   "outputs": [],
   "source": [
    "# prepare the dataframe content\n",
    "dates=[datetime(p.date.year, p.date.month, p.date.day) for p in response.data]\n",
    "prices = [p.price for p in response.data]\n",
    "volumes = [p.volume for p in response.data]\n",
    "\n",
    "d = {'Date': dates, 'Price': prices, 'Volume': volumes }"
   ]
  },
  {
   "cell_type": "code",
   "execution_count": null,
   "metadata": {},
   "outputs": [],
   "source": [
    "# create pandas dataframe\n",
    "df = pd.DataFrame(data=d)"
   ]
  },
  {
   "cell_type": "code",
   "execution_count": null,
   "metadata": {},
   "outputs": [],
   "source": [
    "# visualize dataframe\n",
    "df"
   ]
  },
  {
   "cell_type": "markdown",
   "metadata": {},
   "source": [
    "#### 4.2 Plot daily prices\n",
    "The following code snippets display daily prices' request results with the package of your choice.<br>*`plotly`* is used as per open source display package."
   ]
  },
  {
   "cell_type": "code",
   "execution_count": null,
   "metadata": {},
   "outputs": [],
   "source": [
    "import plotly.graph_objects as go\n",
    "from plotly.subplots import make_subplots\n",
    "\n",
    "# Create figure with secondary y-axis\n",
    "fig = make_subplots(specs=[[{\"secondary_y\": True}]])\n",
    "\n",
    "fig.add_trace(go.Scatter(x=df['Date'], y=df['Price'], name='Price'), secondary_y=True)\n",
    "fig.add_trace(go.Bar(x=df['Date'], y=df['Volume'], name=\"Volume\"), secondary_y=False)\n",
    "\n",
    "fig.update_xaxes(title_text = 'Date')\n",
    "fig.update_layout(title = 'Daily prices for {0}-{1}'.format(ticker,exchange))\n",
    "fig.layout.yaxis2.showgrid=False\n",
    "fig.show()"
   ]
  },
  {
   "cell_type": "code",
   "execution_count": null,
   "metadata": {},
   "outputs": [],
   "source": []
  }
 ],
 "metadata": {
  "language_info": {
   "name": "python",
   "pygments_lexer": "ipython3"
  }
 },
 "nbformat": 4,
 "nbformat_minor": 4
}
