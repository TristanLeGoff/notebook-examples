{
 "cells": [
  {
   "cell_type": "markdown",
   "metadata": {},
   "source": [
    "# Pair strategy - Python\n",
    "\n",
    "### Overview\n",
    "The Pair Trading Strategy is a standard mean reversion model based on the Bollinger band indicator; two stocks that normally trade in the same direction become temporally uncorrelated and eventually will revert to the mean.\n",
    "\n",
    "Assume that the strategy will trade pairs of equities of the same industrial sector: \n",
    "\n",
    "- (A, B) : the pair\n",
    "- A : the first stock of the pair\n",
    "- B : the second stock of the pair\n",
    "\n",
    "### Indicator\n",
    "This sample uses Bollinger band indicator which is computed using the Spread between the two stocks of the pair.\n",
    "$$ Spread = Log(\\frac{LastA}{Lastb}) $$*\n",
    "Where:\n",
    "- *Last A* is the Last trade price of the stock A \n",
    "- *Last B* is the Last trade price of the stock B\n",
    "\n",
    "### Services used\n",
    "This sample uses *gRPC requests* in order to retrieve bars from the dedicated hosted service. The queried endpoint in this script are:\n",
    "* DailyBars: to directly retrieve bars objects from the server\n",
    "\n",
    "### Modules required\n",
    "1. Systemathics packages:\n",
    "    * *systemathics.apis*\n",
    "2. Open source packages\n",
    "    * *googleapis-common-protos*\n",
    "    * *protobuf*\n",
    "    * *grpcio*\n",
    "    * *pandas*\n",
    "    * *matpotlib* as per display package\n",
    "\n",
    "***"
   ]
  },
  {
   "cell_type": "markdown",
   "metadata": {},
   "source": [
    "# Run Pair strategy sample"
   ]
  },
  {
   "cell_type": "markdown",
   "metadata": {},
   "source": [
    "### Step 1: Install packages and import them"
   ]
  },
  {
   "cell_type": "code",
   "execution_count": null,
   "metadata": {},
   "outputs": [],
   "source": [
    "pip install googleapis-common-protos protobuf grpcio pandas matplotlib mplfinance plotly systemathics.apis"
   ]
  },
  {
   "cell_type": "code",
   "execution_count": null,
   "metadata": {},
   "outputs": [],
   "source": [
    "import os\n",
    "import grpc\n",
    "import pandas as pd\n",
    "from datetime import datetime\n",
    "import google.type.date_pb2 as date\n",
    "import google.type.dayofweek_pb2 as dayofweek\n",
    "import google.type.timeofday_pb2 as timeofday\n",
    "import google.protobuf.duration_pb2 as duration\n",
    "\n",
    "import systemathics.apis.type.shared.v1.identifier_pb2 as identifier\n",
    "\n",
    "import systemathics.apis.services.daily.v1.daily_bars_pb2 as daily_bars\n",
    "import systemathics.apis.services.daily.v1.daily_bars_pb2_grpc as daily_bars_service"
   ]
  },
  {
   "cell_type": "markdown",
   "metadata": {},
   "source": [
    "### Step 2: Retrieve authentication token\n",
    "The following code snippet sends authentication request and print token to console output in order to process the upcomming *gRPC queries*."
   ]
  },
  {
   "cell_type": "code",
   "execution_count": null,
   "metadata": {},
   "outputs": [],
   "source": [
    "token = f\"Bearer {os.environ['AUTH0_TOKEN']}\"\n",
    "display(token)"
   ]
  },
  {
   "cell_type": "markdown",
   "metadata": {},
   "source": [
    "### Step 3: Retrieve prices"
   ]
  },
  {
   "cell_type": "markdown",
   "metadata": {},
   "source": [
    "#### 3.1 Instrument selection\n",
    "Generate the instrument identifiers by using the [research engine](https://ganymede.systemathics.com/user-redirect/lab/tree/csharp/1-Reference%20data/symbology.ipynb) and insert the returned parameters in the following code snippet:"
   ]
  },
  {
   "cell_type": "code",
   "execution_count": null,
   "metadata": {},
   "outputs": [],
   "source": [
    "# --> Instrument 1 : AAPL\n",
    "exchange = \"XNGS\"\n",
    "ticker_1 = \"AAPL\"\n",
    "identifier_1 = identifier.Identifier(exchange = exchange, ticker = ticker_1)"
   ]
  },
  {
   "cell_type": "code",
   "execution_count": null,
   "metadata": {},
   "outputs": [],
   "source": [
    "# --> Instrument 2 : MSFT\n",
    "ticker_2 = \"MSFT\"\n",
    "identifier_2 = identifier.Identifier(exchange = exchange, ticker = ticker_2)"
   ]
  },
  {
   "cell_type": "markdown",
   "metadata": {},
   "source": [
    "#### 3.2 Request creation\n",
    "The following code snippets create *gRPC client*, process request and ensure that the reply is not empty:"
   ]
  },
  {
   "cell_type": "code",
   "execution_count": null,
   "metadata": {},
   "outputs": [],
   "source": [
    "daily_request_1 = daily_bars.DailyBarsRequest(identifier = identifier_1)\n",
    "daily_request_2 = daily_bars.DailyBarsRequest(identifier = identifier_2)\n",
    "\n",
    "# open a gRPC channel\n",
    "credentials = grpc.ssl_channel_credentials()"
   ]
  },
  {
   "cell_type": "code",
   "execution_count": null,
   "metadata": {},
   "outputs": [],
   "source": [
    "# Instrument 1\n",
    "# open a gRPC channel\n",
    "with grpc.secure_channel(f"{os.environ['GRPC_APIS']}", credentials) as channel:\n",
    "    daily_service = daily_bars_service.DailyBarsServiceStub(channel)\n",
    "    metadata = [('authorization', token)]\n",
    "    # Process the request\n",
    "    response_1 = daily_service.DailyBars(request=daily_request_1, metadata=metadata)\n",
    "    \n",
    "print(\"Total bars retrieved: \",len(response_1.data))"
   ]
  },
  {
   "cell_type": "code",
   "execution_count": null,
   "metadata": {},
   "outputs": [],
   "source": [
    "# Instrument 1\n",
    "# open a gRPC channel\n",
    "with grpc.secure_channel(f"{os.environ['GRPC_APIS']}", credentials) as channel:\n",
    "    daily_service = daily_bars_service.DailyBarsServiceStub(channel)\n",
    "    metadata = [('authorization', token)]\n",
    "    # Process the request\n",
    "    response_2 = daily_service.DailyBars(request=daily_request_2, metadata=metadata)\n",
    "    \n",
    "print(\"Total bars retrieved: \",len(response_2.data))"
   ]
  },
  {
   "cell_type": "markdown",
   "metadata": {},
   "source": [
    "#### 3.3 Store prices and timestamps\n",
    "The following code snippet reprocess the outputs of the requests and store them in a *pandas* dataframe:"
   ]
  },
  {
   "cell_type": "code",
   "execution_count": null,
   "metadata": {},
   "outputs": [],
   "source": [
    "# Create pandas dataframe\n",
    "dates=[datetime(ts.date.year,ts.date.month, ts.date.day ) for ts in response_2.data]\n",
    "S1 = [ts.close for ts in response_1.data]\n",
    "S2 = [ts.close for ts in response_2.data]\n",
    "data = {'Dates': dates, 'S1': S1, 'S2': S2}\n",
    "df = pd.DataFrame(data=data)\n"
   ]
  },
  {
   "cell_type": "markdown",
   "metadata": {},
   "source": [
    "#### 3.4 Visualize retrieved prices"
   ]
  },
  {
   "cell_type": "code",
   "execution_count": null,
   "metadata": {},
   "outputs": [],
   "source": [
    "import matplotlib.pyplot as plt"
   ]
  },
  {
   "cell_type": "code",
   "execution_count": null,
   "metadata": {},
   "outputs": [],
   "source": [
    "plt.figure(figsize=(25, 10))\n",
    "plt.plot( 'Dates', 'S1', data=df, marker='', color='orange', linewidth=1, label=\"{}\".format(ticker_1))\n",
    "plt.plot( 'Dates', 'S2', data=df, marker='', color='purple', linewidth=1, label=\"{}\".format(ticker_2))\n",
    "plt.xlabel(\"Date\")\n",
    "plt.ylabel(\"Price\")\n",
    "plt.title(\"{0} & {1} price over time\".format(ticker_1, ticker_2))\n",
    "plt.legend()"
   ]
  },
  {
   "cell_type": "markdown",
   "metadata": {},
   "source": [
    "### Step 4: Generate buy/sell signals"
   ]
  },
  {
   "cell_type": "markdown",
   "metadata": {},
   "source": [
    "#### 4.1 Compute stock ratio"
   ]
  },
  {
   "cell_type": "code",
   "execution_count": null,
   "metadata": {},
   "outputs": [],
   "source": [
    "import math\n",
    "# Define ratio: log2(S1/S2)\n",
    "def ratio(s1,s2):\n",
    "    if s2 == 0:\n",
    "        return 0\n",
    "    else:\n",
    "        return math.log2(s1) / math.log2(s2)"
   ]
  },
  {
   "cell_type": "code",
   "execution_count": null,
   "metadata": {},
   "outputs": [],
   "source": [
    "# Compute ratio and add to the dataframe\n",
    "ratio = [ratio(s1,s2) for s1,s2 in zip(S1,S2)]\n",
    "df['Ratio'] = ratio\n",
    "df.head(3)"
   ]
  },
  {
   "cell_type": "code",
   "execution_count": null,
   "metadata": {},
   "outputs": [],
   "source": [
    "# Display ratio + mean\n",
    "ratio_mean = [df.mean().Ratio for t in df['Dates']]\n",
    "plt.figure(figsize=(25, 10))\n",
    "plt.plot('Dates', 'Ratio', data=df, marker='', color='blue', linewidth=1, label=\"Ratio\")\n",
    "plt.plot(df['Dates'],ratio_mean, marker='', color='black', linewidth=1, label=\"Average Ratio\")\n",
    "plt.xlabel(\"Dates\")\n",
    "plt.ylabel(\"Ratio\")\n",
    "plt.title(\"{0}/{1} Ratio\".format(ticker_1,ticker_2))\n",
    "plt.legend()"
   ]
  },
  {
   "cell_type": "markdown",
   "metadata": {},
   "source": [
    "#### 4.2 Compute Z-score\n",
    "The z-score is the number of standard deviation by which the value is above the mean."
   ]
  },
  {
   "cell_type": "code",
   "execution_count": null,
   "metadata": {},
   "outputs": [],
   "source": [
    "# get a value / std / lean and returns z-score\n",
    "def zscore(value,std,mean):\n",
    "    return (value - mean) / std"
   ]
  },
  {
   "cell_type": "code",
   "execution_count": null,
   "metadata": {},
   "outputs": [],
   "source": [
    "zscore = [zscore(r,df.std().Ratio,df.mean().Ratio) for r in ratio]\n",
    "df['Zscore'] = zscore\n",
    "df.tail(3)"
   ]
  },
  {
   "cell_type": "code",
   "execution_count": null,
   "metadata": {},
   "outputs": [],
   "source": [
    "# Display zscore + zscore_mean\n",
    "zscore_mean = [df.mean().Zscore for t in df['Dates']]\n",
    "plt.figure(figsize=(25, 10))\n",
    "plt.plot('Dates', 'Zscore', data=df, marker='', color='blue', linewidth=1, label=\"Zscore\")\n",
    "plt.plot(df['Dates'],zscore_mean, marker='', color='black', linewidth=1, label=\"Average Zscore\")\n",
    "plt.axhline(1.0, color='red')\n",
    "plt.axhline(-1.0, color='green')\n",
    "plt.xlabel(\"Date\")\n",
    "plt.ylabel(\"Zscore\")\n",
    "plt.title(\"{0}/{1} Z-score\".format(ticker_1,ticker_2))\n",
    "plt.legend()"
   ]
  },
  {
   "cell_type": "markdown",
   "metadata": {},
   "source": [
    "#### 4.3 Define buy/sell signals based on the rolling ratio"
   ]
  },
  {
   "cell_type": "code",
   "execution_count": null,
   "metadata": {},
   "outputs": [],
   "source": [
    "# 60 days rolling \n",
    "rolling_60 = df['Ratio'].rolling(window=60, center=False)\n",
    "ratios_mavg60 = rolling_60.mean()\n",
    "std_60 = rolling_60.std()\n",
    "\n",
    "# 5 days rolling\n",
    "rolling_5 = df['Ratio'].rolling(window=5, center=False)\n",
    "ratios_mavg5 = rolling_5.mean()"
   ]
  },
  {
   "cell_type": "code",
   "execution_count": null,
   "metadata": {},
   "outputs": [],
   "source": [
    "df['ratios_mavg60'],df['ratios_mavg5'] =ratios_mavg60, ratios_mavg5 # add rolling ratios to df"
   ]
  },
  {
   "cell_type": "code",
   "execution_count": null,
   "metadata": {},
   "outputs": [],
   "source": [
    "# Define rolling zscore ratio\n",
    "zscore_60_5 = (ratios_mavg5 - ratios_mavg60)/std_60\n",
    "df['zscore_60_5'] =zscore_60_5\n",
    "df.head(10)"
   ]
  },
  {
   "cell_type": "markdown",
   "metadata": {},
   "source": [
    "In order to visualize more precisely the displayed graphs, the remaing plots of this script will focus on the **last N points**"
   ]
  },
  {
   "cell_type": "code",
   "execution_count": null,
   "metadata": {},
   "outputs": [],
   "source": [
    "count = 500 # set N"
   ]
  },
  {
   "cell_type": "code",
   "execution_count": null,
   "metadata": {},
   "outputs": [],
   "source": [
    "# Plot ratios, ratios_mavg5, ratios_mavg60 for the last <count> elements\n",
    "plt.figure(figsize=(25, 10))\n",
    "plt.plot('Dates', 'Ratio', data=df.tail(count), marker='', color='blue', linewidth=1, label=\"Ratio\")\n",
    "plt.plot('Dates', 'ratios_mavg60', data=df.tail(count), marker='', color='red', linewidth=1, label=\"60d Ratio MA\")\n",
    "plt.plot('Dates', 'ratios_mavg5', data=df.tail(count), marker='', color='green', linewidth=1, label=\"5d Ratio MA\")\n",
    "plt.legend(['Ratio', '5d Ratio MA', '60d Ratio MA'])\n",
    "plt.ylabel('Ratio')\n",
    "plt.xlabel('Date')\n",
    "plt.title(' {0}/{1} Ratio - 60d MA - 5d MA: last {2} points'.format(ticker_1,ticker_2,count))\n",
    "plt.show()"
   ]
  },
  {
   "cell_type": "code",
   "execution_count": null,
   "metadata": {},
   "outputs": [],
   "source": [
    "\n",
    "plt.figure(figsize=(25, 10))\n",
    "## zscore_60_5.plot()\n",
    "plt.plot('Dates', 'zscore_60_5', data=df.tail(count), marker='', color='blue', linewidth=1, label=\"Rolling Ratio z-Score\")\n",
    "##plt.xlim('2013-03-25', '2016-07-01')\n",
    "plt.axhline(0, color='black')\n",
    "plt.axhline(1.0, color='red', linestyle='--')\n",
    "plt.axhline(-1.0, color='green', linestyle='--')\n",
    "plt.legend(['Rolling Ratio z-Score', 'Mean', '+1', '-1'])\n",
    "plt.ylabel('Z-Score Rolling Ratio')\n",
    "plt.title(' {0}/{1} Z-Score Rolling Ratio - 60d MA - 5d MA: last {2} points'.format(ticker_1,ticker_2,count))\n",
    "plt.xlabel('Date')\n",
    "plt.show()"
   ]
  },
  {
   "cell_type": "markdown",
   "metadata": {},
   "source": [
    "We now have to generate the buy sell signals. The buy and sell signals will follow the rules below: \n",
    "* if *zscore_60_5* < -1: we *buy* the ratio  \n",
    "* if *zscore_60_5* > 1: we *sell* the ratio  "
   ]
  },
  {
   "cell_type": "code",
   "execution_count": null,
   "metadata": {},
   "outputs": [],
   "source": [
    "length = len(ratio)\n",
    "print(\"Ratio length\", length)\n",
    "buy = [None] * length\n",
    "sell= [None] * length\n",
    "\n",
    "# Customize sell and buy signals\n",
    "for i in range(len(buy)):\n",
    "    if zscore_60_5[i] <= -1:\n",
    "        buy[i] = ratio[i]\n",
    "    if zscore_60_5[i] >= 1:\n",
    "        sell[i] = ratio[i]\n",
    "\n",
    "df['Buy'],df['Sell'] =buy, sell\n",
    "df.head(10)"
   ]
  },
  {
   "cell_type": "markdown",
   "metadata": {},
   "source": [
    "### Step 5: Plot buy / sell signals"
   ]
  },
  {
   "cell_type": "markdown",
   "metadata": {},
   "source": [
    "#### 5.1 Plot buy / sell signals on ratio"
   ]
  },
  {
   "cell_type": "code",
   "execution_count": null,
   "metadata": {},
   "outputs": [],
   "source": [
    "plt.figure(figsize=(25, 10))\n",
    "#plt.xlim(dates[0], dates[-1]) # yyyy-mm-dd\n",
    "plt.plot('Dates', 'Ratio', data=df.tail(count), marker='', color='blue', linewidth=1, label=\"Rolling Ratio z-Score\")\n",
    "plt.plot('Dates', 'Buy', data=df.tail(count), color='green', linestyle='None', marker='^')\n",
    "plt.plot('Dates', 'Sell', data=df.tail(count), color='red', linestyle='None', marker='^')\n",
    "plt.legend(['Ratio', 'Buy Signal', 'Sell Signal'])\n",
    "plt.ylabel('Z-Score Rolling Ratio')\n",
    "plt.title('{0}/{1} Buy/sell signals on the ratio: last {2} points'.format(ticker_1,ticker_2,count))\n",
    "plt.xlabel('Date')\n",
    "plt.show()\n"
   ]
  },
  {
   "cell_type": "markdown",
   "metadata": {},
   "source": [
    "#### 5.2 Plot buy / sell signals on respective stocks\n",
    "In order to plot signals on the stocks, we have to match buy/sell to the correct instrument.  \n",
    "Since the ratio was previously defined as log2(S1/S2), the signals will be following the rules below:\n",
    "* When buying the ratio, you buy S1 and sell S2  \n",
    "* When selling the ratio, you sell S1 and buy S2"
   ]
  },
  {
   "cell_type": "code",
   "execution_count": null,
   "metadata": {},
   "outputs": [],
   "source": [
    "# Match b/s signals on the corresponding stocks\n",
    "buyR = [None] * length\n",
    "sellR= [None] * length\n",
    "\n",
    "for i in range(length):\n",
    "    if buy[i] != None:  # buying the ratio\n",
    "        buyR[i] = S1[i]    #buy S1\n",
    "        sellR[i] = S2[i]   #sell S2\n",
    "    if sell[i] != None: # selling the ratio\n",
    "        sellR[i] = S1[i]   #sell S1\n",
    "        buyR[i] = S2[i]    #buy S2\n",
    "\n",
    "df['buyR'], df['sellR'] = buyR, sellR"
   ]
  },
  {
   "cell_type": "code",
   "execution_count": null,
   "metadata": {},
   "outputs": [],
   "source": [
    "plt.figure(figsize=(25, 10))\n",
    "plt.plot('Dates', 'S1', data=df.tail(count), marker='', color='orange', linewidth=1, label=\"{}\".format(ticker_1))\n",
    "plt.plot('Dates', 'S2', data=df.tail(count), marker='', color='purple', linewidth=1, label=\"{}\".format(ticker_1))\n",
    "plt.plot('Dates', 'buyR', data=df.tail(count), color='green', linestyle='None', marker='^', label=\"Buy signal\")\n",
    "plt.plot('Dates', 'sellR', data=df.tail(count), color='red', linestyle='None', marker='^', label=\"Sell signal\")\n",
    "plt.title('{0}/{1} Buy/sell signals on the respective stocks: last {2} points'.format(ticker_1,ticker_2,count))\n",
    "plt.xlabel('Date')\n",
    "plt.legend()\n",
    "plt.show()"
   ]
  },
  {
   "cell_type": "code",
   "execution_count": null,
   "metadata": {},
   "outputs": [],
   "source": []
  }
 ],
 "metadata": {
  "language_info": {
   "name": "python",
   "pygments_lexer": "ipython3"
  }
 },
 "nbformat": 4,
 "nbformat_minor": 4
}
