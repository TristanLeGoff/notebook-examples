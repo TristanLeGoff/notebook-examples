{
 "cells": [
  {
   "cell_type": "markdown",
   "metadata": {},
   "source": [
    "# Pair strategy using tick data - Python\n",
    "\n",
    "### Overview\n",
    "The Pair Trading Strategy is a standard mean reversion model; two stocks that normally trade in the same direction become temporally uncorrelated and eventually will revert to the mean.\n",
    "\n",
    "Assume that the strategy will trade pairs of equities of the same industrial sector that are historically highly correlated: \n",
    "- (A, B) : the pair\n",
    "- A : the first instrument of the pair\n",
    "- B : the second instrument the pair\n",
    "\n",
    "### Indicator\n",
    "Pairs trading is a market-neutral strategy, when we identify a deviation in the price relationship of these instruments, we expect a mean reversion.\n",
    "We buy the underperforming instrument and simultaneously sell the outperforming one.\n",
    "\n",
    "To illustrate the price relationship between pair instruements and to generate trading signals as explained above, we use the following indicator:\n",
    "\n",
    "$$ Indicator = \\frac{LastA}{Lastb} $$\n",
    "Where:\n",
    "- *Last A* is the Last trade price of the stock A \n",
    "- *Last B* is the Last trade price of the stock B\n",
    "\n",
    "### Services used\n",
    "This sample uses *gRPC requests* in order to retrieve intraday bars from the dedicated hosted service. The queried endpoint in this script are:\n",
    "* *TickBarsService*: to directly retrieve tick bars objects from the server\n",
    "\n",
    "### Modules required\n",
    "1. Systemathics packages:\n",
    "    * *systemathics.apis*\n",
    "2. Open source packages\n",
    "    * *googleapis-common-protos*\n",
    "    * *protobuf*\n",
    "    * *grpcio*\n",
    "    * *pandas*\n",
    "    * *matpotlib* as per display package\n",
    "\n",
    "***"
   ]
  },
  {
   "cell_type": "markdown",
   "metadata": {},
   "source": [
    "# Run Pair strategy using tick data"
   ]
  },
  {
   "cell_type": "markdown",
   "metadata": {},
   "source": [
    "### Step 1: Install packages and import them"
   ]
  },
  {
   "cell_type": "code",
   "execution_count": null,
   "metadata": {},
   "outputs": [],
   "source": [
    "pip install googleapis-common-protos protobuf grpcio pandas matplotlib systemathics.apis"
   ]
  },
  {
   "cell_type": "code",
   "execution_count": null,
   "metadata": {},
   "outputs": [],
   "source": [
    "import os\n",
    "import grpc\n",
    "import pandas as pd\n",
    "from datetime import datetime\n",
    "from datetime import timedelta\n",
    "import google.type.date_pb2 as date\n",
    "import google.type.timeofday_pb2 as timeofday\n",
    "import google.type.dayofweek_pb2 as dayofweek\n",
    "import google.protobuf.duration_pb2 as duration\n",
    "import systemathics.apis.type.shared.v1.identifier_pb2 as identifier\n",
    "import systemathics.apis.type.shared.v1.constraints_pb2 as constraints\n",
    "import systemathics.apis.type.shared.v1.date_interval_pb2 as dateinterval\n",
    "import systemathics.apis.type.shared.v1.time_interval_pb2 as timeinterval\n",
    "import systemathics.apis.services.tick_analytics.v1.tick_bars_pb2 as tick_bars\n",
    "import systemathics.apis.services.tick_analytics.v1.tick_bars_pb2_grpc as tick_bars_service"
   ]
  },
  {
   "cell_type": "markdown",
   "metadata": {},
   "source": [
    "### Step 2: Retrieve authentication token\n",
    "The following code snippet sends authentication request and print token to console output in order to process the upcomming *gRPC queries*."
   ]
  },
  {
   "cell_type": "code",
   "execution_count": null,
   "metadata": {},
   "outputs": [],
   "source": [
    "token = f\"Bearer {os.environ['AUTH0_TOKEN']}\"\n",
    "display(token)"
   ]
  },
  {
   "cell_type": "markdown",
   "metadata": {},
   "source": [
    "### Step 3: Retrieve prices"
   ]
  },
  {
   "cell_type": "markdown",
   "metadata": {},
   "source": [
    "#### 3.1 Instrument selection"
   ]
  },
  {
   "cell_type": "code",
   "execution_count": null,
   "metadata": {},
   "outputs": [],
   "source": [
    "# set the instruments: tickers and exchange\n",
    "exchange = \"BATS\"\n",
    "ticker_1 = \"AAPL\"\n",
    "ticker_2 = \"MSFT\""
   ]
  },
  {
   "cell_type": "markdown",
   "metadata": {},
   "source": [
    "#### 3.2 Tick bars parameters\n",
    "The following code snippets enables to set the tick bars request parameters in order to retrieve tick prices:"
   ]
  },
  {
   "cell_type": "code",
   "execution_count": null,
   "metadata": {},
   "outputs": [],
   "source": [
    "# set the bar duration\n",
    "sampling = 1 * 60\n",
    "\n",
    "# set the bar calculation field\n",
    "field = tick_bars.BAR_PRICE_TRADE "
   ]
  },
  {
   "cell_type": "code",
   "execution_count": null,
   "metadata": {},
   "outputs": [],
   "source": [
    "#### 3.3 Time period selection"
   ]
  },
  {
   "cell_type": "code",
   "execution_count": null,
   "metadata": {},
   "outputs": [],
   "source": [
    "# create time intervals (we are using Google date format)\n",
    "date_interval = dateinterval.DateInterval(\n",
    "    start_date = date.Date(year = 2021, month = 3, day = 5), \n",
    "    end_date = date.Date(year = 2021, month = 3, day = 5)\n",
    ")\n",
    "\n",
    "# build the market data request time interval (we are using Google time format)\n",
    "# UTC time zone\n",
    "time_interval = timeinterval.TimeInterval(\n",
    "    start_time = timeofday.TimeOfDay(hours = 0, minutes = 0, seconds = 0), \n",
    "    end_time = timeofday.TimeOfDay(hours = 21, minutes = 0, seconds = 0)\n",
    ")"
   ]
  },
  {
   "cell_type": "markdown",
   "metadata": {},
   "source": [
    "#### 3.2 Request creation\n",
    "The following code snippets create *gRPC client*, process the *daily bars* request and stream the replies:"
   ]
  },
  {
   "cell_type": "code",
   "execution_count": null,
   "metadata": {},
   "outputs": [],
   "source": [
    "# generate constraints based on the previous time selection\n",
    "constraints = constraints.Constraints(\n",
    "    date_intervals = [date_interval],\n",
    "    time_intervals = [time_interval],\n",
    ")"
   ]
  },
  {
   "cell_type": "code",
   "execution_count": null,
   "metadata": {},
   "outputs": [],
   "source": [
    "# create tick bars requests for the pair instruments\n",
    "request_1 = tick_bars.TickBarsRequest(\n",
    "    identifier = identifier.Identifier(exchange = exchange, ticker = ticker_1),\n",
    "    constraints = constraints,\n",
    "    sampling = duration.Duration(seconds = sampling),\n",
    "    field = field\n",
    ")\n",
    "\n",
    "request_2 = tick_bars.TickBarsRequest(\n",
    "    identifier = identifier.Identifier(exchange = exchange, ticker = ticker_2),\n",
    "    constraints = constraints,\n",
    "    sampling = duration.Duration(seconds = sampling),\n",
    "    field = field\n",
    ")"
   ]
  },
  {
   "cell_type": "code",
   "execution_count": null,
   "metadata": {},
   "outputs": [],
   "source": [
    "# open a gRPC channel, instantiate the tick bars service and get the reply for the 1st instrument\n",
    "with open(os.environ['SSL_CERT_FILE'], 'rb') as f:\n",
    "    credentials = grpc.ssl_channel_credentials(f.read())\n",
    "with grpc.secure_channel(os.environ['GRPC_APIS'], credentials) as channel:\n",
    "    service = tick_bars_service.TickBarsServiceStub(channel)\n",
    "    bars_1 = []\n",
    "    for bar in service.TickBars(request = request_1, metadata = [('authorization', token)]):\n",
    "            bars_1.append(bar)"
   ]
  },
  {
   "cell_type": "code",
   "execution_count": null,
   "metadata": {},
   "outputs": [],
   "source": [
    "# open a gRPC channel, instantiate the tick bars service and get the reply for the 2nd instrument\n",
    "with open(os.environ['SSL_CERT_FILE'], 'rb') as f:\n",
    "    credentials = grpc.ssl_channel_credentials(f.read())\n",
    "with grpc.secure_channel(os.environ['GRPC_APIS'], credentials) as channel:\n",
    "    service = tick_bars_service.TickBarsServiceStub(channel)\n",
    "    bars_2 = []\n",
    "    for bar in service.TickBars(request = request_2, metadata = [('authorization', token)]):\n",
    "            bars_2.append(bar)"
   ]
  },
  {
   "cell_type": "code",
   "execution_count": null,
   "metadata": {},
   "outputs": [],
   "source": [
    "print(\"Total bars retrieved: \",len(bars_1))"
   ]
  },
  {
   "cell_type": "code",
   "execution_count": null,
   "metadata": {},
   "outputs": [],
   "source": [
    "print(\"Total bars retrieved: \",len(bars_2))"
   ]
  },
  {
   "cell_type": "markdown",
   "metadata": {},
   "source": [
    "#### 3.3 Store prices and timestamps\n",
    "The following code snippet reprocess the outputs of the requests and store them in a *pandas* dataframe:"
   ]
  },
  {
   "cell_type": "code",
   "execution_count": null,
   "metadata": {},
   "outputs": [],
   "source": [
    "# create pandas dataframe to store close prices for the pair instruments\n",
    "length = len(bars_1)\n",
    "dates = [datetime.fromtimestamp(b.time_stamp.seconds) for b in bars_1]\n",
    "prices1 = [b.close for b in bars_1]\n",
    "prices2 = [b.close for b in bars_2]\n",
    "data = {'Date': dates, 'Price_1': prices1, 'Price_2': prices2}\n",
    "df = pd.DataFrame(data=data)\n",
    "df"
   ]
  },
  {
   "cell_type": "markdown",
   "metadata": {},
   "source": [
    "#### 3.4 Visualize tick prices"
   ]
  },
  {
   "cell_type": "code",
   "execution_count": null,
   "metadata": {},
   "outputs": [],
   "source": [
    "import matplotlib.pyplot as plt"
   ]
  },
  {
   "cell_type": "code",
   "execution_count": null,
   "metadata": {},
   "outputs": [],
   "source": [
    "fig,ax = plt.subplots(1,1,figsize=(25,10))\n",
    "ax.plot( 'Date', 'Price_1', data=df, marker='', color='orange', linewidth=1, label=\"{}\".format(ticker_1))\n",
    "\n",
    "# twin x-axis for two different y-axis\n",
    "ax2=ax.twinx()\n",
    "ax2.plot( 'Date', 'Price_2', data=df, marker='', color='purple', linewidth=1, label=\"{}\".format(ticker_2))\n",
    "\n",
    "# set graph title and axis label\n",
    "ax.set_xlabel(\"Date\",fontsize=14)\n",
    "ax.set_ylabel(\"{}\".format(ticker_1),color=\"orange\",fontsize=14)\n",
    "ax2.set_ylabel(\"{}\".format(ticker_2),color=\"purple\",fontsize=14)\n",
    "plt.title(\"{0} & {1} tick close prices over time\".format(ticker_1, ticker_2))\n",
    "plt.legend()\n",
    "plt.show()"
   ]
  },
  {
   "cell_type": "markdown",
   "metadata": {},
   "source": [
    "### Step 4: Generate buy/sell signals"
   ]
  },
  {
   "cell_type": "markdown",
   "metadata": {},
   "source": [
    "#### 4.1 Compute stock indicator"
   ]
  },
  {
   "cell_type": "code",
   "execution_count": null,
   "metadata": {},
   "outputs": [],
   "source": [
    "import math\n",
    "# define the strategy indicator, equals Price1/Price2\n",
    "def get_indicator(p1,p2):\n",
    "    if p2 == 0:\n",
    "        return 0\n",
    "    else:\n",
    "        return p1/p2"
   ]
  },
  {
   "cell_type": "code",
   "execution_count": null,
   "metadata": {},
   "outputs": [],
   "source": [
    "# Compute ratio and add to the dataframe\n",
    "indicators = [get_indicator(p1,p2) for p1,p2 in zip(prices1,prices2)]\n",
    "df['Indicator'] = indicators\n",
    "df"
   ]
  },
  {
   "cell_type": "code",
   "execution_count": null,
   "metadata": {},
   "outputs": [],
   "source": [
    "# display the indicator and its mean over the time\n",
    "indicator_mean = [df.mean().Indicator for t in df['Date']]\n",
    "plt.figure(figsize=(25, 10))\n",
    "plt.plot('Date', 'Indicator', data=df, marker='', color='blue', linewidth=1, label=\"Indicator\")\n",
    "plt.plot(df['Date'], indicator_mean, marker='', color='black', linewidth=1, label=\"Average indicator\")\n",
    "plt.xlabel(\"Date\")\n",
    "plt.ylabel(\"Indicator\")\n",
    "plt.title(\"{0}/{1} indicator\".format(ticker_1,ticker_2))\n",
    "plt.legend()"
   ]
  },
  {
   "cell_type": "markdown",
   "metadata": {},
   "source": [
    "#### 4.2 Compute indicator Z-score\n",
    "A *z-score* is the number of standard deviations a datapoint is from the mean. In the following code snippets, we will compute the *z-score* for the strategy indicator. "
   ]
  },
  {
   "cell_type": "code",
   "execution_count": null,
   "metadata": {},
   "outputs": [],
   "source": [
    "# define a method to compute z-score\n",
    "def get_zscore(value,std,mean):\n",
    "    return (value - mean) / std"
   ]
  },
  {
   "cell_type": "code",
   "execution_count": null,
   "metadata": {},
   "outputs": [],
   "source": [
    "# compute the z-score for the strategy indicator\n",
    "zscores = [get_zscore(i, df.std().Indicator, df.mean().Indicator) for i in indicators]\n",
    "df['Zscore'] = zscores\n",
    "df"
   ]
  },
  {
   "cell_type": "markdown",
   "metadata": {},
   "source": [
    "In the following code snippet, we plot the *z-score*. We notice that it reverts the mean as as soon as it is higher or lower than the thresholds: +1 and -1."
   ]
  },
  {
   "cell_type": "code",
   "execution_count": null,
   "metadata": {},
   "outputs": [],
   "source": [
    "# display zscore and zscore_mean\n",
    "zscore_means = [df.mean().Zscore for t in df['Date']]\n",
    "plt.figure(figsize=(25, 10))\n",
    "plt.plot('Date', 'Zscore', data=df, marker='', color='blue', linewidth=1, label=\"Z-score\")\n",
    "plt.plot(df['Date'],zscore_means, marker='', color='black', linewidth=1, label=\"Average Z-score\")\n",
    "plt.axhline(1.0, color='red')\n",
    "plt.axhline(-1.0, color='green')\n",
    "plt.xlabel(\"Date\")\n",
    "plt.ylabel(\"Z-score\")\n",
    "plt.title(\"{0}/{1} Z-score\".format(ticker_1,ticker_2))\n",
    "plt.legend()"
   ]
  },
  {
   "cell_type": "markdown",
   "metadata": {},
   "source": [
    "#### 4.3 Compute indicator moving averages Z-score"
   ]
  },
  {
   "cell_type": "markdown",
   "metadata": {},
   "source": [
    "To generate **trading signals**, we will track indicator movements and identify points where it reverts the mean. \n",
    "\n",
    "To that end, we will compute a specific *z-score* on top of the indicator metrics related to the mean:\n",
    "* 60 day Moving Average of Indicator\n",
    "* 5 day Moving Average of Indicator"
   ]
  },
  {
   "cell_type": "code",
   "execution_count": null,
   "metadata": {},
   "outputs": [],
   "source": [
    "# compute long moving average\n",
    "long_ma_rolling = df['Indicator'].rolling(window=60, center=False)\n",
    "long_mas = long_ma_rolling.mean()\n",
    "long_ma_std = long_ma_rolling.std()\n",
    "\n",
    "# compute short moving average\n",
    "short_ma_rolling = df['Indicator'].rolling(window=5, center=False)\n",
    "short_mas = short_ma_rolling.mean()"
   ]
  },
  {
   "cell_type": "code",
   "execution_count": null,
   "metadata": {},
   "outputs": [],
   "source": [
    "# add the strategy indicator long and short moving averages\n",
    "df['Indicator_long_ma'],df['Indicator_short_ma'] = long_mas, short_mas "
   ]
  },
  {
   "cell_type": "code",
   "execution_count": null,
   "metadata": {},
   "outputs": [],
   "source": [
    "# comptue zscore\n",
    "zscore_mas = (short_mas - long_mas)/long_ma_std\n",
    "df['Zscore_ma'] = zscore_mas\n",
    "df"
   ]
  },
  {
   "cell_type": "markdown",
   "metadata": {},
   "source": [
    "The following code snippets displays the strategy indicator and its long/short moving averages:"
   ]
  },
  {
   "cell_type": "code",
   "execution_count": null,
   "metadata": {},
   "outputs": [],
   "source": [
    "plt.figure(figsize=(25, 10))\n",
    "plt.plot('Date', 'Indicator', data=df, marker='', color='blue', linewidth=1, alpha = 0.6, label=\"Indicator\")\n",
    "plt.plot('Date', 'Indicator_long_ma', data=df, marker='', color='red', linewidth=1, label=\"Indicator long-ma\")\n",
    "plt.plot('Date', 'Indicator_short_ma', data=df, marker='', color='green', linewidth=1, label=\"Indicator short-ma\")\n",
    "plt.legend(['Indicator', 'Indicator long-ma', 'Indicator short-ma'])\n",
    "plt.ylabel('Indicator')\n",
    "plt.xlabel('Date')\n",
    "plt.title(' {0}/{1} Indicator with long/short moving averages'.format(ticker_1,ticker_2))\n",
    "plt.show()"
   ]
  },
  {
   "cell_type": "markdown",
   "metadata": {},
   "source": [
    "The following code snippets displays the strategy indicator z-score previously computed using the long/short indicator moving averages."
   ]
  },
  {
   "cell_type": "code",
   "execution_count": null,
   "metadata": {},
   "outputs": [],
   "source": [
    "plt.figure(figsize=(25, 10))\n",
    "plt.plot('Date', 'Zscore_ma', data=df, marker='', color='blue', linewidth=1, label=\"Indicator z-score\")\n",
    "plt.axhline(0, color='black')\n",
    "plt.axhline(1.0, color='red', linestyle='--')\n",
    "plt.axhline(-1.0, color='green', linestyle='--')\n",
    "plt.legend(['Indicator z-score', 'Mean', '+1', '-1'])\n",
    "plt.ylabel('Z-score')\n",
    "plt.title('{0}/{1} indicator Z-Score from moving averages'.format(ticker_1,ticker_2))\n",
    "plt.xlabel('Date')\n",
    "plt.show()"
   ]
  },
  {
   "cell_type": "markdown",
   "metadata": {},
   "source": [
    "#### 4.4 Generate trading signals"
   ]
  },
  {
   "cell_type": "markdown",
   "metadata": {},
   "source": [
    "We now generate **buy/sell trading signals** based on *z-score* movements:\n",
    "* if *z-score* < -1 : we *buy* the ratio  \n",
    "* if *z-score* > 1 : we *sell* the ratio  "
   ]
  },
  {
   "cell_type": "code",
   "execution_count": null,
   "metadata": {},
   "outputs": [],
   "source": [
    "buys = [None] * length\n",
    "sells = [None] * length\n",
    "\n",
    "# Customize sell and buy signals\n",
    "for i in range(len(buys)):\n",
    "    if zscore_mas[i] <= -1:\n",
    "        buys[i] = indicators[i]\n",
    "    if zscore_mas[i] >= 1:\n",
    "        sells[i] = indicators[i]\n",
    "\n",
    "df['Buy'],df['Sell'] = buys, sells\n",
    "df"
   ]
  },
  {
   "cell_type": "markdown",
   "metadata": {},
   "source": [
    "### Step 5: Plot buy/sell signals"
   ]
  },
  {
   "cell_type": "markdown",
   "metadata": {},
   "source": [
    "#### 5.1 Plot buy/sell signals on ratio"
   ]
  },
  {
   "cell_type": "code",
   "execution_count": null,
   "metadata": {},
   "outputs": [],
   "source": [
    "plt.figure(figsize=(25, 10))\n",
    "plt.plot('Date', 'Indicator', data=df, marker='', color='blue', linewidth=1, label=\"Indicator z-score\")\n",
    "plt.plot('Date', 'Buy', data=df, color='green', linestyle='None', marker='^')\n",
    "plt.plot('Date', 'Sell', data=df, color='red', linestyle='None', marker='^')\n",
    "plt.legend(['Indicator', 'Buy Signal', 'Sell Signal'])\n",
    "plt.ylabel('Z-Score')\n",
    "plt.title('{0}/{1} Buy/sell signals on the indicator'.format(ticker_1,ticker_2))\n",
    "plt.xlabel('Date')\n",
    "plt.show()"
   ]
  },
  {
   "cell_type": "markdown",
   "metadata": {},
   "source": [
    "#### 5.2 Plot buy & sell signals on respective instruments\n",
    "We previously identified the trading signals based on the ratio. We now have to match signals in order to determine which instrument to buy/sell in each case.\n",
    "Since the ratio was previously defined as Price1/Price2, the decision will be made following the rules below:\n",
    "* When buying the ratio, you **buy** Instrument 1 and **sell** Instrument 2\n",
    "* When selling the ratio, you **sell** Instrument 1 and **buy** Instrument 2"
   ]
  },
  {
   "cell_type": "code",
   "execution_count": null,
   "metadata": {},
   "outputs": [],
   "source": [
    "# Match b/s signals on the corresponding instruments\n",
    "buy_1, buy_2, sell_1, sell_2 = [None] * length, [None] * length, [None] * length, [None] * length\n",
    "\n",
    "for i in range(length):\n",
    "    if buys[i] != None:  # buying the ratio\n",
    "        buy_1[i] = prices1[i]    #buy instrument1\n",
    "        sell_2[i] = prices2[i]   #sell instrument2\n",
    "    if sells[i] != None: # selling the ratio\n",
    "        sell_1[i] = prices1[i]   #sell instrument1\n",
    "        buy_2[i] = prices2[i]    #buy instrument2\n",
    "\n",
    "df['Buy_1'], df['Sell_1'], df['Buy_2'], df['Sell_2'] = buy_1, sell_1, buy_2, sell_2\n",
    "df"
   ]
  },
  {
   "cell_type": "code",
   "execution_count": null,
   "metadata": {},
   "outputs": [],
   "source": [
    "fig,ax = plt.subplots(1,1,figsize=(25,10))\n",
    "ax.plot( 'Date', 'Price_1', data=df, marker='', color='orange', linewidth=1, label=\"{}\".format(ticker_1))\n",
    "ax.plot('Date', 'Buy_1', data=df, color='green', linestyle='None', marker='^', label=\"Buy {0}\".format(ticker_1))\n",
    "ax.plot('Date', 'Sell_1', data=df, color='red', linestyle='None', marker='^', label=\"Sell {0}\".format(ticker_1))\n",
    "\n",
    "# twin x-axis for two different y-axis\n",
    "ax2=ax.twinx()\n",
    "ax2.plot( 'Date', 'Price_2', data=df, marker='', color='purple', linewidth=1, label=\"{}\".format(ticker_2))\n",
    "ax2.plot('Date', 'Buy_2', data=df, color='green', linestyle='None', marker='^', label=\"Buy {0}\".format(ticker_2))\n",
    "ax2.plot('Date', 'Sell_2', data=df, color='red', linestyle='None', marker='^', label=\"Sell {0}\".format(ticker_2))\n",
    "\n",
    "# set graph title and axis label\n",
    "ax.set_xlabel(\"Date\",fontsize=14)\n",
    "ax.set_ylabel(\"{}\".format(ticker_1),color=\"orange\",fontsize=14)\n",
    "ax2.set_ylabel(\"{}\".format(ticker_2),color=\"purple\",fontsize=14)\n",
    "plt.title(\"{0} & {1} tick close prices over time\".format(ticker_1, ticker_2))\n",
    "ax.legend(loc='upper left')\n",
    "plt.legend(loc='lower right')\n",
    "plt.show()"
   ]
  },
  {
   "cell_type": "code",
   "execution_count": null,
   "metadata": {},
   "outputs": [],
   "source": []
  }
 ],
 "metadata": {
  "kernelspec": {
   "display_name": "Python 3",
   "language": "python",
   "name": "python3"
  },
  "language_info": {
   "codemirror_mode": {
    "name": "ipython",
    "version": 3
   },
   "file_extension": ".py",
   "mimetype": "text/x-python",
   "name": "python",
   "nbconvert_exporter": "python",
   "pygments_lexer": "ipython3",
   "version": "3.9.5"
  }
 },
 "nbformat": 4,
 "nbformat_minor": 4
}
