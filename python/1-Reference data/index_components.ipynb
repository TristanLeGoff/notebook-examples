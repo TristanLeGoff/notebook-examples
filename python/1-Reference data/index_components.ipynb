{
 "cells": [
  {
   "cell_type": "markdown",
   "id": "rational-organ",
   "metadata": {},
   "source": [
    "# Generate index components using dedicated service - Python\n",
    "\n",
    "### Overview\n",
    "Reference data encompasses a wide range of specification data about:\n",
    "* financial instrument such as asset class, symbol, maturity, etc.\n",
    "* counterparties such as issuer information.\n",
    "* pricing such as Open, high low and close prices.\n",
    "\n",
    "The challenge with reference data is that it tends to be sourced from multiple sources: internal, counterparties and providers.\n",
    "\n",
    "Reference data dedicated service is a result of various data sources and fields sourcing, validation, cross-checking and normalization.<br>\n",
    "\n",
    "This sample requests **on-demand** exchange data and enables fields mapping by calling a dedicated static data service, making available clean data.\n",
    "\n",
    "### Inputs/outputs\n",
    "Index sample is designed to help you searching and requesting index components reference data by using a wide range of commonly used fields.\n",
    "\n",
    "It takes an index code as per input filter and returns the *entries* matching the request.\n",
    "\n",
    "### Services used\n",
    "This sample uses *gRPC requests* in order to retrieve index components reference data from the hosted service. The queried endpoint in this script are:\n",
    "* *StaticDataService*: to directly retrieve reference data objects from the server\n",
    "\n",
    "### Modules required\n",
    "1. Systemathics packages:\n",
    "    * *systemathics.apis.services.static_data.v1*\n",
    "2. Open source packages\n",
    "    * *googleapis-common-protos*\n",
    "    * *protobuf*\n",
    "    * *grpcio*\n",
    "    * *pandas*\n",
    "    \n",
    "***"
   ]
  },
  {
   "cell_type": "markdown",
   "id": "sharp-heating",
   "metadata": {},
   "source": [
    "# Run symbology queries"
   ]
  },
  {
   "cell_type": "markdown",
   "id": "collaborative-swiss",
   "metadata": {},
   "source": [
    "### Step 1: Install packages and import them"
   ]
  },
  {
   "cell_type": "code",
   "execution_count": null,
   "id": "recognized-bishop",
   "metadata": {},
   "outputs": [],
   "source": [
    "pip install googleapis-common-protos protobuf grpcio pandas"
   ]
  },
  {
   "cell_type": "code",
   "execution_count": null,
   "id": "reduced-patrick",
   "metadata": {},
   "outputs": [],
   "source": [
    "pip install -i https://test.pypi.org/simple/ systemathics.apis==0.9.27"
   ]
  },
  {
   "cell_type": "code",
   "execution_count": null,
   "id": "floral-canon",
   "metadata": {},
   "outputs": [],
   "source": [
    "import os\n",
    "import grpc\n",
    "import pandas as pd\n",
    "import google.protobuf as pb\n",
    "import systemathics.apis.services.static_data.v1.static_data_pb2 as static_data\n",
    "import systemathics.apis.services.static_data.v1.static_data_pb2_grpc as static_data_service"
   ]
  },
  {
   "cell_type": "markdown",
   "id": "cultural-haiti",
   "metadata": {},
   "source": [
    "### Step 2: Prepare API requests\n",
    "The following code snippets retrieve authentication token to be used in upcomming API requests:"
   ]
  },
  {
   "cell_type": "code",
   "execution_count": null,
   "id": "attended-radio",
   "metadata": {},
   "outputs": [],
   "source": [
    "token = f\"Bearer {os.environ['AUTH0_TOKEN']}\"\n",
    "display(token)"
   ]
  },
  {
   "cell_type": "markdown",
   "id": "adjusted-radar",
   "metadata": {},
   "source": [
    "### Step 3: Create and process request"
   ]
  },
  {
   "cell_type": "markdown",
   "id": "cultural-diving",
   "metadata": {},
   "source": [
    "The following code snippet enables to select the **index** by its *Name/code*:"
   ]
  },
  {
   "cell_type": "code",
   "execution_count": null,
   "id": "postal-emission",
   "metadata": {},
   "outputs": [],
   "source": [
    "# set index and exchange codes\n",
    "index = 'Nasdaq 100'\n",
    "exchange = 'XNGS'"
   ]
  },
  {
   "cell_type": "markdown",
   "id": "sorted-above",
   "metadata": {},
   "source": [
    "The following code snippets call the service, generate the request and return the reply: "
   ]
  },
  {
   "cell_type": "code",
   "execution_count": null,
   "id": "bright-interpretation",
   "metadata": {},
   "outputs": [],
   "source": [
    "# generate static data request\n",
    "request = static_data.StaticDataRequest( \n",
    "    asset_type = static_data.AssetType.ASSET_TYPE_EQUITY\n",
    ")\n",
    "\n",
    "request.index.value = index # add index as per filter value\n",
    "request.count.value = 1000 # by default the count is set to 100"
   ]
  },
  {
   "cell_type": "code",
   "execution_count": null,
   "id": "accomplished-applicant",
   "metadata": {},
   "outputs": [],
   "source": [
    "# open a gRPC channel\n",
    "credentials = grpc.ssl_channel_credentials()\n",
    "with grpc.secure_channel(\"apis.systemathics.cloud:443\", credentials) as channel:\n",
    "    \n",
    "    # instantiate the static data service\n",
    "    service = static_data_service.StaticDataServiceStub(channel)\n",
    "    \n",
    "    # process the request\n",
    "    response = service.StaticData(\n",
    "        request = request, \n",
    "        metadata = [('authorization', token)]\n",
    "    )"
   ]
  },
  {
   "cell_type": "code",
   "execution_count": null,
   "id": "unable-airport",
   "metadata": {},
   "outputs": [],
   "source": [
    "display(len(response.equities))"
   ]
  },
  {
   "cell_type": "markdown",
   "id": "saving-membership",
   "metadata": {},
   "source": [
    "### Step 4: Retrieve index components"
   ]
  },
  {
   "cell_type": "code",
   "execution_count": null,
   "id": "polished-simpson",
   "metadata": {},
   "outputs": [],
   "source": [
    "# define a method to handle the equities reponse using a Pandas dataframe\n",
    "def get_equities_dataframe(response):\n",
    "    exchange = [equity.identifier.exchange for equity in response.equities]\n",
    "    ticker = [equity.identifier.ticker for equity in response.equities]\n",
    "    name = [equity.name for equity in response.equities]\n",
    "    primary = [equity.primary for equity in response.equities]\n",
    "    index = [equity.index for equity in response.equities]\n",
    "    isin = [equity.isin for equity in response.equities]\n",
    "    cusip = [equity.cusip for equity in response.equities]\n",
    "    sedol = [equity.sedol for equity in response.equities]\n",
    "    \n",
    "    # Create pandas dataframe\n",
    "    d = {'Index': index, 'Name': name, 'Ticker': ticker, 'Exchange': exchange, 'Primary':primary, 'Isin': isin, 'Cusip': cusip, 'Sedol': sedol}\n",
    "    df = pd.DataFrame(data=d)\n",
    "    return df"
   ]
  },
  {
   "cell_type": "code",
   "execution_count": null,
   "id": "instant-polls",
   "metadata": {},
   "outputs": [],
   "source": [
    "# visualize request results\n",
    "data = get_equities_dataframe(response)\n",
    "display(data)"
   ]
  },
  {
   "cell_type": "code",
   "execution_count": null,
   "id": "biblical-sixth",
   "metadata": {},
   "outputs": [],
   "source": []
  }
 ],
 "metadata": {
  "language_info": {
   "name": "python",
   "pygments_lexer": "ipython3"
  }
 },
 "nbformat": 4,
 "nbformat_minor": 5
}
