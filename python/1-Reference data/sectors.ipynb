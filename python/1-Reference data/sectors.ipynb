{
 "cells": [
  {
   "cell_type": "markdown",
   "id": "a5a6e32a",
   "metadata": {},
   "source": [
    "# Generate instrument sector information using dedicated service - Python\n",
    "\n",
    "### Overview\n",
    "Reference data encompasses a wide range of specification data about:\n",
    "* financial instrument such as asset class, symbol, maturity, etc.\n",
    "* counterparties such as issuer information.\n",
    "* pricing such as Open, high low and close prices.\n",
    "\n",
    "The challenge with reference data is that it tends to be sourced from multiple sources: internal, counterparties and providers.\n",
    "\n",
    "Reference data dedicated service is a result of various data sources and fields sourcing, validation, cross-checking and normalization.<br>\n",
    "\n",
    "This sample requests **on-demand** exchange data and enables fields mapping by calling a dedicated static data service, making available clean data.\n",
    "\n",
    "### Inputs/outputs\n",
    "Exchange data sample is designed to help you searching and requesting exchange reference data by using a wide range of commonly used fields.\n",
    "\n",
    "It takes exchange identifier as per input filter and returns the *entries* matching the request:\n",
    "* List of instruments' identifiers\n",
    "* Countries\n",
    "* Currencies \n",
    "* Tick size rules\n",
    "* etc. \n",
    "\n",
    "### Services used\n",
    "This sample uses *gRPC requests* in order to retrieve sectors reference data from the hosted service. The queried endpoint in this script are:\n",
    "* *StaticSectorService*: to directly retrieve sector information objects from the server\n",
    "\n",
    "### Modules required\n",
    "1. Systemathics packages:\n",
    "    * *systemathics.apis.services.sector_data.v1*\n",
    "2. Open source packages\n",
    "    * *googleapis-common-protos*\n",
    "    * *protobuf*\n",
    "    * *grpcio*\n",
    "    * *pandas*\n",
    "    \n",
    "***"
   ]
  },
  {
   "cell_type": "markdown",
   "id": "9807f625",
   "metadata": {},
   "source": [
    "# Run Exchange data sample"
   ]
  },
  {
   "cell_type": "markdown",
   "id": "6e0ef061",
   "metadata": {},
   "source": [
    "### Step 1: Install packages and import them"
   ]
  },
  {
   "cell_type": "code",
   "execution_count": null,
   "id": "156ec1fa",
   "metadata": {},
   "outputs": [],
   "source": [
    "pip install googleapis-common-protos protobuf grpcio pandas systemathics.apis"
   ]
  },
  {
   "cell_type": "code",
   "execution_count": null,
   "id": "faadc167",
   "metadata": {},
   "outputs": [],
   "source": [
    "import os\n",
    "import grpc\n",
    "import pandas as pd\n",
    "import google.protobuf as pb\n",
    "import systemathics.apis.services.static_data.v1.static_sector_pb2 as static_sector\n",
    "import systemathics.apis.services.static_data.v1.static_sector_pb2_grpc as static_sector_service"
   ]
  },
  {
   "cell_type": "markdown",
   "id": "fedb8e97",
   "metadata": {},
   "source": [
    "### Step 2: Prepare API requests\n",
    "The following code snippets retrieve authentication token to be used in upcomming API requests:"
   ]
  },
  {
   "cell_type": "code",
   "execution_count": null,
   "id": "37f2b42f",
   "metadata": {},
   "outputs": [],
   "source": [
    "token = f\"Bearer {os.environ['AUTH0_TOKEN']}\"\n",
    "display(token)"
   ]
  },
  {
   "cell_type": "markdown",
   "id": "9de9cf3c-091b-41fe-a3ec-d2b3cb7ff99f",
   "metadata": {},
   "source": [
    "### Step 3: Define necessary functions\n",
    "In this part we define a function dedicated to retrieve **sectors data** for a given **classification** and **code**.\n",
    "This snippet will be used in the next paragraphs for examples"
   ]
  },
  {
   "cell_type": "code",
   "execution_count": null,
   "id": "4fc73063-5024-49fc-8236-4e610d879d63",
   "metadata": {},
   "outputs": [],
   "source": [
    "def get_sector_data(provider, code):\n",
    "    \n",
    "    # generate sector data request\n",
    "    request = static_sector.StaticSectorRequest( \n",
    "        provider = provider,\n",
    "        code = code\n",
    "    )\n",
    "    try:\n",
    "        with open(os.environ['SSL_CERT_FILE'], 'rb') as f:\n",
    "            credentials = grpc.ssl_channel_credentials(f.read())\n",
    "        with grpc.secure_channel(os.environ['GRPC_APIS'], credentials) as channel:\n",
    "\n",
    "            # instantiate the sector data service\n",
    "            service = static_sector_service.StaticSectorServiceStub(channel)\n",
    "\n",
    "            # process the request\n",
    "            response = service.StaticSector(\n",
    "                request = request, \n",
    "                metadata = [('authorization', token)]\n",
    "            )\n",
    "        return response\n",
    "    except grpc.RpcError as e:\n",
    "        display(e.code().name)\n",
    "        display(e.details())\n"
   ]
  },
  {
   "cell_type": "markdown",
   "id": "682512cc-6e58-4358-9b3a-528a9fbd025f",
   "metadata": {},
   "source": [
    "### Step 4: Retrieve sectors data"
   ]
  },
  {
   "cell_type": "markdown",
   "id": "bbea01e0-f9b5-4569-aa37-a52426fb2336",
   "metadata": {},
   "source": [
    "#### 4.1: TRBC"
   ]
  },
  {
   "cell_type": "code",
   "execution_count": null,
   "id": "10a91515",
   "metadata": {},
   "outputs": [],
   "source": [
    "# set the exchange to retrieve equities data\n",
    "provider = 'TRBC'\n",
    "code = '534020'"
   ]
  },
  {
   "cell_type": "code",
   "execution_count": null,
   "id": "fad040ad-8106-42a3-8c7b-b6851d79838c",
   "metadata": {},
   "outputs": [],
   "source": [
    "trbc = get_sector_data(provider, code)\n",
    "trbc.data"
   ]
  },
  {
   "cell_type": "markdown",
   "id": "bd6dd2ce-b703-4a7c-bd0f-b16720f09fc4",
   "metadata": {},
   "source": [
    "#### 4.2: ICB"
   ]
  },
  {
   "cell_type": "code",
   "execution_count": null,
   "id": "862e78d7-bdbd-4a4f-8b93-a780ffaa4763",
   "metadata": {},
   "outputs": [],
   "source": [
    "# set the exchange to retrieve equities data\n",
    "provider = 'ICB'\n",
    "code = '6575'"
   ]
  },
  {
   "cell_type": "code",
   "execution_count": null,
   "id": "ca4d4811-ca70-47a2-873d-58309cfa3c55",
   "metadata": {},
   "outputs": [],
   "source": [
    "icb = get_sector_data(provider, code)\n",
    "icb.data"
   ]
  },
  {
   "cell_type": "markdown",
   "id": "e26d1b64-d794-4c2f-8e90-3e8ab879f855",
   "metadata": {},
   "source": [
    "#### 4.3: SIC"
   ]
  },
  {
   "cell_type": "code",
   "execution_count": null,
   "id": "07a6c83e-bb10-413b-b99a-966cd3c74bf7",
   "metadata": {},
   "outputs": [],
   "source": [
    "# set the exchange to retrieve equities data\n",
    "provider = 'SIC'\n",
    "code = '3812'"
   ]
  },
  {
   "cell_type": "code",
   "execution_count": null,
   "id": "1fcaf379-ecc7-4e4d-962c-95edc61c1f9b",
   "metadata": {},
   "outputs": [],
   "source": [
    "sic = get_sector_data(provider, code)\n",
    "sic.data"
   ]
  },
  {
   "cell_type": "markdown",
   "id": "468b94a2-7992-431a-8e18-6f7b615490d6",
   "metadata": {},
   "source": [
    "#### 4.4: BBID"
   ]
  },
  {
   "cell_type": "code",
   "execution_count": null,
   "id": "b4bd7490-ac90-4126-a839-6a026058b1b3",
   "metadata": {},
   "outputs": [],
   "source": [
    "# set the exchange to retrieve equities data\n",
    "provider = 'BBID'\n",
    "code = '68966480'"
   ]
  },
  {
   "cell_type": "code",
   "execution_count": null,
   "id": "91967610-d61e-4675-928b-c3d613c1f86d",
   "metadata": {},
   "outputs": [],
   "source": [
    "bbid = get_sector_data(provider, code)\n",
    "bbid.data"
   ]
  },
  {
   "cell_type": "markdown",
   "id": "707bf0eb-dda2-4d22-b853-1721ea463f02",
   "metadata": {},
   "source": [
    "#### 4.5: GICS"
   ]
  },
  {
   "cell_type": "code",
   "execution_count": null,
   "id": "c534d14d-9d04-4c73-a442-1d644137b96d",
   "metadata": {},
   "outputs": [],
   "source": [
    "# set the exchange to retrieve equities data\n",
    "provider = 'GICS'\n",
    "code = '3520'"
   ]
  },
  {
   "cell_type": "code",
   "execution_count": null,
   "id": "cfef89c2-0efc-46bb-a3cd-b42934adaea9",
   "metadata": {},
   "outputs": [],
   "source": [
    "gics = get_sector_data(provider, code)\n",
    "gics.data"
   ]
  }
 ],
 "metadata": {
  "kernelspec": {
   "display_name": "Python 3 (ipykernel)",
   "language": "python",
   "name": "python3"
  },
  "language_info": {
   "codemirror_mode": {
    "name": "ipython",
    "version": 3
   },
   "file_extension": ".py",
   "mimetype": "text/x-python",
   "name": "python",
   "nbconvert_exporter": "python",
   "pygments_lexer": "ipython3",
   "version": "3.9.7"
  }
 },
 "nbformat": 4,
 "nbformat_minor": 5
}
