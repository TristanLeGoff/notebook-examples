{
 "cells": [
  {
   "cell_type": "markdown",
   "id": "needed-jamaica",
   "metadata": {},
   "source": [
    "# Generate index weights using dedicated service - Python\n",
    "\n",
    "### Overview\n",
    "Reference data encompasses a wide range of specification data about:\n",
    "* financial instrument such as asset class, symbol, maturity, etc.\n",
    "* counterparties such as issuer information.\n",
    "* pricing such as Open, high low and close prices.\n",
    "\n",
    "The challenge with reference data is that it tends to be sourced from multiple sources: internal, counterparties and providers.\n",
    "\n",
    "Reference data dedicated service is a result of various data sources and fields sourcing, validation, cross-checking and normalization.<br>\n",
    "\n",
    "This sample requests **on-demand** exchange data and enables fields mapping by calling a dedicated static data service, making available clean data.\n",
    "\n",
    "### Inputs/outputs\n",
    "Index weights sample is designed to help you searching and requesting index components reference data by using a wide range of commonly used fields.\n",
    "\n",
    "It takes an index code as per input filter and returns index components and weights.\n",
    "\n",
    "### Services used\n",
    "This sample uses *gRPC requests* in order to retrieve index components and weights from the hosted service. The queried endpoint in this script are:\n",
    "* *ComponentsService*: to directly retrieve index data objects from the server\n",
    "\n",
    "### Modules required\n",
    "1. Systemathics packages:\n",
    "    * *systemathics.apis.services.indices.v1*\n",
    "2. Open source packages\n",
    "    * *googleapis-common-protos*\n",
    "    * *protobuf*\n",
    "    * *grpcio*\n",
    "    * *pandas*\n",
    "    \n",
    "***"
   ]
  },
  {
   "cell_type": "markdown",
   "id": "growing-option",
   "metadata": {},
   "source": [
    "# Run symbology queries"
   ]
  },
  {
   "cell_type": "markdown",
   "id": "looking-strike",
   "metadata": {},
   "source": [
    "### Step 1: Install packages and import them"
   ]
  },
  {
   "cell_type": "code",
   "execution_count": null,
   "id": "ruled-certification",
   "metadata": {},
   "outputs": [],
   "source": [
    "pip install googleapis-common-protos protobuf grpcio pandas"
   ]
  },
  {
   "cell_type": "code",
   "execution_count": null,
   "id": "arbitrary-chocolate",
   "metadata": {},
   "outputs": [],
   "source": [
    "pip install -i https://test.pypi.org/simple/ systemathics.apis==0.9.27"
   ]
  },
  {
   "cell_type": "code",
   "execution_count": null,
   "id": "numeric-logging",
   "metadata": {},
   "outputs": [],
   "source": [
    "import os\n",
    "import grpc\n",
    "import pandas as pd\n",
    "import google.protobuf as pb\n",
    "import systemathics.apis.services.indices.v1.components_pb2 as indices\n",
    "import systemathics.apis.services.indices.v1.components_pb2_grpc as indices_service"
   ]
  },
  {
   "cell_type": "markdown",
   "id": "baking-integrity",
   "metadata": {},
   "source": [
    "### Step 2: Prepare API requests\n",
    "The following code snippets retrieve authentication token to be used in upcomming API requests:"
   ]
  },
  {
   "cell_type": "code",
   "execution_count": null,
   "id": "inappropriate-thomas",
   "metadata": {},
   "outputs": [],
   "source": [
    "token = f\"Bearer {os.environ['AUTH0_TOKEN']}\"\n",
    "display(token)"
   ]
  },
  {
   "cell_type": "markdown",
   "id": "disturbed-andrews",
   "metadata": {},
   "source": [
    "### Step 3: Create and process request"
   ]
  },
  {
   "cell_type": "markdown",
   "id": "communist-confirmation",
   "metadata": {},
   "source": [
    "The following code snippet enables to select the **index** by its *Name*:"
   ]
  },
  {
   "cell_type": "code",
   "execution_count": null,
   "id": "technological-george",
   "metadata": {},
   "outputs": [],
   "source": [
    "index = 'nasdaq 100'"
   ]
  },
  {
   "cell_type": "markdown",
   "id": "advised-flooring",
   "metadata": {},
   "source": [
    "The following code snippets call the service, generate the request and return the reply: "
   ]
  },
  {
   "cell_type": "code",
   "execution_count": null,
   "id": "interracial-reform",
   "metadata": {},
   "outputs": [],
   "source": [
    "# generate the indices request\n",
    "request = indices.ComponentsRequest( \n",
    "    identifier = index\n",
    ")"
   ]
  },
  {
   "cell_type": "code",
   "execution_count": null,
   "id": "compatible-cherry",
   "metadata": {},
   "outputs": [],
   "source": [
    "# open a gRPC channel\n",
    "credentials = grpc.ssl_channel_credentials()\n",
    "with grpc.secure_channel(\"apis.systemathics.cloud:443\", credentials) as channel:\n",
    "    \n",
    "    # instantiate the indices service\n",
    "    service = indices_service.ComponentsServiceStub(channel)\n",
    "    \n",
    "    # process the indices request\n",
    "    response = service.Components(\n",
    "        request = request, \n",
    "        metadata = [('authorization', token)]\n",
    "    )"
   ]
  },
  {
   "cell_type": "markdown",
   "id": "everyday-campbell",
   "metadata": {},
   "source": [
    "### Step 4: Visualize index data"
   ]
  },
  {
   "cell_type": "markdown",
   "id": "informational-windsor",
   "metadata": {},
   "source": [
    "#### 4.1 Retrieve components and weights"
   ]
  },
  {
   "cell_type": "code",
   "execution_count": null,
   "id": "stainless-mustang",
   "metadata": {},
   "outputs": [],
   "source": [
    "# create the pandas dataframe for indices' components and weights\n",
    "tickers = [c.identifier.ticker for c in response.components]\n",
    "exchanges =[c.identifier.exchange for c in response.components]\n",
    "weights = [c.weight for c in response.components]\n",
    "\n",
    "d = {'Ticker': tickers, 'Exchange': exchanges, 'Weight': weights }\n",
    "df = pd.DataFrame(data=d)\n",
    "df"
   ]
  },
  {
   "cell_type": "markdown",
   "id": "executive-officer",
   "metadata": {},
   "source": [
    "#### 4.2 Plot components and weights"
   ]
  },
  {
   "cell_type": "code",
   "execution_count": null,
   "id": "moved-superior",
   "metadata": {},
   "outputs": [],
   "source": [
    "import plotly.express as px\n",
    "\n",
    "fig = px.pie(df, values='Weight', names='Ticker')\n",
    "fig.update_traces(textposition='inside')\n",
    "fig.update_layout(uniformtext_minsize=12, uniformtext_mode='hide')\n",
    "fig.show()"
   ]
  },
  {
   "cell_type": "code",
   "execution_count": null,
   "id": "interim-oxygen",
   "metadata": {},
   "outputs": [],
   "source": []
  }
 ],
 "metadata": {
  "language_info": {
   "name": "python",
   "pygments_lexer": "ipython3"
  }
 },
 "nbformat": 4,
 "nbformat_minor": 5
}
