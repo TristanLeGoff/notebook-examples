{
 "cells": [
  {
   "cell_type": "markdown",
   "metadata": {},
   "source": [
    "## Compute tick count for normalized sources (FUTURES) - Python\n",
    "\n",
    "### Overview\n",
    "\n",
    "TODO\n",
    "\n",
    "### Inputs/outputs\n",
    "\n",
    "TODO\n",
    "\n",
    "### Services used\n",
    "This sample uses *gRPC requests* in order to retrieve ticks from the dedicated hosted service. The queried endpoint in this script are:\n",
    "* TopologiesService: to directly retrieve ticks objects from the server.\n",
    "\n",
    "### Modules required\n",
    "1. Systemathics packages:\n",
    "    * *systemathics.apis.services.topology.v1*\n",
    "    * *systemathics.apis.type.shared.v1*\n",
    "    * *google.type*\n",
    "2. Open source packages\n",
    "    * *googleapis-common-protos*\n",
    "    * *protobuf*\n",
    "    * *grpcio*\n",
    "    * *pandas*\n",
    "    * *matpotlib* as per display package\n",
    "\n",
    "***"
   ]
  },
  {
   "cell_type": "markdown",
   "metadata": {},
   "source": [
    "# Run market activity sample"
   ]
  },
  {
   "cell_type": "markdown",
   "metadata": {},
   "source": [
    "### Step 1: Install packages"
   ]
  },
  {
   "cell_type": "code",
   "execution_count": null,
   "metadata": {},
   "outputs": [],
   "source": [
    "pip install googleapis-common-protos protobuf grpcio pandas matplotlib"
   ]
  },
  {
   "cell_type": "code",
   "execution_count": null,
   "metadata": {},
   "outputs": [],
   "source": [
    "pip install -i https://test.pypi.org/simple/ systemathics.apis==0.9.27"
   ]
  },
  {
   "cell_type": "code",
   "execution_count": null,
   "metadata": {},
   "outputs": [],
   "source": [
    "import os\n",
    "import grpc\n",
    "import pandas as pd\n",
    "from datetime import datetime\n",
    "from datetime import date\n",
    "import google.type.date_pb2 as date\n",
    "import systemathics.apis.type.shared.v1.level_pb2 as level\n",
    "import systemathics.apis.type.shared.v1.identifier_pb2 as identifier\n",
    "import systemathics.apis.services.topology.v1.topologies_pb2 as topologies\n",
    "import systemathics.apis.services.topology.v1.topologies_pb2_grpc as topologies_service"
   ]
  },
  {
   "cell_type": "markdown",
   "metadata": {},
   "source": [
    "### Step 2: Retrieve authentication token\n",
    "The following code snippet sends authentication request and print token to console output in order to process the upcomming *gRPC queries*."
   ]
  },
  {
   "cell_type": "code",
   "execution_count": null,
   "metadata": {},
   "outputs": [],
   "source": [
    "token = f\"Bearer {os.environ['AUTH0_TOKEN']}\"\n",
    "display(token)"
   ]
  },
  {
   "cell_type": "markdown",
   "metadata": {},
   "source": [
    "### Step 3: Create and process request\n",
    "To request *TopologiesService*, we need to specify:\n",
    "* Instrument identifier\n",
    "* Time period selection: select start and end dates\n",
    "* Topology request parameters"
   ]
  },
  {
   "cell_type": "markdown",
   "metadata": {},
   "source": [
    "#### 3.1 Instrument selection"
   ]
  },
  {
   "cell_type": "code",
   "execution_count": null,
   "metadata": {},
   "outputs": [],
   "source": [
    "# set instrument identifier: exchange + ticker + sources\n",
    "tickerexchange_array = [['AAPL', 'XNGS',564],\n",
    "                        ['MSFT', 'BATS',564],\n",
    "                        ['AMZN', 'XNGS',564],\n",
    "                        ['AAPL', 'BATS',729],\n",
    "                        ['MSFT', 'XNGS',729],\n",
    "                        ['AMZN', 'BATS',729],\n",
    "                        ['ASML', 'XAMS', 787],\n",
    "                        ['ABI', 'XBRU',787],\n",
    "                        ['UNA', 'XAMS',787],\n",
    "                        ['RDSA', 'XAMS',787],\n",
    "                        ['ARGX', 'XBRU',787],\n",
    "                        ['MC', 'XPAR',787],\n",
    "                        ['SAN', 'CHIX',787],\n",
    "                        ['FP', 'XPAR',787],\n",
    "                        ['JMT', 'XLIS',787],\n",
    "                        ['EDPR', 'XLIS',787],\n",
    "                        ['EDP', 'CHIX',787],\n",
    "                        ['ASML', 'CHIX',794],\n",
    "                        ['ABI', 'CHIX',794],\n",
    "                        ['KBC', 'CHIX',794],\n",
    "                        ['KBC', 'XBRU',794],\n",
    "                        ['ARGX', 'CHIX',794],\n",
    "                        ['MC', 'CHIX',794],\n",
    "                        ['SAN', 'CHIX',794],\n",
    "                        ['JMT', 'CHIX',794],\n",
    "                        ['EDPR', 'CHIX',794],\n",
    "                        ['EDP', 'XLIS',794]\n",
    "                       ]\n",
    "length = len(tickerexchange_array)"
   ]
  },
  {
   "cell_type": "markdown",
   "metadata": {},
   "source": [
    "#### 3.2 Topology parmeters"
   ]
  },
  {
   "cell_type": "code",
   "execution_count": null,
   "metadata": {},
   "outputs": [],
   "source": [
    "# set topology time granularity (daily, weekly...)\n",
    "granularity = topologies.TOPOLOGY_GRANULARITY_DAILY\n",
    "\n",
    "# set level: Trades or Trades and Book\n",
    "level = level.LEVEL_TRADES_AND_BOOK"
   ]
  },
  {
   "cell_type": "markdown",
   "metadata": {},
   "source": [
    "#### 3.3 Request creation\n",
    "The following code snippet creates *gRPC client*, process request and ensure that the reply is not empty:"
   ]
  },
  {
   "cell_type": "code",
   "execution_count": null,
   "metadata": {},
   "outputs": [],
   "source": [
    "def get_topologies_request(ticker, exchange, granularity, level):\n",
    "    request = topologies.TopologiesRequest(identifier = identifier.Identifier(exchange = exchange, ticker = ticker),\n",
    "                                           granularity = granularity,\n",
    "                                           level = level)\n",
    "    return request"
   ]
  },
  {
   "cell_type": "code",
   "execution_count": null,
   "metadata": {},
   "outputs": [],
   "source": [
    "# Process all topologies requests\n",
    "credentials = grpc.ssl_channel_credentials()\n",
    "equities_responses =[]\n",
    "today = datetime.today()\n",
    "      \n",
    "# Iterate all exhange/ticker pairs\n",
    "for i in range(length):\n",
    "    with grpc.secure_channel(\"apis.systemathics.cloud:443\", credentials) as channel:\n",
    "\n",
    "        # instantiate the topologies service\n",
    "        ticker = tickerexchange_array[i][0]\n",
    "        exchange = tickerexchange_array[i][1]\n",
    "        request = get_topologies_request(ticker, exchange, granularity, level)\n",
    "        service = topologies_service.TopologiesServiceStub(channel)\n",
    "\n",
    "        # process the topologies request\n",
    "        response = service.Topologies(\n",
    "            request=request, \n",
    "            metadata = [('authorization', token)]\n",
    "        )\n",
    "        \n",
    "        #store\n",
    "        equities_responses.append(response)\n",
    "        \n",
    "# get tick count data\n",
    "print(\"Total asset requests: \", length)"
   ]
  },
  {
   "cell_type": "code",
   "execution_count": null,
   "metadata": {},
   "outputs": [],
   "source": [
    "import csv\n",
    "\n",
    "# Process all topologies responses\n",
    "today = datetime.today()\n",
    "filename = 'topologies_equities_{0:%Y%m%d}.csv'.format(today)\n",
    "\n",
    "with open(filename, mode='w') as topologies_equities_file:\n",
    "    topologies_equities_writer = csv.writer(topologies_equities_file, delimiter=',', quotechar='\"', quoting=csv.QUOTE_MINIMAL)\n",
    "\n",
    "    # write 1rst row\n",
    "    topologies_equities_writer.writerow(['Ticker', 'Exchange', 'Source', 'Entries' ,'Total_ticks', 'First_tick', 'Last_tick', 'Missing_days'])\n",
    "            \n",
    "    # Iterate all exhange/ticker pairs\n",
    "    for i in range(length):\n",
    "\n",
    "        response = equities_responses[i]    \n",
    "        # instantiate the topologies service\n",
    "        ticker = tickerexchange_array[i][0]\n",
    "        exchange = tickerexchange_array[i][1]\n",
    "\n",
    "        entries_count = len(response.entries)\n",
    "        tick_counts = sum([entry.ticks_count for entry in response.entries])\n",
    "        first_date = datetime(response.entries[0].begin.year, response.entries[0].begin.month, response.entries[0].begin.day)\n",
    "        last_date = datetime(response.entries[-1].end.year, response.entries[-1].end.month, response.entries[-1].end.day)\n",
    "        missing_days = (today- last_date).days\n",
    "        source = tickerexchange_array[i][2]\n",
    "        print(\"Total entries for {0}-{1} ({2}) \\t: {3} \\t| total ticks count: {4} \\t | b: {5:%Y/%m/%d} - {6:%Y/%m/%d} \\t| Missing days: {7}\".format(ticker, exchange, source ,entries_count, tick_counts, first_date, last_date,missing_days))\n",
    "        topologies_equities_writer.writerow([ticker,exchange, source, entries_count, tick_counts, '{0:%Y/%m/%d}'.format(first_date), '{0:%Y/%m/%d}'.format(last_date), missing_days])"
   ]
  },
  {
   "cell_type": "markdown",
   "metadata": {},
   "source": [
    "### Step 4: Visualize data"
   ]
  },
  {
   "cell_type": "markdown",
   "metadata": {},
   "source": [
    "#### 4.1 Plot tick count\n",
    "The following code snippets diplay tick count's request results with the package of your choice.<br>*`matplotlib`* is used as per open source display package. Plot a simple line graph with the closing price and volume to easily spot spikes in trading as follows:"
   ]
  },
  {
   "cell_type": "code",
   "execution_count": null,
   "metadata": {},
   "outputs": [],
   "source": [
    "import matplotlib.pyplot as plt\n",
    "\n",
    "for i in range(length):\n",
    "    counts = [entry.ticks_count for entry in equities_responses[i].entries]\n",
    "    dates = [datetime(year=entry.begin.year,day=entry.begin.day, month=entry.begin.month) for entry in equities_responses[i].entries]\n",
    "    \n",
    "    # plot\n",
    "    fig,ax = plt.subplots(1,1,figsize=(25,10))\n",
    "    ax.bar(dates,counts)\n",
    "    plt.xlabel(\"Date\",size=\"20\")\n",
    "    plt.ylabel(\"Tick count\",size=\"20\")\n",
    "    plt.title(\"Tick count for {0}-{1} | source: {2}\".format(tickerexchange_array[i][0],tickerexchange_array[i][1], tickerexchange_array[i][2]),size=\"20\")\n",
    "    plt.show()"
   ]
  }
 ],
 "metadata": {
  "language_info": {
   "name": "python",
   "pygments_lexer": "ipython3"
  }
 },
 "nbformat": 4,
 "nbformat_minor": 4
}
