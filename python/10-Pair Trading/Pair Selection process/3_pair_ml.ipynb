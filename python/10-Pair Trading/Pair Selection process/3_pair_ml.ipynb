{
 "cells": [
  {
   "cell_type": "code",
   "execution_count": 1,
   "metadata": {},
   "outputs": [
    {
     "name": "stdout",
     "output_type": "stream",
     "text": [
      "Requirement already satisfied: googleapis-common-protos in /opt/conda/lib/python3.9/site-packages (1.53.0)\n",
      "Requirement already satisfied: protobuf in /opt/conda/lib/python3.9/site-packages (3.19.0)\n",
      "Requirement already satisfied: grpcio in /opt/conda/lib/python3.9/site-packages (1.41.1)\n",
      "Requirement already satisfied: pandas in /opt/conda/lib/python3.9/site-packages (1.4.0)\n",
      "Requirement already satisfied: systemathics.apis in /opt/conda/lib/python3.9/site-packages (0.9.71)\n",
      "Requirement already satisfied: six>=1.5.2 in /opt/conda/lib/python3.9/site-packages (from grpcio) (1.16.0)\n",
      "Requirement already satisfied: python-dateutil>=2.8.1 in /opt/conda/lib/python3.9/site-packages (from pandas) (2.8.2)\n",
      "Requirement already satisfied: numpy>=1.18.5 in /opt/conda/lib/python3.9/site-packages (from pandas) (1.22.1)\n",
      "Requirement already satisfied: pytz>=2020.1 in /opt/conda/lib/python3.9/site-packages (from pandas) (2021.3)\n",
      "Requirement already satisfied: sklearn in /opt/conda/lib/python3.9/site-packages (0.0)\n",
      "Requirement already satisfied: scikit-learn in /opt/conda/lib/python3.9/site-packages (from sklearn) (1.0.2)\n",
      "Requirement already satisfied: numpy>=1.14.6 in /opt/conda/lib/python3.9/site-packages (from scikit-learn->sklearn) (1.22.1)\n",
      "Requirement already satisfied: joblib>=0.11 in /opt/conda/lib/python3.9/site-packages (from scikit-learn->sklearn) (1.1.0)\n",
      "Requirement already satisfied: scipy>=1.1.0 in /opt/conda/lib/python3.9/site-packages (from scikit-learn->sklearn) (1.7.3)\n",
      "Requirement already satisfied: threadpoolctl>=2.0.0 in /opt/conda/lib/python3.9/site-packages (from scikit-learn->sklearn) (3.0.0)\n",
      "Requirement already satisfied: kneed in /opt/conda/lib/python3.9/site-packages (0.7.0)\n",
      "Requirement already satisfied: matplotlib in /opt/conda/lib/python3.9/site-packages (from kneed) (3.5.1)\n",
      "Requirement already satisfied: numpy>=1.14.2 in /opt/conda/lib/python3.9/site-packages (from kneed) (1.22.1)\n",
      "Requirement already satisfied: scipy in /opt/conda/lib/python3.9/site-packages (from kneed) (1.7.3)\n",
      "Requirement already satisfied: pyparsing>=2.2.1 in /opt/conda/lib/python3.9/site-packages (from matplotlib->kneed) (2.4.7)\n",
      "Requirement already satisfied: python-dateutil>=2.7 in /opt/conda/lib/python3.9/site-packages (from matplotlib->kneed) (2.8.2)\n",
      "Requirement already satisfied: fonttools>=4.22.0 in /opt/conda/lib/python3.9/site-packages (from matplotlib->kneed) (4.28.5)\n",
      "Requirement already satisfied: packaging>=20.0 in /opt/conda/lib/python3.9/site-packages (from matplotlib->kneed) (21.0)\n",
      "Requirement already satisfied: pillow>=6.2.0 in /opt/conda/lib/python3.9/site-packages (from matplotlib->kneed) (9.0.0)\n",
      "Requirement already satisfied: kiwisolver>=1.0.1 in /opt/conda/lib/python3.9/site-packages (from matplotlib->kneed) (1.3.2)\n",
      "Requirement already satisfied: cycler>=0.10 in /opt/conda/lib/python3.9/site-packages (from matplotlib->kneed) (0.11.0)\n",
      "Requirement already satisfied: six>=1.5 in /opt/conda/lib/python3.9/site-packages (from python-dateutil>=2.7->matplotlib->kneed) (1.16.0)\n",
      "Requirement already satisfied: statsmodels in /opt/conda/lib/python3.9/site-packages (0.13.1)\n",
      "Requirement already satisfied: scipy>=1.3 in /opt/conda/lib/python3.9/site-packages (from statsmodels) (1.7.3)\n",
      "Requirement already satisfied: pandas>=0.25 in /opt/conda/lib/python3.9/site-packages (from statsmodels) (1.4.0)\n",
      "Requirement already satisfied: numpy>=1.17 in /opt/conda/lib/python3.9/site-packages (from statsmodels) (1.22.1)\n",
      "Requirement already satisfied: patsy>=0.5.2 in /opt/conda/lib/python3.9/site-packages (from statsmodels) (0.5.2)\n",
      "Requirement already satisfied: python-dateutil>=2.8.1 in /opt/conda/lib/python3.9/site-packages (from pandas>=0.25->statsmodels) (2.8.2)\n",
      "Requirement already satisfied: pytz>=2020.1 in /opt/conda/lib/python3.9/site-packages (from pandas>=0.25->statsmodels) (2021.3)\n",
      "Requirement already satisfied: six in /opt/conda/lib/python3.9/site-packages (from patsy>=0.5.2->statsmodels) (1.16.0)\n"
     ]
    }
   ],
   "source": [
    "# ---------- INSTALLATION AND IMPORTATION ----------\n",
    "\n",
    "!pip install googleapis-common-protos protobuf grpcio pandas systemathics.apis\n",
    "!pip install sklearn\n",
    "!pip install kneed\n",
    "!pip install statsmodels"
   ]
  },
  {
   "cell_type": "code",
   "execution_count": 2,
   "metadata": {},
   "outputs": [
    {
     "name": "stderr",
     "output_type": "stream",
     "text": [
      "/opt/conda/lib/python3.9/site-packages/statsmodels/compat/pandas.py:65: FutureWarning: pandas.Int64Index is deprecated and will be removed from pandas in a future version. Use pandas.Index with the appropriate dtype instead.\n",
      "  from pandas import Int64Index as NumericIndex\n"
     ]
    }
   ],
   "source": [
    "from sklearn.preprocessing import StandardScaler\n",
    "from sklearn.metrics import silhouette_score\n",
    "from sklearn.cluster import KMeans\n",
    "from sklearn.cluster import AgglomerativeClustering\n",
    "from sklearn.cluster import AffinityPropagation\n",
    "import scipy.cluster.hierarchy as shc\n",
    "from itertools import cycle\n",
    "from sklearn import metrics\n",
    "from kneed import KneeLocator\n",
    "import numpy as np\n",
    "import pandas as pd\n",
    "import pair_selection\n",
    "import matplotlib.pyplot as plt\n",
    "%matplotlib inline"
   ]
  },
  {
   "cell_type": "code",
   "execution_count": 3,
   "metadata": {},
   "outputs": [
    {
     "name": "stderr",
     "output_type": "stream",
     "text": [
      "/opt/conda/lib/python3.9/site-packages/pandas/core/arrays/datetimes.py:2199: FutureWarning: The parsing of 'now' in pd.to_datetime without `utc=True` is deprecated. In a future version, this will match Timestamp('now') and Timestamp.now()\n",
      "  result, tz_parsed = tslib.array_to_datetime(\n"
     ]
    }
   ],
   "source": [
    "s = pair_selection.Selection(start_date=\"2015-01-01\") # adjustment=False"
   ]
  },
  {
   "cell_type": "code",
   "execution_count": 4,
   "metadata": {},
   "outputs": [
    {
     "data": {
      "text/html": [
       "<div>\n",
       "<style scoped>\n",
       "    .dataframe tbody tr th:only-of-type {\n",
       "        vertical-align: middle;\n",
       "    }\n",
       "\n",
       "    .dataframe tbody tr th {\n",
       "        vertical-align: top;\n",
       "    }\n",
       "\n",
       "    .dataframe thead th {\n",
       "        text-align: right;\n",
       "    }\n",
       "</style>\n",
       "<table border=\"1\" class=\"dataframe\">\n",
       "  <thead>\n",
       "    <tr style=\"text-align: right;\">\n",
       "      <th></th>\n",
       "      <th>Dates</th>\n",
       "      <th>MELI</th>\n",
       "      <th>SPLK</th>\n",
       "      <th>MRVL</th>\n",
       "      <th>LULU</th>\n",
       "      <th>SIRI</th>\n",
       "      <th>WDAY</th>\n",
       "      <th>PANW</th>\n",
       "      <th>SGEN</th>\n",
       "      <th>CPRT</th>\n",
       "      <th>...</th>\n",
       "      <th>DISCB</th>\n",
       "      <th>APA</th>\n",
       "      <th>HOLX</th>\n",
       "      <th>HSIC</th>\n",
       "      <th>AKAM</th>\n",
       "      <th>HAS</th>\n",
       "      <th>EQIX</th>\n",
       "      <th>HST</th>\n",
       "      <th>INCY</th>\n",
       "      <th>AAL</th>\n",
       "    </tr>\n",
       "  </thead>\n",
       "  <tbody>\n",
       "    <tr>\n",
       "      <th>66</th>\n",
       "      <td>2015-01-02</td>\n",
       "      <td>125.85</td>\n",
       "      <td>58.790</td>\n",
       "      <td>14.520</td>\n",
       "      <td>55.34</td>\n",
       "      <td>3.475</td>\n",
       "      <td>80.41</td>\n",
       "      <td>121.42</td>\n",
       "      <td>32.54</td>\n",
       "      <td>18.290</td>\n",
       "      <td>...</td>\n",
       "      <td>36.1001</td>\n",
       "      <td>63.83</td>\n",
       "      <td>26.380</td>\n",
       "      <td>53.075286</td>\n",
       "      <td>63.25</td>\n",
       "      <td>54.97</td>\n",
       "      <td>226.65</td>\n",
       "      <td>23.81</td>\n",
       "      <td>73.76</td>\n",
       "      <td>53.910</td>\n",
       "    </tr>\n",
       "    <tr>\n",
       "      <th>67</th>\n",
       "      <td>2015-01-05</td>\n",
       "      <td>124.30</td>\n",
       "      <td>56.840</td>\n",
       "      <td>14.280</td>\n",
       "      <td>55.96</td>\n",
       "      <td>3.400</td>\n",
       "      <td>80.01</td>\n",
       "      <td>123.73</td>\n",
       "      <td>33.05</td>\n",
       "      <td>18.110</td>\n",
       "      <td>...</td>\n",
       "      <td>36.1001</td>\n",
       "      <td>59.91</td>\n",
       "      <td>26.120</td>\n",
       "      <td>52.600136</td>\n",
       "      <td>61.94</td>\n",
       "      <td>55.13</td>\n",
       "      <td>224.32</td>\n",
       "      <td>23.62</td>\n",
       "      <td>74.22</td>\n",
       "      <td>53.875</td>\n",
       "    </tr>\n",
       "    <tr>\n",
       "      <th>68</th>\n",
       "      <td>2015-01-06</td>\n",
       "      <td>122.08</td>\n",
       "      <td>55.780</td>\n",
       "      <td>14.825</td>\n",
       "      <td>55.57</td>\n",
       "      <td>3.350</td>\n",
       "      <td>79.42</td>\n",
       "      <td>121.85</td>\n",
       "      <td>31.45</td>\n",
       "      <td>17.905</td>\n",
       "      <td>...</td>\n",
       "      <td>36.1001</td>\n",
       "      <td>59.26</td>\n",
       "      <td>25.745</td>\n",
       "      <td>52.293712</td>\n",
       "      <td>60.67</td>\n",
       "      <td>54.41</td>\n",
       "      <td>219.43</td>\n",
       "      <td>23.52</td>\n",
       "      <td>71.49</td>\n",
       "      <td>53.040</td>\n",
       "    </tr>\n",
       "    <tr>\n",
       "      <th>69</th>\n",
       "      <td>2015-01-07</td>\n",
       "      <td>121.84</td>\n",
       "      <td>56.245</td>\n",
       "      <td>15.040</td>\n",
       "      <td>57.65</td>\n",
       "      <td>3.410</td>\n",
       "      <td>79.35</td>\n",
       "      <td>125.53</td>\n",
       "      <td>32.15</td>\n",
       "      <td>17.960</td>\n",
       "      <td>...</td>\n",
       "      <td>36.1001</td>\n",
       "      <td>58.60</td>\n",
       "      <td>26.400</td>\n",
       "      <td>53.740497</td>\n",
       "      <td>60.16</td>\n",
       "      <td>54.67</td>\n",
       "      <td>220.15</td>\n",
       "      <td>23.65</td>\n",
       "      <td>74.45</td>\n",
       "      <td>53.010</td>\n",
       "    </tr>\n",
       "    <tr>\n",
       "      <th>70</th>\n",
       "      <td>2015-01-08</td>\n",
       "      <td>123.66</td>\n",
       "      <td>58.450</td>\n",
       "      <td>16.015</td>\n",
       "      <td>59.07</td>\n",
       "      <td>3.540</td>\n",
       "      <td>82.78</td>\n",
       "      <td>127.21</td>\n",
       "      <td>31.74</td>\n",
       "      <td>18.145</td>\n",
       "      <td>...</td>\n",
       "      <td>36.1001</td>\n",
       "      <td>60.87</td>\n",
       "      <td>27.110</td>\n",
       "      <td>54.496859</td>\n",
       "      <td>61.57</td>\n",
       "      <td>55.00</td>\n",
       "      <td>222.78</td>\n",
       "      <td>23.90</td>\n",
       "      <td>73.21</td>\n",
       "      <td>53.660</td>\n",
       "    </tr>\n",
       "    <tr>\n",
       "      <th>...</th>\n",
       "      <td>...</td>\n",
       "      <td>...</td>\n",
       "      <td>...</td>\n",
       "      <td>...</td>\n",
       "      <td>...</td>\n",
       "      <td>...</td>\n",
       "      <td>...</td>\n",
       "      <td>...</td>\n",
       "      <td>...</td>\n",
       "      <td>...</td>\n",
       "      <td>...</td>\n",
       "      <td>...</td>\n",
       "      <td>...</td>\n",
       "      <td>...</td>\n",
       "      <td>...</td>\n",
       "      <td>...</td>\n",
       "      <td>...</td>\n",
       "      <td>...</td>\n",
       "      <td>...</td>\n",
       "      <td>...</td>\n",
       "      <td>...</td>\n",
       "    </tr>\n",
       "    <tr>\n",
       "      <th>1837</th>\n",
       "      <td>2022-01-13</td>\n",
       "      <td>1131.01</td>\n",
       "      <td>120.400</td>\n",
       "      <td>78.650</td>\n",
       "      <td>336.27</td>\n",
       "      <td>6.360</td>\n",
       "      <td>249.41</td>\n",
       "      <td>498.60</td>\n",
       "      <td>136.79</td>\n",
       "      <td>138.550</td>\n",
       "      <td>...</td>\n",
       "      <td>39.7900</td>\n",
       "      <td>32.09</td>\n",
       "      <td>69.960</td>\n",
       "      <td>77.860000</td>\n",
       "      <td>112.91</td>\n",
       "      <td>102.02</td>\n",
       "      <td>748.12</td>\n",
       "      <td>18.07</td>\n",
       "      <td>73.65</td>\n",
       "      <td>19.340</td>\n",
       "    </tr>\n",
       "    <tr>\n",
       "      <th>1838</th>\n",
       "      <td>2022-01-14</td>\n",
       "      <td>1122.74</td>\n",
       "      <td>122.620</td>\n",
       "      <td>83.000</td>\n",
       "      <td>328.98</td>\n",
       "      <td>6.180</td>\n",
       "      <td>254.31</td>\n",
       "      <td>499.11</td>\n",
       "      <td>137.09</td>\n",
       "      <td>136.710</td>\n",
       "      <td>...</td>\n",
       "      <td>39.8200</td>\n",
       "      <td>33.29</td>\n",
       "      <td>69.590</td>\n",
       "      <td>77.780000</td>\n",
       "      <td>112.62</td>\n",
       "      <td>100.12</td>\n",
       "      <td>746.76</td>\n",
       "      <td>17.94</td>\n",
       "      <td>74.88</td>\n",
       "      <td>18.490</td>\n",
       "    </tr>\n",
       "    <tr>\n",
       "      <th>1839</th>\n",
       "      <td>2022-01-18</td>\n",
       "      <td>1100.75</td>\n",
       "      <td>118.050</td>\n",
       "      <td>77.670</td>\n",
       "      <td>332.53</td>\n",
       "      <td>6.110</td>\n",
       "      <td>245.86</td>\n",
       "      <td>502.37</td>\n",
       "      <td>130.29</td>\n",
       "      <td>132.940</td>\n",
       "      <td>...</td>\n",
       "      <td>37.8100</td>\n",
       "      <td>32.97</td>\n",
       "      <td>69.410</td>\n",
       "      <td>76.270000</td>\n",
       "      <td>112.08</td>\n",
       "      <td>100.13</td>\n",
       "      <td>742.94</td>\n",
       "      <td>17.70</td>\n",
       "      <td>75.01</td>\n",
       "      <td>17.900</td>\n",
       "    </tr>\n",
       "    <tr>\n",
       "      <th>1840</th>\n",
       "      <td>2022-01-19</td>\n",
       "      <td>1060.94</td>\n",
       "      <td>118.780</td>\n",
       "      <td>76.890</td>\n",
       "      <td>330.95</td>\n",
       "      <td>6.100</td>\n",
       "      <td>249.46</td>\n",
       "      <td>519.61</td>\n",
       "      <td>132.55</td>\n",
       "      <td>131.900</td>\n",
       "      <td>...</td>\n",
       "      <td>36.0000</td>\n",
       "      <td>32.38</td>\n",
       "      <td>70.420</td>\n",
       "      <td>74.550000</td>\n",
       "      <td>113.17</td>\n",
       "      <td>99.13</td>\n",
       "      <td>730.49</td>\n",
       "      <td>17.35</td>\n",
       "      <td>74.78</td>\n",
       "      <td>17.310</td>\n",
       "    </tr>\n",
       "    <tr>\n",
       "      <th>1841</th>\n",
       "      <td>2022-01-20</td>\n",
       "      <td>1091.31</td>\n",
       "      <td>118.100</td>\n",
       "      <td>73.800</td>\n",
       "      <td>322.53</td>\n",
       "      <td>6.040</td>\n",
       "      <td>251.77</td>\n",
       "      <td>519.67</td>\n",
       "      <td>133.06</td>\n",
       "      <td>128.400</td>\n",
       "      <td>...</td>\n",
       "      <td>35.7500</td>\n",
       "      <td>31.25</td>\n",
       "      <td>69.850</td>\n",
       "      <td>74.130000</td>\n",
       "      <td>113.27</td>\n",
       "      <td>98.15</td>\n",
       "      <td>730.51</td>\n",
       "      <td>17.29</td>\n",
       "      <td>74.76</td>\n",
       "      <td>16.760</td>\n",
       "    </tr>\n",
       "  </tbody>\n",
       "</table>\n",
       "<p>1776 rows × 114 columns</p>\n",
       "</div>"
      ],
      "text/plain": [
       "          Dates     MELI     SPLK    MRVL    LULU   SIRI    WDAY    PANW  \\\n",
       "66   2015-01-02   125.85   58.790  14.520   55.34  3.475   80.41  121.42   \n",
       "67   2015-01-05   124.30   56.840  14.280   55.96  3.400   80.01  123.73   \n",
       "68   2015-01-06   122.08   55.780  14.825   55.57  3.350   79.42  121.85   \n",
       "69   2015-01-07   121.84   56.245  15.040   57.65  3.410   79.35  125.53   \n",
       "70   2015-01-08   123.66   58.450  16.015   59.07  3.540   82.78  127.21   \n",
       "...         ...      ...      ...     ...     ...    ...     ...     ...   \n",
       "1837 2022-01-13  1131.01  120.400  78.650  336.27  6.360  249.41  498.60   \n",
       "1838 2022-01-14  1122.74  122.620  83.000  328.98  6.180  254.31  499.11   \n",
       "1839 2022-01-18  1100.75  118.050  77.670  332.53  6.110  245.86  502.37   \n",
       "1840 2022-01-19  1060.94  118.780  76.890  330.95  6.100  249.46  519.61   \n",
       "1841 2022-01-20  1091.31  118.100  73.800  322.53  6.040  251.77  519.67   \n",
       "\n",
       "        SGEN     CPRT  ...    DISCB    APA    HOLX       HSIC    AKAM     HAS  \\\n",
       "66     32.54   18.290  ...  36.1001  63.83  26.380  53.075286   63.25   54.97   \n",
       "67     33.05   18.110  ...  36.1001  59.91  26.120  52.600136   61.94   55.13   \n",
       "68     31.45   17.905  ...  36.1001  59.26  25.745  52.293712   60.67   54.41   \n",
       "69     32.15   17.960  ...  36.1001  58.60  26.400  53.740497   60.16   54.67   \n",
       "70     31.74   18.145  ...  36.1001  60.87  27.110  54.496859   61.57   55.00   \n",
       "...      ...      ...  ...      ...    ...     ...        ...     ...     ...   \n",
       "1837  136.79  138.550  ...  39.7900  32.09  69.960  77.860000  112.91  102.02   \n",
       "1838  137.09  136.710  ...  39.8200  33.29  69.590  77.780000  112.62  100.12   \n",
       "1839  130.29  132.940  ...  37.8100  32.97  69.410  76.270000  112.08  100.13   \n",
       "1840  132.55  131.900  ...  36.0000  32.38  70.420  74.550000  113.17   99.13   \n",
       "1841  133.06  128.400  ...  35.7500  31.25  69.850  74.130000  113.27   98.15   \n",
       "\n",
       "        EQIX    HST   INCY     AAL  \n",
       "66    226.65  23.81  73.76  53.910  \n",
       "67    224.32  23.62  74.22  53.875  \n",
       "68    219.43  23.52  71.49  53.040  \n",
       "69    220.15  23.65  74.45  53.010  \n",
       "70    222.78  23.90  73.21  53.660  \n",
       "...      ...    ...    ...     ...  \n",
       "1837  748.12  18.07  73.65  19.340  \n",
       "1838  746.76  17.94  74.88  18.490  \n",
       "1839  742.94  17.70  75.01  17.900  \n",
       "1840  730.49  17.35  74.78  17.310  \n",
       "1841  730.51  17.29  74.76  16.760  \n",
       "\n",
       "[1776 rows x 114 columns]"
      ]
     },
     "execution_count": 4,
     "metadata": {},
     "output_type": "execute_result"
    }
   ],
   "source": [
    "s.df_all_prices"
   ]
  },
  {
   "cell_type": "code",
   "execution_count": 5,
   "metadata": {},
   "outputs": [
    {
     "data": {
      "text/html": [
       "<div>\n",
       "<style scoped>\n",
       "    .dataframe tbody tr th:only-of-type {\n",
       "        vertical-align: middle;\n",
       "    }\n",
       "\n",
       "    .dataframe tbody tr th {\n",
       "        vertical-align: top;\n",
       "    }\n",
       "\n",
       "    .dataframe thead th {\n",
       "        text-align: right;\n",
       "    }\n",
       "</style>\n",
       "<table border=\"1\" class=\"dataframe\">\n",
       "  <thead>\n",
       "    <tr style=\"text-align: right;\">\n",
       "      <th></th>\n",
       "      <th>MELI</th>\n",
       "      <th>SPLK</th>\n",
       "      <th>MRVL</th>\n",
       "      <th>LULU</th>\n",
       "      <th>SIRI</th>\n",
       "      <th>WDAY</th>\n",
       "      <th>PANW</th>\n",
       "      <th>SGEN</th>\n",
       "      <th>CPRT</th>\n",
       "      <th>PAYX</th>\n",
       "      <th>...</th>\n",
       "      <th>DISCB</th>\n",
       "      <th>APA</th>\n",
       "      <th>HOLX</th>\n",
       "      <th>HSIC</th>\n",
       "      <th>AKAM</th>\n",
       "      <th>HAS</th>\n",
       "      <th>EQIX</th>\n",
       "      <th>HST</th>\n",
       "      <th>INCY</th>\n",
       "      <th>AAL</th>\n",
       "    </tr>\n",
       "    <tr>\n",
       "      <th>Dates</th>\n",
       "      <th></th>\n",
       "      <th></th>\n",
       "      <th></th>\n",
       "      <th></th>\n",
       "      <th></th>\n",
       "      <th></th>\n",
       "      <th></th>\n",
       "      <th></th>\n",
       "      <th></th>\n",
       "      <th></th>\n",
       "      <th></th>\n",
       "      <th></th>\n",
       "      <th></th>\n",
       "      <th></th>\n",
       "      <th></th>\n",
       "      <th></th>\n",
       "      <th></th>\n",
       "      <th></th>\n",
       "      <th></th>\n",
       "      <th></th>\n",
       "      <th></th>\n",
       "    </tr>\n",
       "  </thead>\n",
       "  <tbody>\n",
       "    <tr>\n",
       "      <th>2015-01-02</th>\n",
       "      <td>125.85</td>\n",
       "      <td>58.790</td>\n",
       "      <td>14.520</td>\n",
       "      <td>55.34</td>\n",
       "      <td>3.475</td>\n",
       "      <td>80.41</td>\n",
       "      <td>121.42</td>\n",
       "      <td>32.54</td>\n",
       "      <td>18.290</td>\n",
       "      <td>46.24</td>\n",
       "      <td>...</td>\n",
       "      <td>36.1001</td>\n",
       "      <td>63.83</td>\n",
       "      <td>26.380</td>\n",
       "      <td>53.075286</td>\n",
       "      <td>63.25</td>\n",
       "      <td>54.97</td>\n",
       "      <td>226.65</td>\n",
       "      <td>23.81</td>\n",
       "      <td>73.76</td>\n",
       "      <td>53.910</td>\n",
       "    </tr>\n",
       "    <tr>\n",
       "      <th>2015-01-05</th>\n",
       "      <td>124.30</td>\n",
       "      <td>56.840</td>\n",
       "      <td>14.280</td>\n",
       "      <td>55.96</td>\n",
       "      <td>3.400</td>\n",
       "      <td>80.01</td>\n",
       "      <td>123.73</td>\n",
       "      <td>33.05</td>\n",
       "      <td>18.110</td>\n",
       "      <td>46.32</td>\n",
       "      <td>...</td>\n",
       "      <td>36.1001</td>\n",
       "      <td>59.91</td>\n",
       "      <td>26.120</td>\n",
       "      <td>52.600136</td>\n",
       "      <td>61.94</td>\n",
       "      <td>55.13</td>\n",
       "      <td>224.32</td>\n",
       "      <td>23.62</td>\n",
       "      <td>74.22</td>\n",
       "      <td>53.875</td>\n",
       "    </tr>\n",
       "    <tr>\n",
       "      <th>2015-01-06</th>\n",
       "      <td>122.08</td>\n",
       "      <td>55.780</td>\n",
       "      <td>14.825</td>\n",
       "      <td>55.57</td>\n",
       "      <td>3.350</td>\n",
       "      <td>79.42</td>\n",
       "      <td>121.85</td>\n",
       "      <td>31.45</td>\n",
       "      <td>17.905</td>\n",
       "      <td>45.99</td>\n",
       "      <td>...</td>\n",
       "      <td>36.1001</td>\n",
       "      <td>59.26</td>\n",
       "      <td>25.745</td>\n",
       "      <td>52.293712</td>\n",
       "      <td>60.67</td>\n",
       "      <td>54.41</td>\n",
       "      <td>219.43</td>\n",
       "      <td>23.52</td>\n",
       "      <td>71.49</td>\n",
       "      <td>53.040</td>\n",
       "    </tr>\n",
       "    <tr>\n",
       "      <th>2015-01-07</th>\n",
       "      <td>121.84</td>\n",
       "      <td>56.245</td>\n",
       "      <td>15.040</td>\n",
       "      <td>57.65</td>\n",
       "      <td>3.410</td>\n",
       "      <td>79.35</td>\n",
       "      <td>125.53</td>\n",
       "      <td>32.15</td>\n",
       "      <td>17.960</td>\n",
       "      <td>46.83</td>\n",
       "      <td>...</td>\n",
       "      <td>36.1001</td>\n",
       "      <td>58.60</td>\n",
       "      <td>26.400</td>\n",
       "      <td>53.740497</td>\n",
       "      <td>60.16</td>\n",
       "      <td>54.67</td>\n",
       "      <td>220.15</td>\n",
       "      <td>23.65</td>\n",
       "      <td>74.45</td>\n",
       "      <td>53.010</td>\n",
       "    </tr>\n",
       "    <tr>\n",
       "      <th>2015-01-08</th>\n",
       "      <td>123.66</td>\n",
       "      <td>58.450</td>\n",
       "      <td>16.015</td>\n",
       "      <td>59.07</td>\n",
       "      <td>3.540</td>\n",
       "      <td>82.78</td>\n",
       "      <td>127.21</td>\n",
       "      <td>31.74</td>\n",
       "      <td>18.145</td>\n",
       "      <td>47.56</td>\n",
       "      <td>...</td>\n",
       "      <td>36.1001</td>\n",
       "      <td>60.87</td>\n",
       "      <td>27.110</td>\n",
       "      <td>54.496859</td>\n",
       "      <td>61.57</td>\n",
       "      <td>55.00</td>\n",
       "      <td>222.78</td>\n",
       "      <td>23.90</td>\n",
       "      <td>73.21</td>\n",
       "      <td>53.660</td>\n",
       "    </tr>\n",
       "    <tr>\n",
       "      <th>...</th>\n",
       "      <td>...</td>\n",
       "      <td>...</td>\n",
       "      <td>...</td>\n",
       "      <td>...</td>\n",
       "      <td>...</td>\n",
       "      <td>...</td>\n",
       "      <td>...</td>\n",
       "      <td>...</td>\n",
       "      <td>...</td>\n",
       "      <td>...</td>\n",
       "      <td>...</td>\n",
       "      <td>...</td>\n",
       "      <td>...</td>\n",
       "      <td>...</td>\n",
       "      <td>...</td>\n",
       "      <td>...</td>\n",
       "      <td>...</td>\n",
       "      <td>...</td>\n",
       "      <td>...</td>\n",
       "      <td>...</td>\n",
       "      <td>...</td>\n",
       "    </tr>\n",
       "    <tr>\n",
       "      <th>2022-01-13</th>\n",
       "      <td>1131.01</td>\n",
       "      <td>120.400</td>\n",
       "      <td>78.650</td>\n",
       "      <td>336.27</td>\n",
       "      <td>6.360</td>\n",
       "      <td>249.41</td>\n",
       "      <td>498.60</td>\n",
       "      <td>136.79</td>\n",
       "      <td>138.550</td>\n",
       "      <td>126.63</td>\n",
       "      <td>...</td>\n",
       "      <td>39.7900</td>\n",
       "      <td>32.09</td>\n",
       "      <td>69.960</td>\n",
       "      <td>77.860000</td>\n",
       "      <td>112.91</td>\n",
       "      <td>102.02</td>\n",
       "      <td>748.12</td>\n",
       "      <td>18.07</td>\n",
       "      <td>73.65</td>\n",
       "      <td>19.340</td>\n",
       "    </tr>\n",
       "    <tr>\n",
       "      <th>2022-01-14</th>\n",
       "      <td>1122.74</td>\n",
       "      <td>122.620</td>\n",
       "      <td>83.000</td>\n",
       "      <td>328.98</td>\n",
       "      <td>6.180</td>\n",
       "      <td>254.31</td>\n",
       "      <td>499.11</td>\n",
       "      <td>137.09</td>\n",
       "      <td>136.710</td>\n",
       "      <td>125.00</td>\n",
       "      <td>...</td>\n",
       "      <td>39.8200</td>\n",
       "      <td>33.29</td>\n",
       "      <td>69.590</td>\n",
       "      <td>77.780000</td>\n",
       "      <td>112.62</td>\n",
       "      <td>100.12</td>\n",
       "      <td>746.76</td>\n",
       "      <td>17.94</td>\n",
       "      <td>74.88</td>\n",
       "      <td>18.490</td>\n",
       "    </tr>\n",
       "    <tr>\n",
       "      <th>2022-01-18</th>\n",
       "      <td>1100.75</td>\n",
       "      <td>118.050</td>\n",
       "      <td>77.670</td>\n",
       "      <td>332.53</td>\n",
       "      <td>6.110</td>\n",
       "      <td>245.86</td>\n",
       "      <td>502.37</td>\n",
       "      <td>130.29</td>\n",
       "      <td>132.940</td>\n",
       "      <td>123.03</td>\n",
       "      <td>...</td>\n",
       "      <td>37.8100</td>\n",
       "      <td>32.97</td>\n",
       "      <td>69.410</td>\n",
       "      <td>76.270000</td>\n",
       "      <td>112.08</td>\n",
       "      <td>100.13</td>\n",
       "      <td>742.94</td>\n",
       "      <td>17.70</td>\n",
       "      <td>75.01</td>\n",
       "      <td>17.900</td>\n",
       "    </tr>\n",
       "    <tr>\n",
       "      <th>2022-01-19</th>\n",
       "      <td>1060.94</td>\n",
       "      <td>118.780</td>\n",
       "      <td>76.890</td>\n",
       "      <td>330.95</td>\n",
       "      <td>6.100</td>\n",
       "      <td>249.46</td>\n",
       "      <td>519.61</td>\n",
       "      <td>132.55</td>\n",
       "      <td>131.900</td>\n",
       "      <td>121.27</td>\n",
       "      <td>...</td>\n",
       "      <td>36.0000</td>\n",
       "      <td>32.38</td>\n",
       "      <td>70.420</td>\n",
       "      <td>74.550000</td>\n",
       "      <td>113.17</td>\n",
       "      <td>99.13</td>\n",
       "      <td>730.49</td>\n",
       "      <td>17.35</td>\n",
       "      <td>74.78</td>\n",
       "      <td>17.310</td>\n",
       "    </tr>\n",
       "    <tr>\n",
       "      <th>2022-01-20</th>\n",
       "      <td>1091.31</td>\n",
       "      <td>118.100</td>\n",
       "      <td>73.800</td>\n",
       "      <td>322.53</td>\n",
       "      <td>6.040</td>\n",
       "      <td>251.77</td>\n",
       "      <td>519.67</td>\n",
       "      <td>133.06</td>\n",
       "      <td>128.400</td>\n",
       "      <td>120.99</td>\n",
       "      <td>...</td>\n",
       "      <td>35.7500</td>\n",
       "      <td>31.25</td>\n",
       "      <td>69.850</td>\n",
       "      <td>74.130000</td>\n",
       "      <td>113.27</td>\n",
       "      <td>98.15</td>\n",
       "      <td>730.51</td>\n",
       "      <td>17.29</td>\n",
       "      <td>74.76</td>\n",
       "      <td>16.760</td>\n",
       "    </tr>\n",
       "  </tbody>\n",
       "</table>\n",
       "<p>1776 rows × 113 columns</p>\n",
       "</div>"
      ],
      "text/plain": [
       "               MELI     SPLK    MRVL    LULU   SIRI    WDAY    PANW    SGEN  \\\n",
       "Dates                                                                         \n",
       "2015-01-02   125.85   58.790  14.520   55.34  3.475   80.41  121.42   32.54   \n",
       "2015-01-05   124.30   56.840  14.280   55.96  3.400   80.01  123.73   33.05   \n",
       "2015-01-06   122.08   55.780  14.825   55.57  3.350   79.42  121.85   31.45   \n",
       "2015-01-07   121.84   56.245  15.040   57.65  3.410   79.35  125.53   32.15   \n",
       "2015-01-08   123.66   58.450  16.015   59.07  3.540   82.78  127.21   31.74   \n",
       "...             ...      ...     ...     ...    ...     ...     ...     ...   \n",
       "2022-01-13  1131.01  120.400  78.650  336.27  6.360  249.41  498.60  136.79   \n",
       "2022-01-14  1122.74  122.620  83.000  328.98  6.180  254.31  499.11  137.09   \n",
       "2022-01-18  1100.75  118.050  77.670  332.53  6.110  245.86  502.37  130.29   \n",
       "2022-01-19  1060.94  118.780  76.890  330.95  6.100  249.46  519.61  132.55   \n",
       "2022-01-20  1091.31  118.100  73.800  322.53  6.040  251.77  519.67  133.06   \n",
       "\n",
       "               CPRT    PAYX  ...    DISCB    APA    HOLX       HSIC    AKAM  \\\n",
       "Dates                        ...                                              \n",
       "2015-01-02   18.290   46.24  ...  36.1001  63.83  26.380  53.075286   63.25   \n",
       "2015-01-05   18.110   46.32  ...  36.1001  59.91  26.120  52.600136   61.94   \n",
       "2015-01-06   17.905   45.99  ...  36.1001  59.26  25.745  52.293712   60.67   \n",
       "2015-01-07   17.960   46.83  ...  36.1001  58.60  26.400  53.740497   60.16   \n",
       "2015-01-08   18.145   47.56  ...  36.1001  60.87  27.110  54.496859   61.57   \n",
       "...             ...     ...  ...      ...    ...     ...        ...     ...   \n",
       "2022-01-13  138.550  126.63  ...  39.7900  32.09  69.960  77.860000  112.91   \n",
       "2022-01-14  136.710  125.00  ...  39.8200  33.29  69.590  77.780000  112.62   \n",
       "2022-01-18  132.940  123.03  ...  37.8100  32.97  69.410  76.270000  112.08   \n",
       "2022-01-19  131.900  121.27  ...  36.0000  32.38  70.420  74.550000  113.17   \n",
       "2022-01-20  128.400  120.99  ...  35.7500  31.25  69.850  74.130000  113.27   \n",
       "\n",
       "               HAS    EQIX    HST   INCY     AAL  \n",
       "Dates                                             \n",
       "2015-01-02   54.97  226.65  23.81  73.76  53.910  \n",
       "2015-01-05   55.13  224.32  23.62  74.22  53.875  \n",
       "2015-01-06   54.41  219.43  23.52  71.49  53.040  \n",
       "2015-01-07   54.67  220.15  23.65  74.45  53.010  \n",
       "2015-01-08   55.00  222.78  23.90  73.21  53.660  \n",
       "...            ...     ...    ...    ...     ...  \n",
       "2022-01-13  102.02  748.12  18.07  73.65  19.340  \n",
       "2022-01-14  100.12  746.76  17.94  74.88  18.490  \n",
       "2022-01-18  100.13  742.94  17.70  75.01  17.900  \n",
       "2022-01-19   99.13  730.49  17.35  74.78  17.310  \n",
       "2022-01-20   98.15  730.51  17.29  74.76  16.760  \n",
       "\n",
       "[1776 rows x 113 columns]"
      ]
     },
     "execution_count": 5,
     "metadata": {},
     "output_type": "execute_result"
    }
   ],
   "source": [
    "data = s.df_all_prices\n",
    "data1 = data\n",
    "data.set_index('Dates', inplace=True)\n",
    "data"
   ]
  },
  {
   "cell_type": "code",
   "execution_count": 7,
   "metadata": {},
   "outputs": [
    {
     "data": {
      "text/html": [
       "<div>\n",
       "<style scoped>\n",
       "    .dataframe tbody tr th:only-of-type {\n",
       "        vertical-align: middle;\n",
       "    }\n",
       "\n",
       "    .dataframe tbody tr th {\n",
       "        vertical-align: top;\n",
       "    }\n",
       "\n",
       "    .dataframe thead th {\n",
       "        text-align: right;\n",
       "    }\n",
       "</style>\n",
       "<table border=\"1\" class=\"dataframe\">\n",
       "  <thead>\n",
       "    <tr style=\"text-align: right;\">\n",
       "      <th></th>\n",
       "      <th>count</th>\n",
       "      <th>mean</th>\n",
       "      <th>std</th>\n",
       "      <th>min</th>\n",
       "      <th>25%</th>\n",
       "      <th>50%</th>\n",
       "      <th>75%</th>\n",
       "      <th>max</th>\n",
       "    </tr>\n",
       "  </thead>\n",
       "  <tbody>\n",
       "    <tr>\n",
       "      <th>MELI</th>\n",
       "      <td>1776.0</td>\n",
       "      <td>565.075709</td>\n",
       "      <td>519.388398</td>\n",
       "      <td>85.82</td>\n",
       "      <td>166.8400</td>\n",
       "      <td>337.200</td>\n",
       "      <td>676.37500</td>\n",
       "      <td>1984.34</td>\n",
       "    </tr>\n",
       "    <tr>\n",
       "      <th>SPLK</th>\n",
       "      <td>1776.0</td>\n",
       "      <td>104.223266</td>\n",
       "      <td>45.051103</td>\n",
       "      <td>30.86</td>\n",
       "      <td>61.0800</td>\n",
       "      <td>103.875</td>\n",
       "      <td>134.95250</td>\n",
       "      <td>223.59</td>\n",
       "    </tr>\n",
       "    <tr>\n",
       "      <th>MRVL</th>\n",
       "      <td>1776.0</td>\n",
       "      <td>25.583857</td>\n",
       "      <td>16.928659</td>\n",
       "      <td>7.77</td>\n",
       "      <td>14.6975</td>\n",
       "      <td>20.335</td>\n",
       "      <td>27.00250</td>\n",
       "      <td>91.51</td>\n",
       "    </tr>\n",
       "    <tr>\n",
       "      <th>LULU</th>\n",
       "      <td>1776.0</td>\n",
       "      <td>164.974935</td>\n",
       "      <td>120.679434</td>\n",
       "      <td>44.09</td>\n",
       "      <td>63.9850</td>\n",
       "      <td>123.555</td>\n",
       "      <td>243.72500</td>\n",
       "      <td>477.91</td>\n",
       "    </tr>\n",
       "    <tr>\n",
       "      <th>SIRI</th>\n",
       "      <td>1776.0</td>\n",
       "      <td>5.436940</td>\n",
       "      <td>1.067605</td>\n",
       "      <td>3.35</td>\n",
       "      <td>4.1900</td>\n",
       "      <td>5.735</td>\n",
       "      <td>6.24625</td>\n",
       "      <td>7.64</td>\n",
       "    </tr>\n",
       "    <tr>\n",
       "      <th>WDAY</th>\n",
       "      <td>1776.0</td>\n",
       "      <td>145.885090</td>\n",
       "      <td>64.290390</td>\n",
       "      <td>48.90</td>\n",
       "      <td>84.7375</td>\n",
       "      <td>131.045</td>\n",
       "      <td>194.34000</td>\n",
       "      <td>300.90</td>\n",
       "    </tr>\n",
       "    <tr>\n",
       "      <th>PANW</th>\n",
       "      <td>1776.0</td>\n",
       "      <td>217.232534</td>\n",
       "      <td>98.808357</td>\n",
       "      <td>108.01</td>\n",
       "      <td>147.5250</td>\n",
       "      <td>189.015</td>\n",
       "      <td>239.31750</td>\n",
       "      <td>568.34</td>\n",
       "    </tr>\n",
       "    <tr>\n",
       "      <th>SGEN</th>\n",
       "      <td>1776.0</td>\n",
       "      <td>86.006447</td>\n",
       "      <td>48.746648</td>\n",
       "      <td>26.87</td>\n",
       "      <td>49.6675</td>\n",
       "      <td>66.320</td>\n",
       "      <td>132.67750</td>\n",
       "      <td>211.93</td>\n",
       "    </tr>\n",
       "    <tr>\n",
       "      <th>CPRT</th>\n",
       "      <td>1776.0</td>\n",
       "      <td>61.554185</td>\n",
       "      <td>40.456533</td>\n",
       "      <td>16.45</td>\n",
       "      <td>26.4825</td>\n",
       "      <td>50.765</td>\n",
       "      <td>88.45750</td>\n",
       "      <td>159.10</td>\n",
       "    </tr>\n",
       "    <tr>\n",
       "      <th>PAYX</th>\n",
       "      <td>1776.0</td>\n",
       "      <td>71.818190</td>\n",
       "      <td>20.006676</td>\n",
       "      <td>42.92</td>\n",
       "      <td>56.9625</td>\n",
       "      <td>67.115</td>\n",
       "      <td>84.11500</td>\n",
       "      <td>137.38</td>\n",
       "    </tr>\n",
       "  </tbody>\n",
       "</table>\n",
       "</div>"
      ],
      "text/plain": [
       "       count        mean         std     min       25%      50%        75%  \\\n",
       "MELI  1776.0  565.075709  519.388398   85.82  166.8400  337.200  676.37500   \n",
       "SPLK  1776.0  104.223266   45.051103   30.86   61.0800  103.875  134.95250   \n",
       "MRVL  1776.0   25.583857   16.928659    7.77   14.6975   20.335   27.00250   \n",
       "LULU  1776.0  164.974935  120.679434   44.09   63.9850  123.555  243.72500   \n",
       "SIRI  1776.0    5.436940    1.067605    3.35    4.1900    5.735    6.24625   \n",
       "WDAY  1776.0  145.885090   64.290390   48.90   84.7375  131.045  194.34000   \n",
       "PANW  1776.0  217.232534   98.808357  108.01  147.5250  189.015  239.31750   \n",
       "SGEN  1776.0   86.006447   48.746648   26.87   49.6675   66.320  132.67750   \n",
       "CPRT  1776.0   61.554185   40.456533   16.45   26.4825   50.765   88.45750   \n",
       "PAYX  1776.0   71.818190   20.006676   42.92   56.9625   67.115   84.11500   \n",
       "\n",
       "          max  \n",
       "MELI  1984.34  \n",
       "SPLK   223.59  \n",
       "MRVL    91.51  \n",
       "LULU   477.91  \n",
       "SIRI     7.64  \n",
       "WDAY   300.90  \n",
       "PANW   568.34  \n",
       "SGEN   211.93  \n",
       "CPRT   159.10  \n",
       "PAYX   137.38  "
      ]
     },
     "execution_count": 7,
     "metadata": {},
     "output_type": "execute_result"
    }
   ],
   "source": [
    "# pd.set_option('precision', 3)\n",
    "data.describe().T.head(10)"
   ]
  },
  {
   "cell_type": "code",
   "execution_count": 8,
   "metadata": {},
   "outputs": [
    {
     "data": {
      "text/plain": [
       "False"
      ]
     },
     "execution_count": 8,
     "metadata": {},
     "output_type": "execute_result"
    }
   ],
   "source": [
    "data.isnull().values.any()"
   ]
  },
  {
   "cell_type": "code",
   "execution_count": 9,
   "metadata": {},
   "outputs": [
    {
     "data": {
      "text/html": [
       "<div>\n",
       "<style scoped>\n",
       "    .dataframe tbody tr th:only-of-type {\n",
       "        vertical-align: middle;\n",
       "    }\n",
       "\n",
       "    .dataframe tbody tr th {\n",
       "        vertical-align: top;\n",
       "    }\n",
       "\n",
       "    .dataframe thead th {\n",
       "        text-align: right;\n",
       "    }\n",
       "</style>\n",
       "<table border=\"1\" class=\"dataframe\">\n",
       "  <thead>\n",
       "    <tr style=\"text-align: right;\">\n",
       "      <th></th>\n",
       "      <th>returns</th>\n",
       "      <th>volatility</th>\n",
       "    </tr>\n",
       "  </thead>\n",
       "  <tbody>\n",
       "    <tr>\n",
       "      <th>MELI</th>\n",
       "      <td>0.432061</td>\n",
       "      <td>0.467457</td>\n",
       "    </tr>\n",
       "    <tr>\n",
       "      <th>SPLK</th>\n",
       "      <td>0.208453</td>\n",
       "      <td>0.451919</td>\n",
       "    </tr>\n",
       "    <tr>\n",
       "      <th>MRVL</th>\n",
       "      <td>0.326824</td>\n",
       "      <td>0.407994</td>\n",
       "    </tr>\n",
       "    <tr>\n",
       "      <th>LULU</th>\n",
       "      <td>0.341824</td>\n",
       "      <td>0.391163</td>\n",
       "    </tr>\n",
       "    <tr>\n",
       "      <th>SIRI</th>\n",
       "      <td>0.120022</td>\n",
       "      <td>0.271634</td>\n",
       "    </tr>\n",
       "  </tbody>\n",
       "</table>\n",
       "</div>"
      ],
      "text/plain": [
       "       returns  volatility\n",
       "MELI  0.432061    0.467457\n",
       "SPLK  0.208453    0.451919\n",
       "MRVL  0.326824    0.407994\n",
       "LULU  0.341824    0.391163\n",
       "SIRI  0.120022    0.271634"
      ]
     },
     "execution_count": 9,
     "metadata": {},
     "output_type": "execute_result"
    }
   ],
   "source": [
    "#Calculate returns and create a data frame\n",
    "returns = data.pct_change().mean()*266\n",
    "returns = pd.DataFrame(returns)\n",
    "returns.columns = ['returns']\n",
    "\n",
    "#Calculate the volatility\n",
    "returns['volatility'] = data.pct_change().std()*np.sqrt(266)\n",
    "\n",
    "data = returns\n",
    "data.head()"
   ]
  },
  {
   "cell_type": "code",
   "execution_count": 10,
   "metadata": {},
   "outputs": [
    {
     "data": {
      "text/html": [
       "<div>\n",
       "<style scoped>\n",
       "    .dataframe tbody tr th:only-of-type {\n",
       "        vertical-align: middle;\n",
       "    }\n",
       "\n",
       "    .dataframe tbody tr th {\n",
       "        vertical-align: top;\n",
       "    }\n",
       "\n",
       "    .dataframe thead th {\n",
       "        text-align: right;\n",
       "    }\n",
       "</style>\n",
       "<table border=\"1\" class=\"dataframe\">\n",
       "  <thead>\n",
       "    <tr style=\"text-align: right;\">\n",
       "      <th></th>\n",
       "      <th>returns</th>\n",
       "      <th>volatility</th>\n",
       "    </tr>\n",
       "  </thead>\n",
       "  <tbody>\n",
       "    <tr>\n",
       "      <th>MELI</th>\n",
       "      <td>1.524954</td>\n",
       "      <td>1.200754</td>\n",
       "    </tr>\n",
       "    <tr>\n",
       "      <th>SPLK</th>\n",
       "      <td>-0.107312</td>\n",
       "      <td>1.048412</td>\n",
       "    </tr>\n",
       "    <tr>\n",
       "      <th>MRVL</th>\n",
       "      <td>0.756758</td>\n",
       "      <td>0.617778</td>\n",
       "    </tr>\n",
       "    <tr>\n",
       "      <th>LULU</th>\n",
       "      <td>0.866254</td>\n",
       "      <td>0.452768</td>\n",
       "    </tr>\n",
       "    <tr>\n",
       "      <th>SIRI</th>\n",
       "      <td>-0.752829</td>\n",
       "      <td>-0.719088</td>\n",
       "    </tr>\n",
       "  </tbody>\n",
       "</table>\n",
       "</div>"
      ],
      "text/plain": [
       "       returns  volatility\n",
       "MELI  1.524954    1.200754\n",
       "SPLK -0.107312    1.048412\n",
       "MRVL  0.756758    0.617778\n",
       "LULU  0.866254    0.452768\n",
       "SIRI -0.752829   -0.719088"
      ]
     },
     "execution_count": 10,
     "metadata": {},
     "output_type": "execute_result"
    }
   ],
   "source": [
    "#Prepare the scaler\n",
    "scale = StandardScaler().fit(data)\n",
    "\n",
    "#Fit the scaler\n",
    "scaled_data = pd.DataFrame(scale.fit_transform(data), columns=data.columns, index=data.index)\n",
    "X = scaled_data\n",
    "X.head()"
   ]
  },
  {
   "cell_type": "markdown",
   "metadata": {},
   "source": [
    "# KMeans Clustering"
   ]
  },
  {
   "cell_type": "code",
   "execution_count": 11,
   "metadata": {},
   "outputs": [
    {
     "data": {
      "image/png": "[encoded data removed]",
      "text/plain": [
       "<Figure size 1080x360 with 1 Axes>"
      ]
     },
     "metadata": {
      "needs_background": "light"
     },
     "output_type": "display_data"
    }
   ],
   "source": [
    "K = range(1,15)\n",
    "distortions = []\n",
    "\n",
    "#Fit the method\n",
    "for k in K:\n",
    "    kmeans = KMeans(n_clusters = k)\n",
    "    kmeans.fit(X)\n",
    "    distortions.append(kmeans.inertia_)\n",
    "\n",
    "#Plot the results\n",
    "fig = plt.figure(figsize= (15,5))\n",
    "plt.plot(K, distortions, 'bx-')\n",
    "plt.xlabel('Values of K')\n",
    "plt.ylabel('Distortion')\n",
    "plt.title('Elbow Method')\n",
    "plt.grid(True)\n",
    "plt.show()"
   ]
  },
  {
   "cell_type": "code",
   "execution_count": 12,
   "metadata": {},
   "outputs": [
    {
     "data": {
      "text/plain": [
       "4"
      ]
     },
     "execution_count": 12,
     "metadata": {},
     "output_type": "execute_result"
    }
   ],
   "source": [
    "kl = KneeLocator(K, distortions, curve=\"convex\", direction=\"decreasing\")\n",
    "kl.elbow"
   ]
  },
  {
   "cell_type": "code",
   "execution_count": 13,
   "metadata": {},
   "outputs": [
    {
     "data": {
      "image/png": "[encoded data removed]",
      "text/plain": [
       "<Figure size 1080x360 with 1 Axes>"
      ]
     },
     "metadata": {
      "needs_background": "light"
     },
     "output_type": "display_data"
    },
    {
     "name": "stdout",
     "output_type": "stream",
     "text": [
      "Suggested number of clusters:  3\n"
     ]
    }
   ],
   "source": [
    "#For the silhouette method k needs to start from 2\n",
    "K = range(2,15)\n",
    "silhouettes = []\n",
    "\n",
    "#Fit the method\n",
    "for k in K:\n",
    "    kmeans = KMeans(n_clusters=k, random_state=42, n_init=10, init='random')\n",
    "    kmeans.fit(X)\n",
    "    silhouettes.append(silhouette_score(X, kmeans.labels_))\n",
    "\n",
    "#Plot the results\n",
    "fig = plt.figure(figsize=(15,5))\n",
    "plt.plot(K, silhouettes, 'bx-')\n",
    "plt.xlabel('Values of K')\n",
    "plt.ylabel('Silhouette score')\n",
    "plt.title('Silhouette Method')\n",
    "plt.grid(True)\n",
    "plt.show()\n",
    "\n",
    "kl = KneeLocator(K, silhouettes, curve=\"convex\", direction=\"decreasing\")\n",
    "print('Suggested number of clusters: ', kl.elbow)"
   ]
  },
  {
   "cell_type": "code",
   "execution_count": 14,
   "metadata": {},
   "outputs": [
    {
     "data": {
      "image/png": "[encoded data removed]",
      "text/plain": [
       "<Figure size 1296x720 with 2 Axes>"
      ]
     },
     "metadata": {
      "needs_background": "light"
     },
     "output_type": "display_data"
    }
   ],
   "source": [
    "c = 4\n",
    "#Fit the model\n",
    "k_means = KMeans(n_clusters=c)\n",
    "k_means.fit(X)\n",
    "prediction = k_means.predict(X)\n",
    "\n",
    "#Plot the results\n",
    "centroids = k_means.cluster_centers_\n",
    "fig = plt.figure(figsize = (18,10))\n",
    "ax = fig.add_subplot(111)\n",
    "scatter = ax.scatter(X.iloc[:,0],X.iloc[:,1], c=k_means.labels_, cmap=\"rainbow\", label = X.index)\n",
    "ax.set_title('k-Means Cluster Analysis Results')\n",
    "ax.set_xlabel('Mean Return')\n",
    "ax.set_ylabel('Volatility')\n",
    "plt.colorbar(scatter)\n",
    "plt.plot(centroids[:,0],centroids[:,1],'sg',markersize=10)\n",
    "plt.show()"
   ]
  },
  {
   "cell_type": "code",
   "execution_count": 15,
   "metadata": {},
   "outputs": [
    {
     "data": {
      "image/png": "[encoded data removed]",
      "text/plain": [
       "<Figure size 864x576 with 1 Axes>"
      ]
     },
     "metadata": {
      "needs_background": "light"
     },
     "output_type": "display_data"
    }
   ],
   "source": [
    "clustered_series = pd.Series(index=X.index, data=k_means.labels_.flatten())\n",
    "clustered_series_all = pd.Series(index=X.index, data=k_means.labels_.flatten())\n",
    "clustered_series = clustered_series[clustered_series != -1]\n",
    "plt.figure(figsize=(12,8))\n",
    "plt.barh(range(len(clustered_series.value_counts())),clustered_series.value_counts())\n",
    "plt.title('Clusters')\n",
    "plt.xlabel('Stocks per Cluster')\n",
    "plt.ylabel('Cluster Number')\n",
    "plt.show()"
   ]
  },
  {
   "cell_type": "markdown",
   "metadata": {},
   "source": [
    "# Hierarchical Clustering"
   ]
  },
  {
   "cell_type": "code",
   "execution_count": 16,
   "metadata": {},
   "outputs": [
    {
     "data": {
      "image/png": "[encoded data removed]",
      "text/plain": [
       "<Figure size 1080x720 with 1 Axes>"
      ]
     },
     "metadata": {
      "needs_background": "light"
     },
     "output_type": "display_data"
    }
   ],
   "source": [
    "plt.figure(figsize=(15, 10))  \n",
    "plt.title(\"Dendrograms\")  \n",
    "dend = shc.dendrogram(shc.linkage(X, method='ward'))\n"
   ]
  },
  {
   "cell_type": "code",
   "execution_count": 17,
   "metadata": {},
   "outputs": [
    {
     "data": {
      "text/plain": [
       "<matplotlib.lines.Line2D at 0x7f8251ae8760>"
      ]
     },
     "execution_count": 17,
     "metadata": {},
     "output_type": "execute_result"
    },
    {
     "data": {
      "image/png": "[encoded data removed]",
      "text/plain": [
       "<Figure size 1080x720 with 1 Axes>"
      ]
     },
     "metadata": {
      "needs_background": "light"
     },
     "output_type": "display_data"
    }
   ],
   "source": [
    "plt.figure(figsize=(15, 10))  \n",
    "plt.title(\"Dendrogram\")  \n",
    "dend = shc.dendrogram(shc.linkage(X, method='ward'))\n",
    "plt.axhline(y=13.5, color='purple', linestyle='--')"
   ]
  },
  {
   "cell_type": "code",
   "execution_count": 18,
   "metadata": {},
   "outputs": [
    {
     "data": {
      "image/png": "[encoded data removed]",
      "text/plain": [
       "<Figure size 1080x720 with 2 Axes>"
      ]
     },
     "metadata": {
      "needs_background": "light"
     },
     "output_type": "display_data"
    }
   ],
   "source": [
    "#Fit the model\n",
    "clusters = 4\n",
    "hc = AgglomerativeClustering(n_clusters= clusters, affinity='euclidean', linkage='ward')\n",
    "labels = hc.fit_predict(X)\n",
    "\n",
    "#Plot the results\n",
    "fig = plt.figure(figsize=(15,10))\n",
    "ax = fig.add_subplot(111)\n",
    "scatter = ax.scatter(X.iloc[:,0], X.iloc[:,1], c=labels, cmap='rainbow')\n",
    "ax.set_title('Hierarchical Clustering Results')\n",
    "ax.set_xlabel('Mean Return')\n",
    "ax.set_ylabel('Volatility')\n",
    "plt.colorbar(scatter)\n",
    "plt.show()"
   ]
  },
  {
   "cell_type": "markdown",
   "metadata": {
    "tags": []
   },
   "source": [
    "# Affinity Propagation Clustering"
   ]
  },
  {
   "cell_type": "code",
   "execution_count": 19,
   "metadata": {},
   "outputs": [
    {
     "data": {
      "image/png": "[encoded data removed]",
      "text/plain": [
       "<Figure size 1080x720 with 2 Axes>"
      ]
     },
     "metadata": {
      "needs_background": "light"
     },
     "output_type": "display_data"
    }
   ],
   "source": [
    "ap = AffinityPropagation()\n",
    "ap.fit(X)\n",
    "labels1 = ap.predict(X)\n",
    "\n",
    "#Plot the results\n",
    "fig = plt.figure(figsize=(15,10))\n",
    "ax = fig.add_subplot(111)\n",
    "scatter = ax.scatter(X.iloc[:,0], X.iloc[:,1], c=labels1, cmap='rainbow')\n",
    "ax.set_title('Affinity Propagation Clustering Results')\n",
    "ax.set_xlabel('Mean Return')\n",
    "ax.set_ylabel('Volatility')\n",
    "plt.colorbar(scatter)\n",
    "plt.show()"
   ]
  },
  {
   "cell_type": "code",
   "execution_count": 20,
   "metadata": {},
   "outputs": [
    {
     "name": "stdout",
     "output_type": "stream",
     "text": [
      "The number of clusters is: 15\n"
     ]
    },
    {
     "data": {
      "text/plain": [
       "<Figure size 432x288 with 0 Axes>"
      ]
     },
     "metadata": {},
     "output_type": "display_data"
    },
    {
     "data": {
      "image/png": "[encoded data removed]",
      "text/plain": [
       "<Figure size 1080x720 with 1 Axes>"
      ]
     },
     "metadata": {
      "needs_background": "light"
     },
     "output_type": "display_data"
    }
   ],
   "source": [
    "#Extract the cluster centers and labels\n",
    "cci = ap.cluster_centers_indices_\n",
    "labels2 = ap.labels_\n",
    "\n",
    "#Print their number\n",
    "clusters = len(cci)\n",
    "print('The number of clusters is:',clusters)\n",
    "\n",
    "#Plot the results\n",
    "X_ap = np.asarray(X)\n",
    "plt.close('all')\n",
    "plt.figure(1)\n",
    "plt.clf\n",
    "fig=plt.figure(figsize=(15,10))\n",
    "colors = cycle('cmykrgbcmykrgbcmykrgbcmykrgb')\n",
    "for k, col in zip(range(clusters),colors):\n",
    "    cluster_members = labels2 == k\n",
    "    cluster_center = X_ap[cci[k]]\n",
    "    plt.plot(X_ap[cluster_members, 0], X_ap[cluster_members, 1], col + '.')\n",
    "    plt.plot(cluster_center[0], cluster_center[1], 'o', markerfacecolor=col, markeredgecolor='k', markersize=12)\n",
    "    for x in X_ap[cluster_members]:\n",
    "        plt.plot([cluster_center[0], x[0]], [cluster_center[1], x[1]], col)\n",
    "\n",
    "plt.show()"
   ]
  },
  {
   "cell_type": "markdown",
   "metadata": {},
   "source": [
    "# Compare clustering models"
   ]
  },
  {
   "cell_type": "code",
   "execution_count": 21,
   "metadata": {},
   "outputs": [
    {
     "name": "stdout",
     "output_type": "stream",
     "text": [
      "k-Means Clustering 0.4139433408285051\n",
      "Hierarchical Clustering 0.3973133577592941\n",
      "Affinity Propagation Clustering 0.39862957785669323\n"
     ]
    }
   ],
   "source": [
    "print(\"k-Means Clustering\", metrics.silhouette_score(X, k_means.labels_, metric='euclidean'))\n",
    "print(\"Hierarchical Clustering\", metrics.silhouette_score(X, hc.fit_predict(X), metric='euclidean'))\n",
    "print(\"Affinity Propagation Clustering\", metrics.silhouette_score(X, ap.labels_, metric='euclidean'))"
   ]
  },
  {
   "cell_type": "markdown",
   "metadata": {},
   "source": [
    "# Extract the trading pairs"
   ]
  },
  {
   "cell_type": "code",
   "execution_count": 22,
   "metadata": {},
   "outputs": [
    {
     "name": "stdout",
     "output_type": "stream",
     "text": [
      "Number of clusters: 4\n",
      "Number of Pairs: 4522\n"
     ]
    }
   ],
   "source": [
    "cluster_size_limit = 1000\n",
    "counts = clustered_series.value_counts()\n",
    "ticker_count = counts[(counts>1) & (counts<=cluster_size_limit)]\n",
    "print (\"Number of clusters: %d\" % len(ticker_count))\n",
    "print (\"Number of Pairs: %d\" % (ticker_count*(ticker_count-1)).sum())"
   ]
  },
  {
   "cell_type": "code",
   "execution_count": 23,
   "metadata": {},
   "outputs": [],
   "source": [
    "def find_cointegrated_pairs(data, significance=0.05):\n",
    "    n = data.shape[1]    \n",
    "    score_matrix = np.zeros((n, n))\n",
    "    pvalue_matrix = np.ones((n, n))\n",
    "    keys = data.keys()\n",
    "    pairs = []\n",
    "    for i in range(1):\n",
    "        for j in range(i+1, n):\n",
    "            S1 = data[keys[i]]            \n",
    "            S2 = data[keys[j]]\n",
    "            result = coint(S1, S2)\n",
    "            score = result[0]\n",
    "            pvalue = result[1]\n",
    "            score_matrix[i, j] = score\n",
    "            pvalue_matrix[i, j] = pvalue\n",
    "            if pvalue < significance:\n",
    "                pairs.append((keys[i], keys[j]))\n",
    "    return score_matrix, pvalue_matrix, pairs"
   ]
  },
  {
   "cell_type": "code",
   "execution_count": 26,
   "metadata": {},
   "outputs": [
    {
     "name": "stdout",
     "output_type": "stream",
     "text": [
      "Number of pairs: 6\n",
      "In those pairs, we found 9 unique tickers.\n",
      "[('SIRI', 'MAR'), ('SIRI', 'GILD'), ('SIRI', 'INTC'), ('MELI', 'SGEN'), ('SPLK', 'VRTX'), ('SPLK', 'APA')]\n"
     ]
    }
   ],
   "source": [
    "from statsmodels.tsa.stattools import coint\n",
    "\n",
    "cluster_dict = {}\n",
    "\n",
    "for i, clust in enumerate(ticker_count.index):\n",
    "    tickers = clustered_series[clustered_series == clust].index\n",
    "    score_matrix, pvalue_matrix, pairs = find_cointegrated_pairs(data1[tickers])\n",
    "    cluster_dict[clust] = {}\n",
    "    cluster_dict[clust]['score_matrix'] = score_matrix\n",
    "    cluster_dict[clust]['pvalue_matrix'] = pvalue_matrix\n",
    "    cluster_dict[clust]['pairs'] = pairs\n",
    "    \n",
    "pairs = []   \n",
    "for cluster in cluster_dict.keys():\n",
    "    pairs.extend(cluster_dict[cluster]['pairs'])\n",
    "    \n",
    "print (\"Number of pairs:\", len(pairs))\n",
    "print (\"In those pairs, we found %d unique tickers.\" % len(np.unique(pairs)))\n",
    "print(pairs)"
   ]
  },
  {
   "cell_type": "markdown",
   "metadata": {},
   "source": [
    "___"
   ]
  },
  {
   "cell_type": "markdown",
   "metadata": {},
   "source": [
    "# Get best pairs function"
   ]
  },
  {
   "cell_type": "code",
   "execution_count": 30,
   "metadata": {},
   "outputs": [],
   "source": [
    "from statsmodels.tsa.stattools import coint"
   ]
  },
  {
   "cell_type": "code",
   "execution_count": 44,
   "metadata": {},
   "outputs": [
    {
     "name": "stderr",
     "output_type": "stream",
     "text": [
      "/opt/conda/lib/python3.9/site-packages/pandas/core/arrays/datetimes.py:2199: FutureWarning: The parsing of 'now' in pd.to_datetime without `utc=True` is deprecated. In a future version, this will match Timestamp('now') and Timestamp.now()\n",
      "  result, tz_parsed = tslib.array_to_datetime(\n"
     ]
    }
   ],
   "source": [
    "s = pair_selection.Selection(start_date=\"2015-01-01\") # adjustment=False"
   ]
  },
  {
   "cell_type": "code",
   "execution_count": 45,
   "metadata": {},
   "outputs": [],
   "source": [
    "def get_best_pairs(df_prices, start_date='', end_date=''):\n",
    "    # Retrieve only the prices between the two specified dates\n",
    "    mask = (df_prices['Dates'] >= start_date) & (df_prices['Dates'] <= end_date)\n",
    "    data = df_prices.loc[mask]\n",
    "    \n",
    "    data.set_index('Dates', inplace=True)\n",
    "    data1 = data.copy(deep=True)\n",
    "    \n",
    "    #Calculate returns and create a data frame\n",
    "    returns = data.pct_change().mean()*266\n",
    "    returns = pd.DataFrame(returns)\n",
    "    returns.columns = ['returns']\n",
    "\n",
    "    #Calculate the volatility\n",
    "    returns['volatility'] = data.pct_change().std()*np.sqrt(266)\n",
    "\n",
    "    data = returns\n",
    "    \n",
    "    #Prepare the scaler\n",
    "    scale = StandardScaler().fit(data)\n",
    "\n",
    "    #Fit the scaler\n",
    "    scaled_data = pd.DataFrame(scale.fit_transform(data), columns=data.columns, index=data.index)\n",
    "    X = scaled_data\n",
    "    \n",
    "    K = range(1,15)\n",
    "    distortions = []\n",
    "\n",
    "    #Fit the method\n",
    "    for k in K:\n",
    "        kmeans = KMeans(n_clusters = k)\n",
    "        kmeans.fit(X)\n",
    "        distortions.append(kmeans.inertia_)\n",
    "    \n",
    "    kl = KneeLocator(K, distortions, curve=\"convex\", direction=\"decreasing\")\n",
    "    c = kl.elbow\n",
    "\n",
    "    #Fit the model\n",
    "    k_means = KMeans(n_clusters=c)\n",
    "    k_means.fit(X)\n",
    "    prediction = k_means.predict(X)\n",
    "    \n",
    "    clustered_series = pd.Series(index=X.index, data=k_means.labels_.flatten())\n",
    "    clustered_series_all = pd.Series(index=X.index, data=k_means.labels_.flatten())\n",
    "    clustered_series = clustered_series[clustered_series != -1]\n",
    "    \n",
    "    cluster_size_limit = 1000\n",
    "    counts = clustered_series.value_counts()\n",
    "    ticker_count = counts[(counts>1) & (counts<=cluster_size_limit)]\n",
    "    \n",
    "    cluster_dict = {}\n",
    "\n",
    "    for i, clust in enumerate(ticker_count.index):\n",
    "        tickers = clustered_series[clustered_series == clust].index\n",
    "        score_matrix, pvalue_matrix, pairs = find_cointegrated_pairs(data1[tickers])\n",
    "        cluster_dict[clust] = {}\n",
    "        cluster_dict[clust]['score_matrix'] = score_matrix\n",
    "        cluster_dict[clust]['pvalue_matrix'] = pvalue_matrix\n",
    "        cluster_dict[clust]['pairs'] = pairs\n",
    "\n",
    "    pairs = []   \n",
    "    for cluster in cluster_dict.keys():\n",
    "        pairs.extend(cluster_dict[cluster]['pairs'])\n",
    "\n",
    "    # print (\"Number of pairs:\", len(pairs))\n",
    "    # print (\"In those pairs, we found %d unique tickers.\" % len(np.unique(pairs)))\n",
    "    # print(pairs)\n",
    "    return pairs"
   ]
  },
  {
   "cell_type": "code",
   "execution_count": 46,
   "metadata": {},
   "outputs": [],
   "source": [
    "prices = s.df_all_prices\n",
    "top = get_best_pairs(prices, \"2015-01-01\", \"2022-01-23\")"
   ]
  },
  {
   "cell_type": "code",
   "execution_count": 47,
   "metadata": {},
   "outputs": [
    {
     "data": {
      "text/plain": [
       "[('SIRI', 'MAR'),\n",
       " ('SIRI', 'GILD'),\n",
       " ('SIRI', 'INTC'),\n",
       " ('MELI', 'SGEN'),\n",
       " ('SPLK', 'VRTX'),\n",
       " ('SPLK', 'APA')]"
      ]
     },
     "execution_count": 47,
     "metadata": {},
     "output_type": "execute_result"
    }
   ],
   "source": [
    "top"
   ]
  },
  {
   "cell_type": "code",
   "execution_count": 51,
   "metadata": {},
   "outputs": [
    {
     "data": {
      "text/plain": [
       "[['SIRI', 'MAR'],\n",
       " ['SIRI', 'GILD'],\n",
       " ['SIRI', 'INTC'],\n",
       " ['MELI', 'SGEN'],\n",
       " ['SPLK', 'VRTX'],\n",
       " ['SPLK', 'APA']]"
      ]
     },
     "execution_count": 51,
     "metadata": {},
     "output_type": "execute_result"
    }
   ],
   "source": [
    "l = [[top[i][0], top[i][1]] for i in range(len(top))]\n",
    "l"
   ]
  },
  {
   "cell_type": "markdown",
   "metadata": {},
   "source": [
    "# Get all time best pairs"
   ]
  },
  {
   "cell_type": "code",
   "execution_count": 67,
   "metadata": {},
   "outputs": [],
   "source": [
    "from statsmodels.tsa.stattools import coint\n",
    "from dateutil.relativedelta import relativedelta\n",
    "from datetime import datetime, date\n",
    "import json"
   ]
  },
  {
   "cell_type": "code",
   "execution_count": 68,
   "metadata": {},
   "outputs": [],
   "source": [
    "start_date=\"2015-01-01\"\n",
    "interval=6\n",
    "repetition=1\n",
    "filename=\"ml_best_pairs\""
   ]
  },
  {
   "cell_type": "code",
   "execution_count": 69,
   "metadata": {},
   "outputs": [
    {
     "name": "stderr",
     "output_type": "stream",
     "text": [
      "/opt/conda/lib/python3.9/site-packages/pandas/core/arrays/datetimes.py:2199: FutureWarning: The parsing of 'now' in pd.to_datetime without `utc=True` is deprecated. In a future version, this will match Timestamp('now') and Timestamp.now()\n",
      "  result, tz_parsed = tslib.array_to_datetime(\n"
     ]
    }
   ],
   "source": [
    "s = pair_selection.Selection(start_date=start_date) "
   ]
  },
  {
   "cell_type": "code",
   "execution_count": 70,
   "metadata": {},
   "outputs": [],
   "source": [
    "def add_months(start_date, interval):\n",
    "    \"\"\"From a starting date in string format 'YYYY-MM-DD', return the same format date after an interval of X month(s) later.\"\"\"\n",
    "    date_format = '%Y-%m-%d'\n",
    "    dtObj = datetime.strptime(start_date, date_format)\n",
    "    # Add months to a given datetime object\n",
    "    future_date = dtObj + relativedelta(months=interval)\n",
    "    # Convert datetime object to string in required format\n",
    "    future_date_str = future_date.strftime(date_format)\n",
    "    return future_date_str"
   ]
  },
  {
   "cell_type": "code",
   "execution_count": 71,
   "metadata": {},
   "outputs": [],
   "source": [
    "end_date = add_months(start_date, interval)\n",
    "prices = s.df_all_prices\n",
    "\n",
    "# To know when to stop the loop: the month and year of the last saved price\n",
    "last_date = prices.iloc[-1]['Dates'] \n",
    "last_year = last_date.strftime('%Y')\n",
    "last_month = last_date.strftime('%m')\n",
    "\n",
    "best_pairs_dict = {}\n",
    "while True:\n",
    "    # Get the best pairs of a specific period\n",
    "    top = get_best_pairs(prices, start_date, end_date)\n",
    "    best_pairs_dict[end_date] = [[top[i][0], top[i][1]] for i in range(len(top))]\n",
    "    # increment start and end for the get_best_pairs() computation\n",
    "    start_date = add_months(start_date, repetition)\n",
    "    end_date = add_months(end_date, repetition)\n",
    "    # check if we've reached the month and year of the last saved price\n",
    "    splt = end_date.split('-')    \n",
    "    if splt[0] == last_year and splt[1] == last_month:\n",
    "        break\n",
    "\n",
    "# Save the results in a json for backtesting purpose\n",
    "with open(filename + \".json\", \"w\") as f:\n",
    "    json.dump(best_pairs_dict, f)"
   ]
  },
  {
   "cell_type": "code",
   "execution_count": null,
   "metadata": {},
   "outputs": [],
   "source": []
  }
 ],
 "metadata": {
  "kernelspec": {
   "display_name": "Python 3 (ipykernel)",
   "language": "python",
   "name": "python3"
  },
  "language_info": {
   "codemirror_mode": {
    "name": "ipython",
    "version": 3
   },
   "file_extension": ".py",
   "mimetype": "text/x-python",
   "name": "python",
   "nbconvert_exporter": "python",
   "pygments_lexer": "ipython3",
   "version": "3.9.7"
  }
 },
 "nbformat": 4,
 "nbformat_minor": 4
}
